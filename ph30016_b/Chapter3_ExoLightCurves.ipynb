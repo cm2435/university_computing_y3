{
 "cells": [
  {
   "cell_type": "markdown",
   "metadata": {},
   "source": [
    "# <u>Chapter 3: Introduction to your Kepler science lightcurve</u>"
   ]
  },
  {
   "cell_type": "markdown",
   "metadata": {},
   "source": [
    "<div class=\"alert alert-block alert-info\">\n",
    "\n",
    "### This Notebook will give you the tools to:\n",
    "\n",
    "- open Kepler science lighcurves\n",
    "- understand data structure in fits files\n",
    "- understand basic features of data\n",
    "- start with fitting your dataset\n",
    "\n",
    "### What you should achieve:\n",
    "\n",
    "- plot and inspect data\n",
    "- identify transits\n",
    "- make a plan for modelling\n",
    "\n",
    "### What's next:\n",
    "after you have completed this notebook:\n",
    "\n",
    "- perform detailed modelling of your data\n",
    "- write up the summary of your modelling\n",
    "- collect your results for the comparison with other datasets\n",
    "    \n",
    "### Table of contents:\n",
    "    \n",
    "- [1. Reading Kepler data](#sec:keplerdata)\n",
    "- [2. Step by step guide to your data](#sec:dataguide)\n",
    "- [Summary](#sec:summary)"
   ]
  },
  {
   "cell_type": "markdown",
   "metadata": {},
   "source": [
    "<div class=\"alert alert-block alert-warning\">\n",
    "    \n",
    "<b>Make sure to edit the box below to match your assigned object number.</b>"
   ]
  },
  {
   "cell_type": "code",
   "execution_count": 1,
   "metadata": {},
   "outputs": [],
   "source": [
    "#Necessary imports\n",
    "from astropy.io import fits #used to open fits files in which data are stored\n",
    "import matplotlib.pyplot as plt #plotting\n",
    "import glob\n",
    "#add here the source number assigned to you, '1' (Team Osiris) or '2' (Team Dagon)\n",
    "#Check Moodle to see which object has been assigned to you\n",
    "mykepler = '1' "
   ]
  },
  {
   "cell_type": "markdown",
   "metadata": {},
   "source": [
    "<a id=\"sec:keplerdata\"></a>\n",
    "## 1. Reading Kepler data"
   ]
  },
  {
   "cell_type": "markdown",
   "metadata": {},
   "source": [
    "First, we will have a look at the dataset, we have given you the fits dataset exactly as provided by Kepler, you can download additional datasets [on the Kepler archive](https://archive.stsci.edu/kepler/). We have though made the header anonymous so you cannot see which source you are working with. "
   ]
  },
  {
   "cell_type": "code",
   "execution_count": 2,
   "metadata": {},
   "outputs": [],
   "source": [
    "#Fits files are open like this:\n",
    "lc = fits.open('Data/Object%slc/kplr%s_1.fits'%(mykepler, mykepler))"
   ]
  },
  {
   "cell_type": "markdown",
   "metadata": {},
   "source": [
    "Fits files are common in astrophysics, they have different extensions, which can be images or tables. The information discribing the data is stored in the header."
   ]
  },
  {
   "cell_type": "code",
   "execution_count": 3,
   "metadata": {},
   "outputs": [
    {
     "data": {
      "text/plain": [
       "[<astropy.io.fits.hdu.image.PrimaryHDU object at 0x7f9a303f23d0>, <astropy.io.fits.hdu.table.BinTableHDU object at 0x7f9a30389520>, <astropy.io.fits.hdu.image.ImageHDU object at 0x7f9a2f688790>]"
      ]
     },
     "execution_count": 3,
     "metadata": {},
     "output_type": "execute_result"
    }
   ],
   "source": [
    "lc"
   ]
  },
  {
   "cell_type": "code",
   "execution_count": 4,
   "metadata": {},
   "outputs": [
    {
     "data": {
      "text/plain": [
       "SIMPLE  =                    T / conforms to FITS standards                     \n",
       "BITPIX  =                    8 / array data type                                \n",
       "NAXIS   =                    0 / number of array dimensions                     \n",
       "EXTEND  =                    T / file contains extensions                       \n",
       "NEXTEND =                    2 / number of standard extensions                  \n",
       "EXTNAME = 'PRIMARY '           / name of extension                              \n",
       "EXTVER  =                    1 / extension version number (not format version)  \n",
       "ORIGIN  = 'NASA/Ames'          / institution responsible for creating this file \n",
       "DATE    = '2015-09-09'         / file creation date.                            \n",
       "CREATOR = '826630 FluxExporter2PipelineModule' / pipeline job and program used t\n",
       "PROCVER = 'svn+ssh://murzim/repo/soc/tags/release/9.3.22 r60269' / SW version   \n",
       "FILEVER = '6.1     '           / file format version                            \n",
       "TIMVERSN= 'OGIP/93-003'        / OGIP memo number for file format               \n",
       "TELESCOP= 'Kepler  '           / telescope                                      \n",
       "INSTRUME= 'Kepler Photometer'  / detector type                                  \n",
       "OBJECT  = 'None of your business' / string version of target id                 \n",
       "KEPLERID= 'None of your business' / unique Kepler target identifier             \n",
       "CHANNEL =                   76 / CCD channel                                    \n",
       "SKYGROUP=                   72 / roll-independent location of channel           \n",
       "MODULE  =                   22 / CCD module                                     \n",
       "OUTPUT  =                    4 / CCD output                                     \n",
       "QUARTER =                    3 / Observing quarter                              \n",
       "SEASON  =                    1 / mission season during which data was collected \n",
       "DATA_REL=                   25 / data release version number                    \n",
       "OBSMODE = 'long cadence'       / observing mode                                 \n",
       "MISSION = 'Kepler  '           / Mission name                                   \n",
       "TTABLEID=                   26 / target table id                                \n",
       "RADESYS = 'ICRS    '           / reference frame of celestial coordinates       \n",
       "RA_OBJ  = 'None of your business' / [deg] right ascension                       \n",
       "DEC_OBJ = 'None of your business' / [deg] declination                           \n",
       "EQUINOX =               2000.0 / equinox of celestial coordinate system         \n",
       "PMRA    =               0.0056 / [arcsec/yr] RA proper motion                   \n",
       "PMDEC   =              -0.0125 / [arcsec/yr] Dec proper motion                  \n",
       "PMTOTAL =               0.0137 / [arcsec/yr] total proper motion                \n",
       "PARALLAX=                      / [arcsec] parallax                              \n",
       "GLON    = 'None of your business' / [deg] galactic longitude                    \n",
       "GLAT    = 'None of your business' / [deg] galactic latitude                     \n",
       "GMAG    =               14.247 / [mag] SDSS g band magnitude                    \n",
       "RMAG    =               13.731 / [mag] SDSS r band magnitude                    \n",
       "IMAG    =               13.613 / [mag] SDSS i band magnitude                    \n",
       "ZMAG    =               13.581 / [mag] SDSS z band magnitude                    \n",
       "D51MAG  =               14.043 / [mag] D51 magnitude,                           \n",
       "JMAG    =               12.710 / [mag] J band magnitude from 2MASS              \n",
       "HMAG    =               12.391 / [mag] H band magnitude from 2MASS              \n",
       "KMAG    =               12.336 / [mag] K band magnitude from 2MASS              \n",
       "KEPMAG  =               13.803 / [mag] Kepler magnitude (Kp)                    \n",
       "GRCOLOR =                0.516 / [mag] (g-r) color, SDSS bands                  \n",
       "JKCOLOR =                0.374 / [mag] (J-K) color, 2MASS bands                 \n",
       "GKCOLOR =                1.911 / [mag] (g-K) color, SDSS g - 2MASS K            \n",
       "TEFF    =                 5779 / [K] Effective temperature                      \n",
       "LOGG    =                4.491 / [cm/s2] log10 surface gravity                  \n",
       "FEH     =                0.120 / [log10([Fe/H])]  metallicity                   \n",
       "EBMINUSV=                0.073 / [mag] E(B-V) reddening                         \n",
       "AV      =                0.227 / [mag] A_v extinction                           \n",
       "RADIUS  =                0.956 / [solar radii] stellar radius                   \n",
       "TMINDEX = 'None of your business' / unique 2MASS catalog ID                     \n",
       "SCPID   =                      / unique SCP processing ID                       \n",
       "CHECKSUM= 'NEF4QDD3NDD3NDD3'   / HDU checksum updated 2019-09-17T17:12:24       \n",
       "DATASUM = '0       '           / data unit checksum updated 2019-09-17T17:12:24 "
      ]
     },
     "execution_count": 4,
     "metadata": {},
     "output_type": "execute_result"
    }
   ],
   "source": [
    "#The header for the first extension can be accesses like this:\n",
    "lc[0].header\n",
    "#It contains basic information about the object (some of those removed here)"
   ]
  },
  {
   "cell_type": "markdown",
   "metadata": {},
   "source": [
    "**You will see some of the header keywords to read 'None of your business', this is because we have anonymized the dataset for you. "
   ]
  },
  {
   "cell_type": "code",
   "execution_count": 5,
   "metadata": {},
   "outputs": [
    {
     "data": {
      "text/plain": [
       "<matplotlib.image.AxesImage at 0x7f9a2eef09a0>"
      ]
     },
     "execution_count": 5,
     "metadata": {},
     "output_type": "execute_result"
    },
    {
     "data": {
      "image/png": "[encoded data removed]",
      "text/plain": [
       "<Figure size 432x288 with 1 Axes>"
      ]
     },
     "metadata": {
      "needs_background": "light"
     },
     "output_type": "display_data"
    }
   ],
   "source": [
    "#The last extension holds a small image of the source:\n",
    "plt.imshow(lc[2].data)"
   ]
  },
  {
   "cell_type": "code",
   "execution_count": 6,
   "metadata": {},
   "outputs": [
    {
     "data": {
      "text/plain": [
       "XTENSION= 'IMAGE   '           / marks the beginning of a new HDU               \n",
       "BITPIX  =                   32 / array data type                                \n",
       "NAXIS   =                    2 / number of array dimensions                     \n",
       "NAXIS1  =                    6 / length of first array dimension                \n",
       "NAXIS2  =                    6 / length of second array dimension               \n",
       "PCOUNT  =                    0 / group parameter count (not used)               \n",
       "GCOUNT  =                    1 / group count (not used)                         \n",
       "INHERIT =                    T / inherit the primary header                     \n",
       "EXTNAME = 'APERTURE'           / name of extension                              \n",
       "EXTVER  =                    1 / extension version number (not format version)  \n",
       "TELESCOP= 'Kepler  '           / telescope                                      \n",
       "INSTRUME= 'Kepler Photometer'  / detector type                                  \n",
       "OBJECT  = 'None of your business' / string version of target id                 \n",
       "KEPLERID= 'None of your business' / unique Kepler target identifier             \n",
       "RADESYS = 'ICRS    '           / reference frame of celestial coordinates       \n",
       "RA_OBJ  = 'None of your business' / [deg] right ascension                       \n",
       "DEC_OBJ = 'None of your business' / [deg] declination                           \n",
       "EQUINOX =               2000.0 / equinox of celestial coordinate system         \n",
       "WCSAXES =                    2 / number of WCS axes                             \n",
       "CTYPE1  = 'RA---TAN'           / right ascension coordinate type                \n",
       "CTYPE2  = 'DEC--TAN'           / declination coordinate type                    \n",
       "CRPIX1  =   3.6309199370348324 / [pixel] reference pixel along image axis 1     \n",
       "CRPIX2  =    3.517625435632965 / [pixel] reference pixel along image axis 2     \n",
       "CRVAL1  =   285.57396900000003 / [deg] right ascension at reference pixel       \n",
       "CRVAL2  =              38.4009 / [deg] declination at reference pixel           \n",
       "CUNIT1  = 'deg     '           / physical unit in column dimension              \n",
       "CUNIT2  = 'deg     '           / physical unit in row dimension                 \n",
       "CDELT1  =   -0.001099111746806 / [deg] pixel scale in RA dimension              \n",
       "CDELT2  = 0.001099111746805884 / [deg] pixel scale in Dec dimension             \n",
       "PC1_1   =  -0.5904154849905418 / linear transformation element cos(th)          \n",
       "PC1_2   =  -0.8008780791745466 / linear transformation element -sin(th)         \n",
       "PC2_1   =  -0.8090792837129865 / linear transformation element sin(th)          \n",
       "PC2_2   =   0.5962345946357837 / linear transformation element cos(th)          \n",
       "WCSNAMEP= 'PHYSICAL'           / name of world coordinate system alternate P    \n",
       "WCSAXESP=                    2 / number of WCS physical axes                    \n",
       "CTYPE1P = 'RAWX    '           / physical WCS axis 1 type CCD col               \n",
       "CUNIT1P = 'PIXEL   '           / physical WCS axis 1 unit                       \n",
       "CRPIX1P =                    1 / reference CCD column                           \n",
       "CRVAL1P =                 1097 / value at reference CCD column                  \n",
       "CDELT1P =                  1.0 / physical WCS axis 1 step                       \n",
       "CTYPE2P = 'RAWY    '           / physical WCS axis 2 type CCD row               \n",
       "CUNIT2P = 'PIXEL   '           / physical WCS axis 2 units                      \n",
       "CRPIX2P =                    1 / reference CCD row                              \n",
       "CRVAL2P =                  271 / value at reference CCD row                     \n",
       "CDELT2P =                  1.0 / physical WCS axis 2 step                       \n",
       "NPIXSAP =                    4 / Number of pixels in optimal aperture           \n",
       "NPIXMISS=                    0 / Number of op. aperture pixels not collected    \n",
       "CHECKSUM= 'ZQDffNBZZNBffNBZ'   / HDU checksum updated 2019-09-17T17:12:24       \n",
       "DATASUM = '40      '           / data unit checksum updated 2019-09-17T17:12:24 "
      ]
     },
     "execution_count": 6,
     "metadata": {},
     "output_type": "execute_result"
    }
   ],
   "source": [
    "#It also has a header that gives more information\n",
    "lc[2].header"
   ]
  },
  {
   "cell_type": "code",
   "execution_count": 7,
   "metadata": {},
   "outputs": [
    {
     "data": {
      "text/plain": [
       "<astropy.io.fits.hdu.table.BinTableHDU at 0x7f9a30389520>"
      ]
     },
     "execution_count": 7,
     "metadata": {},
     "output_type": "execute_result"
    }
   ],
   "source": [
    "#lets have a look at the second extension\n",
    "lc[1]\n",
    "#This is a table extension"
   ]
  },
  {
   "cell_type": "code",
   "execution_count": 8,
   "metadata": {},
   "outputs": [
    {
     "data": {
      "text/plain": [
       "XTENSION= 'BINTABLE'           / marks the beginning of a new HDU               \n",
       "BITPIX  =                    8 / array data type                                \n",
       "NAXIS   =                    2 / number of array dimensions                     \n",
       "NAXIS1  =                  100 / length of first array dimension                \n",
       "NAXIS2  =                 4370 / length of second array dimension               \n",
       "PCOUNT  =                    0 / group parameter count (not used)               \n",
       "GCOUNT  =                    1 / group count (not used)                         \n",
       "TFIELDS =                   20 / number of table fields                         \n",
       "TTYPE1  = 'TIME    '           / column title: data time stamps                 \n",
       "TFORM1  = 'D       '           / column format: 64-bit floating point           \n",
       "TUNIT1  = 'BJD - 2454833'      / column units: barycenter corrected JD          \n",
       "TDISP1  = 'D14.7   '           / column display format                          \n",
       "TTYPE2  = 'TIMECORR'           / column title: barycenter - timeslice correction\n",
       "TFORM2  = 'E       '           / column format: 32-bit floating point           \n",
       "TUNIT2  = 'd       '           / column units: day                              \n",
       "TDISP2  = 'E13.6   '           / column display format                          \n",
       "TTYPE3  = 'CADENCENO'          / column title: unique cadence number            \n",
       "TFORM3  = 'J       '           / column format: signed 32-bit integer           \n",
       "TDISP3  = 'I10     '           / column display format                          \n",
       "TTYPE4  = 'SAP_FLUX'           / column title: aperture photometry flux         \n",
       "TFORM4  = 'E       '           / column format: 32-bit floating point           \n",
       "TUNIT4  = 'e-/s    '           / column units: electrons per second             \n",
       "TDISP4  = 'E14.7   '           / column display format                          \n",
       "TTYPE5  = 'SAP_FLUX_ERR'       / column title: aperture phot. flux error        \n",
       "TFORM5  = 'E       '           / column format: 32-bit floating point           \n",
       "TUNIT5  = 'e-/s    '           / column units: electrons per second (1-sigma)   \n",
       "TDISP5  = 'E14.7   '           / column display format                          \n",
       "TTYPE6  = 'SAP_BKG '           / column title: aperture phot. background flux   \n",
       "TFORM6  = 'E       '           / column format: 32-bit floating point           \n",
       "TUNIT6  = 'e-/s    '           / column units: electrons per second             \n",
       "TDISP6  = 'E14.7   '           / column display format                          \n",
       "TTYPE7  = 'SAP_BKG_ERR'        / column title: ap. phot. background flux error  \n",
       "TFORM7  = 'E       '           / column format: 32-bit floating point           \n",
       "TUNIT7  = 'e-/s    '           / column units: electrons per second (1-sigma)   \n",
       "TDISP7  = 'E14.7   '           / column display format                          \n",
       "TTYPE8  = 'PDCSAP_FLUX'        / column title: aperture phot. PDC flux          \n",
       "TFORM8  = 'E       '           / column format: 32-bit floating point           \n",
       "TUNIT8  = 'e-/s    '           / column units: electrons per second             \n",
       "TDISP8  = 'E14.7   '           / column display format                          \n",
       "TTYPE9  = 'PDCSAP_FLUX_ERR'    / column title: ap. phot. PDC flux error         \n",
       "TFORM9  = 'E       '           / column format: 32-bit floating point           \n",
       "TUNIT9  = 'e-/s    '           / column units: electrons per second (1-sigma)   \n",
       "TDISP9  = 'E14.7   '           / column display format                          \n",
       "TTYPE10 = 'SAP_QUALITY'        / column title: aperture photometry quality flag \n",
       "TFORM10 = 'J       '           / column format: signed 32-bit integer           \n",
       "TDISP10 = 'B16.16  '           / column display format                          \n",
       "TTYPE11 = 'PSF_CENTR1'         / column title: PSF-fitted column centroid       \n",
       "TFORM11 = 'D       '           / column format: 64-bit floating point           \n",
       "TUNIT11 = 'pixel   '           / column units: pixel                            \n",
       "TDISP11 = 'F10.5   '           / column display format                          \n",
       "TTYPE12 = 'PSF_CENTR1_ERR'     / column title: PSF-fitted column error          \n",
       "TFORM12 = 'E       '           / column format: 32-bit floating point           \n",
       "TUNIT12 = 'pixel   '           / column units: pixel (1-sigma)                  \n",
       "TDISP12 = 'E14.7   '           / column display format                          \n",
       "TTYPE13 = 'PSF_CENTR2'         / column title: PSF-fitted row centroid          \n",
       "TFORM13 = 'D       '           / column format: 64-bit floating point           \n",
       "TUNIT13 = 'pixel   '           / column units: pixel                            \n",
       "TDISP13 = 'F10.5   '           / column display format                          \n",
       "TTYPE14 = 'PSF_CENTR2_ERR'     / column title: PSF-fitted row error             \n",
       "TFORM14 = 'E       '           / column format: 32-bit floating point           \n",
       "TUNIT14 = 'pixel   '           / column units: pixel (1-sigma)                  \n",
       "TDISP14 = 'E14.7   '           / column display format                          \n",
       "TTYPE15 = 'MOM_CENTR1'         / column title: moment-derived column centroid   \n",
       "TFORM15 = 'D       '           / column format: 64-bit floating point           \n",
       "TUNIT15 = 'pixel   '           / column units: pixel                            \n",
       "TDISP15 = 'F10.5   '           / column display format                          \n",
       "TTYPE16 = 'MOM_CENTR1_ERR'     / column title: moment-derived column error      \n",
       "TFORM16 = 'E       '           / column format: 32-bit floating point           \n",
       "TUNIT16 = 'pixel   '           / column units: pixel (1-sigma)                  \n",
       "TDISP16 = 'E14.7   '           / column display format                          \n",
       "TTYPE17 = 'MOM_CENTR2'         / column title: moment-derived row centroid      \n",
       "TFORM17 = 'D       '           / column format: 64-bit floating point           \n",
       "TUNIT17 = 'pixel   '           / column units: pixel                            \n",
       "TDISP17 = 'F10.5   '           / column display format                          \n",
       "TTYPE18 = 'MOM_CENTR2_ERR'     / column title: moment-derived row error         \n",
       "TFORM18 = 'E       '           / column format: 32-bit floating point           \n",
       "TUNIT18 = 'pixel   '           / column units: pixel (1-sigma)                  \n",
       "TDISP18 = 'E14.7   '           / column display format                          \n",
       "TTYPE19 = 'POS_CORR1'          / column title: column position correction       \n",
       "TFORM19 = 'E       '           / column format: 32-bit floating point           \n",
       "TUNIT19 = 'pixels  '           / column units: pixel                            \n",
       "TDISP19 = 'E14.7   '           / column display format                          \n",
       "TTYPE20 = 'POS_CORR2'          / column title: row position correction          \n",
       "TFORM20 = 'E       '           / column format: 32-bit floating point           \n",
       "TUNIT20 = 'pixels  '           / column units: pixel                            \n",
       "TDISP20 = 'E14.7   '           / column display format                          \n",
       "INHERIT =                    T / inherit the primary header                     \n",
       "EXTNAME = 'LIGHTCURVE'         / name of extension                              \n",
       "EXTVER  =                    1 / extension version number (not format version)  \n",
       "TELESCOP= 'Kepler  '           / telescope                                      \n",
       "INSTRUME= 'Kepler Photometer'  / detector type                                  \n",
       "OBJECT  = 'None of your business' / string version of target id                 \n",
       "KEPLERID= 'None of your business' / unique Kepler target identifier             \n",
       "RADESYS = 'ICRS    '           / reference frame of celestial coordinates       \n",
       "RA_OBJ  = 'None of your business' / [deg] right ascension                       \n",
       "DEC_OBJ = 'None of your business' / [deg] declination                           \n",
       "EQUINOX =               2000.0 / equinox of celestial coordinate system         \n",
       "EXPOSURE=          82.20427266 / [d] time on source                             \n",
       "TIMEREF = 'SOLARSYSTEM'        / barycentric correction applied to times        \n",
       "TASSIGN = 'SPACECRAFT'         / where time is assigned                         \n",
       "TIMESYS = 'TDB     '           / time system is barycentric JD                  \n",
       "BJDREFI =              2454833 / integer part of BJD reference date             \n",
       "BJDREFF =           0.00000000 / fraction of the day in BJD reference date      \n",
       "TIMEUNIT= 'd       '           / time unit for TIME, TSTART and TSTOP           \n",
       "TELAPSE =          89.29084789 / [d] TSTOP - TSTART                             \n",
       "LIVETIME=          82.20427266 / [d] TELAPSE multiplied by DEADC                \n",
       "TSTART  =         260.21442006 / observation start time in BJD-BJDREF           \n",
       "TSTOP   =         349.50526794 / observation stop time in BJD-BJDREF            \n",
       "LC_START=       55092.72220972 / mid point of first cadence in MJD              \n",
       "LC_END  =       55181.99659822 / mid point of last cadence in MJD               \n",
       "DEADC   =           0.92063492 / deadtime correction                            \n",
       "TIMEPIXR=                  0.5 / bin time beginning=0 middle=0.5 end=1          \n",
       "TIERRELA=             5.78E-07 / [d] relative time error                        \n",
       "TIERABSO=                      / [d] absolute time error                        \n",
       "INT_TIME=       6.019802903270 / [s] photon accumulation time per frame         \n",
       "READTIME=       0.518948526144 / [s] readout time per frame                     \n",
       "FRAMETIM=       6.538751429414 / [s] frame time (INT_TIME + READTIME)           \n",
       "NUM_FRM =                  270 / number of frames per time stamp                \n",
       "TIMEDEL =     0.02043359821692 / [d] time resolution of data                    \n",
       "DATE-OBS= '2009-09-18T17:05:16.190Z' / TSTART as UTC calendar date              \n",
       "DATE-END= '2009-12-17T00:09:48.815Z' / TSTOP as UTC calendar date               \n",
       "BACKAPP =                    T / background is subtracted                       \n",
       "DEADAPP =                    T / deadtime applied                               \n",
       "VIGNAPP =                    T / vignetting or collimator correction applied    \n",
       "GAIN    =               105.23 / [electrons/count] channel gain                 \n",
       "READNOIS=            84.594397 / [electrons] read noise                         \n",
       "NREADOUT=                  270 / number of read per cadence                     \n",
       "TIMSLICE=                    3 / time-slice readout sequence section            \n",
       "MEANBLCK=                  733 / [count] FSW mean black level                   \n",
       "LCFXDOFF=               419400 / long cadence fixed offset                      \n",
       "SCFXDOFF=               219400 / short cadence fixed offset                     \n",
       "CDPP3_0 =   101.72696685791016 / [ppm] RMS CDPP on 3.0-hr time scales           \n",
       "CDPP6_0 =     125.456787109375 / [ppm] RMS CDPP on 6.0-hr time scales           \n",
       "CDPP12_0=   110.96907806396484 / [ppm] RMS CDPP on 12.0-hr time scales          \n",
       "CROWDSAP=               0.9992 / Ratio of target flux to total flux in op. ap.  \n",
       "FLFRCSAP=               0.7252 / Frac. of target flux w/in the op. aperture     \n",
       "NSPSDDET=                    0 / Number of SPSDs detected                       \n",
       "NSPSDCOR=                    0 / Number of SPSDs corrected                      \n",
       "PDCVAR  =   1.8069709539413452 / Target variability                             \n",
       "PDCMETHD= 'multiScaleMap'      / PDC algorithm used for target                  \n",
       "NUMBAND =                    3 / Number of scale bands                          \n",
       "FITTYPE1= 'robust  '           / Fit type used for band 1                       \n",
       "PR_GOOD1=                  0.0 / Prior goodness for band 1                      \n",
       "PR_WGHT1=                  0.0 / Prior weight for band 1                        \n",
       "FITTYPE2= 'prior   '           / Fit type used for band 2                       \n",
       "PR_GOOD2=  0.07292769849300385 / Prior goodness for band 2                      \n",
       "PR_WGHT2=   11.492071151733398 / Prior weight for band 2                        \n",
       "FITTYPE3= 'prior   '           / Fit type used for band 3                       \n",
       "PR_GOOD3=    0.516323983669281 / Prior goodness for band 3                      \n",
       "PR_WGHT3=    81.36321258544922 / Prior weight for band 3                        \n",
       "PDC_TOT =   0.7119521498680115 / PDC total goodness metric for target           \n",
       "PDC_TOTP=   1.5745707750320435 / PDC_TOT percentile compared to mod/out         \n",
       "PDC_COR =   0.9627798199653625 / PDC correlation goodness metric for target     \n",
       "PDC_CORP=    9.833599090576172 / PDC_COR percentile compared to mod/out         \n",
       "PDC_VAR =   0.9373531937599182 / PDC variability goodness metric for target     \n",
       "PDC_VARP=      7.6667160987854 / PDC_VAR percentile compared to mod/out         \n",
       "PDC_NOI =   0.7827537655830383 / PDC noise goodness metric for target           \n",
       "PDC_NOIP=    8.062134742736816 / PDC_NOI percentile compared to mod/out         \n",
       "PDC_EPT =                  1.0 / PDC earth point goodness metric for target     \n",
       "PDC_EPTP=    54.63613510131836 / PDC_EPT percentile compared to mod/out         \n",
       "CHECKSUM= 'hhO8jhM6hhM6hhM6'   / HDU checksum updated 2019-09-17T17:12:24       \n",
       "DATASUM = '3847933012'         / data unit checksum updated 2019-09-17T17:12:24 "
      ]
     },
     "execution_count": 8,
     "metadata": {},
     "output_type": "execute_result"
    }
   ],
   "source": [
    "#Here the beginning has a description of columns in the table, including the units\n",
    "lc[1].header"
   ]
  },
  {
   "cell_type": "markdown",
   "metadata": {},
   "source": [
    "This is our lightcirve extension. You will notice two lighcurves here. \"SAP_FLUX\" is the Simple Aperture Photometry, whereas \"PDCSAP_FLUX\" is Pre-search Data Condictioned, i.e. has had processing applied for calibration. "
   ]
  },
  {
   "cell_type": "code",
   "execution_count": 9,
   "metadata": {},
   "outputs": [
    {
     "data": {
      "text/plain": [
       "[<matplotlib.lines.Line2D at 0x7f9a2eb3be20>]"
      ]
     },
     "execution_count": 9,
     "metadata": {},
     "output_type": "execute_result"
    },
    {
     "data": {
      "image/png": "[encoded data removed]",
      "text/plain": [
       "<Figure size 432x288 with 1 Axes>"
      ]
     },
     "metadata": {
      "needs_background": "light"
     },
     "output_type": "display_data"
    }
   ],
   "source": [
    "#Lets plot the lightcurve, you can plot the time and flux:\n",
    "plt.plot(lc[1].data['TIME'], lc[1].data['PDCSAP_FLUX'], ls='None', marker='o')\n",
    "#This plots the barycentre time and flux in e/s"
   ]
  },
  {
   "cell_type": "code",
   "execution_count": 10,
   "metadata": {},
   "outputs": [
    {
     "data": {
      "text/plain": [
       "<ErrorbarContainer object of 3 artists>"
      ]
     },
     "execution_count": 10,
     "metadata": {},
     "output_type": "execute_result"
    },
    {
     "data": {
      "image/png": "[encoded data removed]",
      "text/plain": [
       "<Figure size 432x288 with 1 Axes>"
      ]
     },
     "metadata": {
      "needs_background": "light"
     },
     "output_type": "display_data"
    }
   ],
   "source": [
    "#Measurements errors are also included, you can plot them as follows\n",
    "plt.errorbar(lc[1].data['TIME'], lc[1].data['PDCSAP_FLUX'], lc[1].data['PDCSAP_FLUX_ERR'], ls='None', marker='o')\n",
    "#We'll need to zoom in to see them:"
   ]
  },
  {
   "cell_type": "markdown",
   "metadata": {},
   "source": [
    "<a id=\"sec:dataguide\"></a>\n",
    "## 2. Step by step guide to your data\n",
    "\n",
    "#### Do not panic (or maybe do), what you have seen so far is only a small subset of the data you will be working with."
   ]
  },
  {
   "cell_type": "markdown",
   "metadata": {},
   "source": [
    "<div class=\"alert alert-block alert-success\">\n",
    "    \n",
    "### Your turn: First look at data - signal-to-noise\n",
    "\n",
    "- calculate the signal to noise of your lightcurve. Compare it to the signal-to-noise you required to detect a trsnait in Chapter 1. You can also compare it to some of the aperture photometry in Chapter 2."
   ]
  },
  {
   "cell_type": "code",
   "execution_count": null,
   "metadata": {},
   "outputs": [],
   "source": []
  },
  {
   "cell_type": "markdown",
   "metadata": {},
   "source": [
    "<div class=\"alert alert-block alert-success\">\n",
    "    \n",
    "### Your turn: First look at data - What does your lightcurve look like?\n",
    "\n",
    "Make notes about your lightcurve: you will be fitting this for planets, do you see any complications?"
   ]
  },
  {
   "cell_type": "code",
   "execution_count": null,
   "metadata": {},
   "outputs": [],
   "source": []
  },
  {
   "cell_type": "markdown",
   "metadata": {},
   "source": [
    "<div class=\"alert alert-block alert-success\">\n",
    "    \n",
    "### Your turn: Preparing for fitting:\n",
    "\n",
    "Locate all transits and make a plot for each"
   ]
  },
  {
   "cell_type": "code",
   "execution_count": null,
   "metadata": {},
   "outputs": [],
   "source": []
  },
  {
   "cell_type": "code",
   "execution_count": 11,
   "metadata": {},
   "outputs": [
    {
     "data": {
      "text/plain": [
       "['Data/Object1lc/kplr1_11.fits',\n",
       " 'Data/Object1lc/kplr1_3.fits',\n",
       " 'Data/Object1lc/kplr1_6.fits',\n",
       " 'Data/Object1lc/kplr1_12.fits',\n",
       " 'Data/Object1lc/kplr1_14.fits',\n",
       " 'Data/Object1lc/kplr1_8.fits',\n",
       " 'Data/Object1lc/kplr1_2.fits',\n",
       " 'Data/Object1lc/kplr1_13.fits',\n",
       " 'Data/Object1lc/kplr1_5.fits',\n",
       " 'Data/Object1lc/kplr1_17.fits',\n",
       " 'Data/Object1lc/kplr1_1.fits',\n",
       " 'Data/Object1lc/kplr1_7.fits',\n",
       " 'Data/Object1lc/kplr1_4.fits',\n",
       " 'Data/Object1lc/kplr1_16.fits',\n",
       " 'Data/Object1lc/kplr1_10.fits',\n",
       " 'Data/Object1lc/kplr1_15.fits',\n",
       " 'Data/Object1lc/kplr1_9.fits']"
      ]
     },
     "execution_count": 11,
     "metadata": {},
     "output_type": "execute_result"
    }
   ],
   "source": [
    "## So far, we have only looked at a subset of the data, the full dataset is stored in the Data folder.\n",
    "glob.glob('Data/Object%slc/kplr*.fits'%(mykepler)) #Lists all your lightcurve files"
   ]
  },
  {
   "cell_type": "code",
   "execution_count": null,
   "metadata": {},
   "outputs": [],
   "source": []
  },
  {
   "cell_type": "code",
   "execution_count": null,
   "metadata": {},
   "outputs": [],
   "source": []
  },
  {
   "cell_type": "code",
   "execution_count": null,
   "metadata": {},
   "outputs": [],
   "source": []
  },
  {
   "cell_type": "markdown",
   "metadata": {},
   "source": [
    "<div class=\"alert alert-block alert-success\">\n",
    "\n",
    "### Your turn: plot the full lightcurve"
   ]
  },
  {
   "cell_type": "code",
   "execution_count": 12,
   "metadata": {},
   "outputs": [],
   "source": [
    "import numpy as np\n",
    "import tqdm"
   ]
  },
  {
   "cell_type": "code",
   "execution_count": 13,
   "metadata": {},
   "outputs": [],
   "source": [
    "#THis works....\n",
    "total_flux, total_time, total_flux_error = [], [], []\n",
    "\n",
    "for lcfile in glob.glob('Data/Object%slc/kplr*.fits' %(mykepler)):\n",
    "    tmp = fits.open(lcfile)\n",
    "    tmptime = (tmp[1].data['TIME'])\n",
    "    tmpflux = (tmp[1].data['PDCSAP_FLUX'])\n",
    "    tmperror = (tmp[1].data['PDCSAP_FLUX_ERR'])\n",
    "\n",
    "    tmpflux_mask, tmperror_mask  = np.isfinite(tmpflux), np.isfinite(tmperror)\n",
    "    total_mask = np.logical_and(tmpflux_mask, tmperror_mask)\n",
    "\n",
    "    time_sample, flux_sample, flux_sample_error = tmptime[total_mask], tmpflux[total_mask], tmpflux[total_mask]\n",
    "    normalized_flux, normalized_flux_error = (flux_sample / np.mean(flux_sample)), (flux_sample_error / np.mean(flux_sample))\n",
    "\n",
    "\n",
    "    from scipy.signal import savgol_filter\n",
    "    interp_savgol = savgol_filter(normalized_flux, window_length=271, polyorder=3)\n",
    "\n",
    "    total_flux.append(normalized_flux/ interp_savgol)\n",
    "    total_flux_error.append(normalized_flux_error / interp_savgol)\n",
    "    total_time.append(time_sample)\n",
    "\n",
    "    #Mask all fluxes above upper value of 1 sigma of mean \n",
    "    tmp.close()"
   ]
  },
  {
   "cell_type": "code",
   "execution_count": 14,
   "metadata": {},
   "outputs": [],
   "source": [
    "#Quick correction to get one array for flux, flux_err and time sorted in order. \n",
    "flux_arr = np.concatenate(total_flux)\n",
    "flux_error_arr = np.concatenate(total_flux_error)\n",
    "time_arr = np.concatenate(total_time)\n",
    "\n",
    "sorted_flux = np.array([x for _, x in sorted(zip(time_arr, flux_arr), key=lambda pair: pair[0])])\n",
    "sorted_time = np.array([_ for _, x in sorted(zip(time_arr, flux_arr), key=lambda pair: pair[0])])\n",
    "sorted_flux_err = np.array([x for _, x in sorted(zip(time_arr, flux_error_arr), key=lambda pair: pair[0])])"
   ]
  },
  {
   "cell_type": "code",
   "execution_count": 15,
   "metadata": {},
   "outputs": [
    {
     "data": {
      "text/plain": [
       "[<matplotlib.lines.Line2D at 0x7f99cd237dc0>]"
      ]
     },
     "execution_count": 15,
     "metadata": {},
     "output_type": "execute_result"
    },
    {
     "data": {
      "image/png": "[encoded data removed]",
      "text/plain": [
       "<Figure size 432x288 with 1 Axes>"
      ]
     },
     "metadata": {
      "needs_background": "light"
     },
     "output_type": "display_data"
    }
   ],
   "source": [
    "#Remove all above x sigma above mean to clean signal \n",
    "num_sigma = 2 \n",
    "num_sigma_above_mean = np.mean(sorted_flux) + num_sigma * (np.std(sorted_flux))\n",
    "\n",
    "flux_value_mask = np.logical_and([x < num_sigma_above_mean for x in sorted_flux],  [x > -1000 for x in sorted_flux])\n",
    "flux, flux_err, time = sorted_flux[flux_value_mask], sorted_flux_err[flux_value_mask], sorted_time[flux_value_mask]\n",
    "\n",
    "#Remove single erroneous data point \n",
    "plt.plot(time, flux)"
   ]
  },
  {
   "cell_type": "code",
   "execution_count": 16,
   "metadata": {},
   "outputs": [
    {
     "name": "stderr",
     "output_type": "stream",
     "text": [
      "WARNING (theano.tensor.blas): Using NumPy C-API based implementation for BLAS functions.\n"
     ]
    },
    {
     "data": {
      "image/png": "[encoded data removed]",
      "text/plain": [
       "<Figure size 432x288 with 1 Axes>"
      ]
     },
     "metadata": {
      "needs_background": "light"
     },
     "output_type": "display_data"
    }
   ],
   "source": [
    "import exoplanet as xo\n",
    "\n",
    "pg = xo.estimators.bls_estimator(time, flux, flux_err, min_period=15, max_period=40)\n",
    "\n",
    "peak = pg[\"peak_info\"]\n",
    "period_guess = peak[\"period\"]\n",
    "t0_guess = peak[\"transit_time\"]\n",
    "depth_guess = peak[\"depth\"]\n",
    "\n",
    "plt.plot(pg[\"bls\"].period, pg[\"bls\"].power, \"k\", linewidth=0.5)\n",
    "plt.axvline(period_guess, alpha=0.3, linewidth=5)\n",
    "plt.xlabel(\"period [days]\")\n",
    "plt.ylabel(\"bls power\")\n",
    "plt.yticks([])\n",
    "_ = plt.xlim(pg[\"bls\"].period.min(), pg[\"bls\"].period.max())"
   ]
  },
  {
   "cell_type": "code",
   "execution_count": 17,
   "metadata": {},
   "outputs": [
    {
     "name": "stdout",
     "output_type": "stream",
     "text": [
      "\n",
      "    period : 19.222997314785374,\n",
      "    transit guess : 145.81301296925517,\n",
      "    depth_guess : 0.002117254522572354\n",
      "\n"
     ]
    }
   ],
   "source": [
    "print(f\"\"\"\n",
    "    period : {period_guess},\n",
    "    transit guess : {t0_guess},\n",
    "    depth_guess : {depth_guess}\n",
    "\"\"\")"
   ]
  },
  {
   "cell_type": "code",
   "execution_count": 18,
   "metadata": {},
   "outputs": [],
   "source": [
    "transit_mask = (\n",
    "    np.abs(\n",
    "        (time - t0_guess + 0.5 * period_guess) % period_guess - 0.5 * period_guess\n",
    "    )\n",
    "    < 0.25\n",
    ")\n",
    "x = np.ascontiguousarray(time[transit_mask])\n",
    "y = np.ascontiguousarray(flux[transit_mask])\n",
    "yerr = np.ascontiguousarray(flux_err[transit_mask])\n",
    "\n",
    "x_fold = (\n",
    "    x - t0_guess + 0.5 * period_guess\n",
    ") % period_guess - 0.5 * period_guess\n",
    "\n",
    "\n",
    "x_fold_cord_mask = (x_fold > -0.09) & (x_fold < 0.09)\n",
    "final_mask = ~np.logical_and(x_fold_cord_mask, (y > 0.999))\n",
    "\n",
    "#final_mask = np.logical_and(final_mask, (x > 1100))"
   ]
  },
  {
   "cell_type": "code",
   "execution_count": 19,
   "metadata": {},
   "outputs": [],
   "source": [
    "x = x[final_mask]\n",
    "x_fold = x_fold[final_mask]\n",
    "y = y[final_mask]\n",
    "yerr = yerr[final_mask]"
   ]
  },
  {
   "cell_type": "code",
   "execution_count": 20,
   "metadata": {},
   "outputs": [],
   "source": [
    "mask = x < 900"
   ]
  },
  {
   "cell_type": "code",
   "execution_count": 21,
   "metadata": {},
   "outputs": [
    {
     "data": {
      "image/png": "[encoded data removed]",
      "text/plain": [
       "<Figure size 576x288 with 2 Axes>"
      ]
     },
     "metadata": {
      "needs_background": "light"
     },
     "output_type": "display_data"
    }
   ],
   "source": [
    "plt.figure(figsize=(8, 4))\n",
    "plt.scatter(x_fold, y, c=x, s=3)\n",
    "plt.xlabel(\"time since transit [days]\")\n",
    "plt.ylabel(\"relative flux [ppt]\")\n",
    "plt.colorbar(label=\"time [days]\")\n",
    "_ = plt.xlim(-0.25, 0.25)"
   ]
  },
  {
   "cell_type": "code",
   "execution_count": 22,
   "metadata": {},
   "outputs": [
    {
     "name": "stderr",
     "output_type": "stream",
     "text": [
      "/home/cm2435/anaconda3/envs/uni_cw/lib/python3.9/site-packages/exoplanet/orbits/keplerian.py:120: UserWarning: When using the 'duration' parameter in KeplerianOrbit, the 'ror' parameter should also be provided.\n",
      "  warnings.warn(\n",
      "WARNING (theano.tensor.opt): Cannot construct a scalar test value from a test value with no size: InplaceDimShuffle{x,0}.0\n",
      "WARNING (theano.tensor.opt): Cannot construct a scalar test value from a test value with no size: Elemwise{cos,no_inplace}.0\n",
      "WARNING (theano.tensor.opt): Cannot construct a scalar test value from a test value with no size: InplaceDimShuffle{x,0}.0\n",
      "WARNING (theano.tensor.opt): Cannot construct a scalar test value from a test value with no size: Elemwise{sin,no_inplace}.0\n",
      "WARNING (theano.tensor.opt): Cannot construct a scalar test value from a test value with no size: InplaceDimShuffle{x,0}.0\n",
      "WARNING (theano.tensor.opt): Cannot construct a scalar test value from a test value with no size: Elemwise{sin,no_inplace}.0\n",
      "WARNING (theano.tensor.opt): Cannot construct a scalar test value from a test value with no size: InplaceDimShuffle{x,0}.0\n",
      "WARNING (theano.tensor.opt): Cannot construct a scalar test value from a test value with no size: Elemwise{cos,no_inplace}.0\n"
     ]
    },
    {
     "name": "stdout",
     "output_type": "stream",
     "text": [
      "mean                         -3.22\n",
      "u_quadlimbdark__             -2.77\n",
      "sigma_log__                  -0.53\n",
      "log_sigma_gp                 -3.22\n",
      "log_rho_gp                   -3.22\n",
      "log_ror                      -3.22\n",
      "log_period                   -0.92\n",
      "t0                           -0.92\n",
      "log_dur                      -3.22\n",
      "b_impact__                   -1.39\n",
      "ecs_unitdisk+interval__      -1.39\n",
      "ecc_prior                     0.24\n",
      "obs                       -1579.66\n",
      "Name: Log-probability of test_point, dtype: float64\n"
     ]
    },
    {
     "name": "stderr",
     "output_type": "stream",
     "text": [
      "WARNING (theano.tensor.opt): Cannot construct a scalar test value from a test value with no size: InplaceDimShuffle{x,0}.0\n",
      "WARNING (theano.tensor.opt): Cannot construct a scalar test value from a test value with no size: Elemwise{cos,no_inplace}.0\n",
      "WARNING (theano.tensor.opt): Cannot construct a scalar test value from a test value with no size: InplaceDimShuffle{x,0}.0\n",
      "WARNING (theano.tensor.opt): Cannot construct a scalar test value from a test value with no size: Elemwise{sin,no_inplace}.0\n",
      "WARNING (theano.tensor.opt): Cannot construct a scalar test value from a test value with no size: InplaceDimShuffle{x,0}.0\n",
      "WARNING (theano.tensor.opt): Cannot construct a scalar test value from a test value with no size: Elemwise{sin,no_inplace}.0\n",
      "WARNING (theano.tensor.opt): Cannot construct a scalar test value from a test value with no size: InplaceDimShuffle{x,0}.0\n",
      "WARNING (theano.tensor.opt): Cannot construct a scalar test value from a test value with no size: Elemwise{cos,no_inplace}.0\n",
      "optimizing logp for variables: [sigma]\n"
     ]
    },
    {
     "data": {
      "text/html": [
       "\n",
       "<style>\n",
       "    /* Turns off some styling */\n",
       "    progress {\n",
       "        /* gets rid of default border in Firefox and Opera. */\n",
       "        border: none;\n",
       "        /* Needs to be in here for Safari polyfill so background images work as expected. */\n",
       "        background-size: auto;\n",
       "    }\n",
       "    progress:not([value]), progress:not([value])::-webkit-progress-bar {\n",
       "        background: repeating-linear-gradient(45deg, #7e7e7e, #7e7e7e 10px, #5c5c5c 10px, #5c5c5c 20px);\n",
       "    }\n",
       "    .progress-bar-interrupted, .progress-bar-interrupted::-webkit-progress-bar {\n",
       "        background: #F44336;\n",
       "    }\n",
       "</style>\n"
      ],
      "text/plain": [
       "<IPython.core.display.HTML object>"
      ]
     },
     "metadata": {},
     "output_type": "display_data"
    },
    {
     "data": {
      "text/html": [
       "\n",
       "    <div>\n",
       "      <progress value='9' class='' max='9' style='width:300px; height:20px; vertical-align: middle;'></progress>\n",
       "      100.00% [9/9 00:00&lt;00:00 logp = -1.482e+03]\n",
       "    </div>\n",
       "    "
      ],
      "text/plain": [
       "<IPython.core.display.HTML object>"
      ]
     },
     "metadata": {},
     "output_type": "display_data"
    },
    {
     "name": "stdout",
     "output_type": "stream",
     "text": [
      "\n"
     ]
    },
    {
     "name": "stderr",
     "output_type": "stream",
     "text": [
      "message: Optimization terminated successfully.\n",
      "logp: -1603.4522088064198 -> -1481.952203374667\n",
      "WARNING (theano.tensor.opt): Cannot construct a scalar test value from a test value with no size: InplaceDimShuffle{x,0}.0\n",
      "WARNING (theano.tensor.opt): Cannot construct a scalar test value from a test value with no size: Elemwise{cos,no_inplace}.0\n",
      "WARNING (theano.tensor.opt): Cannot construct a scalar test value from a test value with no size: InplaceDimShuffle{x,0}.0\n",
      "WARNING (theano.tensor.opt): Cannot construct a scalar test value from a test value with no size: Elemwise{sin,no_inplace}.0\n",
      "WARNING (theano.tensor.opt): Cannot construct a scalar test value from a test value with no size: InplaceDimShuffle{x,0}.0\n",
      "WARNING (theano.tensor.opt): Cannot construct a scalar test value from a test value with no size: Elemwise{sin,no_inplace}.0\n",
      "WARNING (theano.tensor.opt): Cannot construct a scalar test value from a test value with no size: InplaceDimShuffle{x,0}.0\n",
      "WARNING (theano.tensor.opt): Cannot construct a scalar test value from a test value with no size: Elemwise{cos,no_inplace}.0\n",
      "optimizing logp for variables: [log_dur, b, log_ror]\n"
     ]
    },
    {
     "data": {
      "text/html": [
       "\n",
       "<style>\n",
       "    /* Turns off some styling */\n",
       "    progress {\n",
       "        /* gets rid of default border in Firefox and Opera. */\n",
       "        border: none;\n",
       "        /* Needs to be in here for Safari polyfill so background images work as expected. */\n",
       "        background-size: auto;\n",
       "    }\n",
       "    progress:not([value]), progress:not([value])::-webkit-progress-bar {\n",
       "        background: repeating-linear-gradient(45deg, #7e7e7e, #7e7e7e 10px, #5c5c5c 10px, #5c5c5c 20px);\n",
       "    }\n",
       "    .progress-bar-interrupted, .progress-bar-interrupted::-webkit-progress-bar {\n",
       "        background: #F44336;\n",
       "    }\n",
       "</style>\n"
      ],
      "text/plain": [
       "<IPython.core.display.HTML object>"
      ]
     },
     "metadata": {},
     "output_type": "display_data"
    },
    {
     "data": {
      "text/html": [
       "\n",
       "    <div>\n",
       "      <progress value='18' class='' max='18' style='width:300px; height:20px; vertical-align: middle;'></progress>\n",
       "      100.00% [18/18 00:00&lt;00:00 logp = -1.482e+03]\n",
       "    </div>\n",
       "    "
      ],
      "text/plain": [
       "<IPython.core.display.HTML object>"
      ]
     },
     "metadata": {},
     "output_type": "display_data"
    },
    {
     "name": "stderr",
     "output_type": "stream",
     "text": [
      "message: Optimization terminated successfully.\n",
      "logp: -1481.952203374667 -> -1481.9519389961424\n"
     ]
    },
    {
     "name": "stdout",
     "output_type": "stream",
     "text": [
      "\n"
     ]
    },
    {
     "name": "stderr",
     "output_type": "stream",
     "text": [
      "WARNING (theano.tensor.opt): Cannot construct a scalar test value from a test value with no size: InplaceDimShuffle{x,0}.0\n",
      "WARNING (theano.tensor.opt): Cannot construct a scalar test value from a test value with no size: Elemwise{cos,no_inplace}.0\n",
      "WARNING (theano.tensor.opt): Cannot construct a scalar test value from a test value with no size: InplaceDimShuffle{x,0}.0\n",
      "WARNING (theano.tensor.opt): Cannot construct a scalar test value from a test value with no size: Elemwise{sin,no_inplace}.0\n",
      "WARNING (theano.tensor.opt): Cannot construct a scalar test value from a test value with no size: InplaceDimShuffle{x,0}.0\n",
      "WARNING (theano.tensor.opt): Cannot construct a scalar test value from a test value with no size: Elemwise{sin,no_inplace}.0\n",
      "WARNING (theano.tensor.opt): Cannot construct a scalar test value from a test value with no size: InplaceDimShuffle{x,0}.0\n",
      "WARNING (theano.tensor.opt): Cannot construct a scalar test value from a test value with no size: Elemwise{cos,no_inplace}.0\n",
      "optimizing logp for variables: [ecs]\n"
     ]
    },
    {
     "data": {
      "text/html": [
       "\n",
       "<style>\n",
       "    /* Turns off some styling */\n",
       "    progress {\n",
       "        /* gets rid of default border in Firefox and Opera. */\n",
       "        border: none;\n",
       "        /* Needs to be in here for Safari polyfill so background images work as expected. */\n",
       "        background-size: auto;\n",
       "    }\n",
       "    progress:not([value]), progress:not([value])::-webkit-progress-bar {\n",
       "        background: repeating-linear-gradient(45deg, #7e7e7e, #7e7e7e 10px, #5c5c5c 10px, #5c5c5c 20px);\n",
       "    }\n",
       "    .progress-bar-interrupted, .progress-bar-interrupted::-webkit-progress-bar {\n",
       "        background: #F44336;\n",
       "    }\n",
       "</style>\n"
      ],
      "text/plain": [
       "<IPython.core.display.HTML object>"
      ]
     },
     "metadata": {},
     "output_type": "display_data"
    },
    {
     "data": {
      "text/html": [
       "\n",
       "    <div>\n",
       "      <progress value='11' class='' max='11' style='width:300px; height:20px; vertical-align: middle;'></progress>\n",
       "      100.00% [11/11 00:00&lt;00:00 logp = -1.481e+03]\n",
       "    </div>\n",
       "    "
      ],
      "text/plain": [
       "<IPython.core.display.HTML object>"
      ]
     },
     "metadata": {},
     "output_type": "display_data"
    },
    {
     "name": "stderr",
     "output_type": "stream",
     "text": [
      "message: Optimization terminated successfully.\n",
      "logp: -1481.9519389961424 -> -1481.3761326131857\n"
     ]
    },
    {
     "name": "stdout",
     "output_type": "stream",
     "text": [
      "\n"
     ]
    },
    {
     "name": "stderr",
     "output_type": "stream",
     "text": [
      "WARNING (theano.tensor.opt): Cannot construct a scalar test value from a test value with no size: Elemwise{mul}.0\n",
      "WARNING (theano.tensor.opt): Cannot construct a scalar test value from a test value with no size: Elemwise{sin,no_inplace}.0\n",
      "WARNING (theano.tensor.opt): Cannot construct a scalar test value from a test value with no size: Elemwise{cos,no_inplace}.0\n",
      "WARNING (theano.tensor.opt): Cannot construct a scalar test value from a test value with no size: Elemwise{mul}.0\n",
      "WARNING (theano.tensor.opt): Cannot construct a scalar test value from a test value with no size: {self.__class__.__name__ }{{{self.len_splits}}}.1\n",
      "WARNING (theano.tensor.opt): Cannot construct a scalar test value from a test value with no size: Elemwise{mul}.0\n",
      "WARNING (theano.tensor.opt): Cannot construct a scalar test value from a test value with no size: Elemwise{mul}.0\n",
      "WARNING (theano.tensor.opt): Cannot construct a scalar test value from a test value with no size: {self.__class__.__name__ }{{{self.len_splits}}}.2\n",
      "WARNING (theano.tensor.opt): Cannot construct a scalar test value from a test value with no size: {self.__class__.__name__ }{{{self.len_splits}}}.1\n",
      "WARNING (theano.tensor.opt): Cannot construct a scalar test value from a test value with no size: InplaceDimShuffle{x,0}.0\n",
      "WARNING (theano.tensor.opt): Cannot construct a scalar test value from a test value with no size: {self.__class__.__name__ }{{{self.len_splits}}}.2\n",
      "WARNING (theano.tensor.opt): Cannot construct a scalar test value from a test value with no size: InplaceDimShuffle{x,0}.0\n",
      "WARNING (theano.tensor.opt): Cannot construct a scalar test value from a test value with no size: InplaceDimShuffle{x,0}.0\n",
      "WARNING (theano.tensor.opt): Cannot construct a scalar test value from a test value with no size: Elemwise{cos,no_inplace}.0\n",
      "WARNING (theano.tensor.opt): Cannot construct a scalar test value from a test value with no size: InplaceDimShuffle{x,0}.0\n",
      "WARNING (theano.tensor.opt): Cannot construct a scalar test value from a test value with no size: Elemwise{sin,no_inplace}.0\n",
      "WARNING (theano.tensor.opt): Cannot construct a scalar test value from a test value with no size: InplaceDimShuffle{x,0}.0\n",
      "WARNING (theano.tensor.opt): Cannot construct a scalar test value from a test value with no size: Elemwise{sin,no_inplace}.0\n",
      "WARNING (theano.tensor.opt): Cannot construct a scalar test value from a test value with no size: InplaceDimShuffle{x,0}.0\n",
      "WARNING (theano.tensor.opt): Cannot construct a scalar test value from a test value with no size: Elemwise{cos,no_inplace}.0\n",
      "optimizing logp for variables: [log_rho_gp, log_sigma_gp, sigma]\n"
     ]
    },
    {
     "data": {
      "text/html": [
       "\n",
       "<style>\n",
       "    /* Turns off some styling */\n",
       "    progress {\n",
       "        /* gets rid of default border in Firefox and Opera. */\n",
       "        border: none;\n",
       "        /* Needs to be in here for Safari polyfill so background images work as expected. */\n",
       "        background-size: auto;\n",
       "    }\n",
       "    progress:not([value]), progress:not([value])::-webkit-progress-bar {\n",
       "        background: repeating-linear-gradient(45deg, #7e7e7e, #7e7e7e 10px, #5c5c5c 10px, #5c5c5c 20px);\n",
       "    }\n",
       "    .progress-bar-interrupted, .progress-bar-interrupted::-webkit-progress-bar {\n",
       "        background: #F44336;\n",
       "    }\n",
       "</style>\n"
      ],
      "text/plain": [
       "<IPython.core.display.HTML object>"
      ]
     },
     "metadata": {},
     "output_type": "display_data"
    },
    {
     "data": {
      "text/html": [
       "\n",
       "    <div>\n",
       "      <progress value='35' class='' max='35' style='width:300px; height:20px; vertical-align: middle;'></progress>\n",
       "      100.00% [35/35 00:00&lt;00:00 logp = -1.279e+03]\n",
       "    </div>\n",
       "    "
      ],
      "text/plain": [
       "<IPython.core.display.HTML object>"
      ]
     },
     "metadata": {},
     "output_type": "display_data"
    },
    {
     "name": "stderr",
     "output_type": "stream",
     "text": [
      "message: Optimization terminated successfully.\n",
      "logp: -1481.3761326131857 -> -1278.5450301555977\n"
     ]
    },
    {
     "name": "stdout",
     "output_type": "stream",
     "text": [
      "\n"
     ]
    },
    {
     "name": "stderr",
     "output_type": "stream",
     "text": [
      "WARNING (theano.tensor.opt): Cannot construct a scalar test value from a test value with no size: InplaceDimShuffle{x,0}.0\n",
      "WARNING (theano.tensor.opt): Cannot construct a scalar test value from a test value with no size: Elemwise{cos,no_inplace}.0\n",
      "WARNING (theano.tensor.opt): Cannot construct a scalar test value from a test value with no size: InplaceDimShuffle{x,0}.0\n",
      "WARNING (theano.tensor.opt): Cannot construct a scalar test value from a test value with no size: Elemwise{sin,no_inplace}.0\n",
      "WARNING (theano.tensor.opt): Cannot construct a scalar test value from a test value with no size: InplaceDimShuffle{x,0}.0\n",
      "WARNING (theano.tensor.opt): Cannot construct a scalar test value from a test value with no size: Elemwise{sin,no_inplace}.0\n",
      "WARNING (theano.tensor.opt): Cannot construct a scalar test value from a test value with no size: InplaceDimShuffle{x,0}.0\n",
      "WARNING (theano.tensor.opt): Cannot construct a scalar test value from a test value with no size: Elemwise{cos,no_inplace}.0\n",
      "optimizing logp for variables: [u, mean]\n"
     ]
    },
    {
     "data": {
      "text/html": [
       "\n",
       "<style>\n",
       "    /* Turns off some styling */\n",
       "    progress {\n",
       "        /* gets rid of default border in Firefox and Opera. */\n",
       "        border: none;\n",
       "        /* Needs to be in here for Safari polyfill so background images work as expected. */\n",
       "        background-size: auto;\n",
       "    }\n",
       "    progress:not([value]), progress:not([value])::-webkit-progress-bar {\n",
       "        background: repeating-linear-gradient(45deg, #7e7e7e, #7e7e7e 10px, #5c5c5c 10px, #5c5c5c 20px);\n",
       "    }\n",
       "    .progress-bar-interrupted, .progress-bar-interrupted::-webkit-progress-bar {\n",
       "        background: #F44336;\n",
       "    }\n",
       "</style>\n"
      ],
      "text/plain": [
       "<IPython.core.display.HTML object>"
      ]
     },
     "metadata": {},
     "output_type": "display_data"
    },
    {
     "data": {
      "text/html": [
       "\n",
       "    <div>\n",
       "      <progress value='4' class='' max='4' style='width:300px; height:20px; vertical-align: middle;'></progress>\n",
       "      100.00% [4/4 00:00&lt;00:00 logp = -1.279e+03]\n",
       "    </div>\n",
       "    "
      ],
      "text/plain": [
       "<IPython.core.display.HTML object>"
      ]
     },
     "metadata": {},
     "output_type": "display_data"
    },
    {
     "name": "stderr",
     "output_type": "stream",
     "text": [
      "message: Optimization terminated successfully.\n",
      "logp: -1278.5450301555977 -> -1278.542793686202\n"
     ]
    },
    {
     "name": "stdout",
     "output_type": "stream",
     "text": [
      "\n"
     ]
    },
    {
     "name": "stderr",
     "output_type": "stream",
     "text": [
      "WARNING (theano.tensor.opt): Cannot construct a scalar test value from a test value with no size: Elemwise{mul}.0\n",
      "WARNING (theano.tensor.opt): Cannot construct a scalar test value from a test value with no size: Elemwise{sin,no_inplace}.0\n",
      "WARNING (theano.tensor.opt): Cannot construct a scalar test value from a test value with no size: Elemwise{cos,no_inplace}.0\n",
      "WARNING (theano.tensor.opt): Cannot construct a scalar test value from a test value with no size: Elemwise{mul}.0\n",
      "WARNING (theano.tensor.opt): Cannot construct a scalar test value from a test value with no size: {self.__class__.__name__ }{{{self.len_splits}}}.1\n",
      "WARNING (theano.tensor.opt): Cannot construct a scalar test value from a test value with no size: Elemwise{mul}.0\n",
      "WARNING (theano.tensor.opt): Cannot construct a scalar test value from a test value with no size: Elemwise{mul}.0\n",
      "WARNING (theano.tensor.opt): Cannot construct a scalar test value from a test value with no size: {self.__class__.__name__ }{{{self.len_splits}}}.2\n",
      "WARNING (theano.tensor.opt): Cannot construct a scalar test value from a test value with no size: {self.__class__.__name__ }{{{self.len_splits}}}.1\n",
      "WARNING (theano.tensor.opt): Cannot construct a scalar test value from a test value with no size: InplaceDimShuffle{x,0}.0\n",
      "WARNING (theano.tensor.opt): Cannot construct a scalar test value from a test value with no size: {self.__class__.__name__ }{{{self.len_splits}}}.2\n",
      "WARNING (theano.tensor.opt): Cannot construct a scalar test value from a test value with no size: InplaceDimShuffle{x,0}.0\n",
      "WARNING (theano.tensor.opt): Cannot construct a scalar test value from a test value with no size: InplaceDimShuffle{x,0}.0\n",
      "WARNING (theano.tensor.opt): Cannot construct a scalar test value from a test value with no size: Elemwise{cos,no_inplace}.0\n",
      "WARNING (theano.tensor.opt): Cannot construct a scalar test value from a test value with no size: InplaceDimShuffle{x,0}.0\n",
      "WARNING (theano.tensor.opt): Cannot construct a scalar test value from a test value with no size: Elemwise{sin,no_inplace}.0\n",
      "WARNING (theano.tensor.opt): Cannot construct a scalar test value from a test value with no size: InplaceDimShuffle{x,0}.0\n",
      "WARNING (theano.tensor.opt): Cannot construct a scalar test value from a test value with no size: Elemwise{sin,no_inplace}.0\n",
      "WARNING (theano.tensor.opt): Cannot construct a scalar test value from a test value with no size: InplaceDimShuffle{x,0}.0\n",
      "WARNING (theano.tensor.opt): Cannot construct a scalar test value from a test value with no size: Elemwise{cos,no_inplace}.0\n",
      "optimizing logp for variables: [ecs, b, log_dur, t0, log_period, log_ror, log_rho_gp, log_sigma_gp, sigma, u, mean]\n"
     ]
    },
    {
     "data": {
      "text/html": [
       "\n",
       "<style>\n",
       "    /* Turns off some styling */\n",
       "    progress {\n",
       "        /* gets rid of default border in Firefox and Opera. */\n",
       "        border: none;\n",
       "        /* Needs to be in here for Safari polyfill so background images work as expected. */\n",
       "        background-size: auto;\n",
       "    }\n",
       "    progress:not([value]), progress:not([value])::-webkit-progress-bar {\n",
       "        background: repeating-linear-gradient(45deg, #7e7e7e, #7e7e7e 10px, #5c5c5c 10px, #5c5c5c 20px);\n",
       "    }\n",
       "    .progress-bar-interrupted, .progress-bar-interrupted::-webkit-progress-bar {\n",
       "        background: #F44336;\n",
       "    }\n",
       "</style>\n"
      ],
      "text/plain": [
       "<IPython.core.display.HTML object>"
      ]
     },
     "metadata": {},
     "output_type": "display_data"
    },
    {
     "data": {
      "text/html": [
       "\n",
       "    <div>\n",
       "      <progress value='55' class='' max='55' style='width:300px; height:20px; vertical-align: middle;'></progress>\n",
       "      100.00% [55/55 00:00&lt;00:00 logp = -1.279e+03]\n",
       "    </div>\n",
       "    "
      ],
      "text/plain": [
       "<IPython.core.display.HTML object>"
      ]
     },
     "metadata": {},
     "output_type": "display_data"
    },
    {
     "name": "stderr",
     "output_type": "stream",
     "text": [
      "message: Desired error not necessarily achieved due to precision loss.\n",
      "logp: -1278.542793686202 -> -1278.542782656811\n"
     ]
    },
    {
     "name": "stdout",
     "output_type": "stream",
     "text": [
      "\n"
     ]
    },
    {
     "name": "stderr",
     "output_type": "stream",
     "text": [
      "WARNING (theano.tensor.opt): Cannot construct a scalar test value from a test value with no size: InplaceDimShuffle{x,0}.0\n",
      "WARNING (theano.tensor.opt): Cannot construct a scalar test value from a test value with no size: Elemwise{cos,no_inplace}.0\n",
      "WARNING (theano.tensor.opt): Cannot construct a scalar test value from a test value with no size: InplaceDimShuffle{x,0}.0\n",
      "WARNING (theano.tensor.opt): Cannot construct a scalar test value from a test value with no size: Elemwise{sin,no_inplace}.0\n",
      "WARNING (theano.tensor.opt): Cannot construct a scalar test value from a test value with no size: InplaceDimShuffle{x,0}.0\n",
      "WARNING (theano.tensor.opt): Cannot construct a scalar test value from a test value with no size: Elemwise{sin,no_inplace}.0\n",
      "WARNING (theano.tensor.opt): Cannot construct a scalar test value from a test value with no size: InplaceDimShuffle{x,0}.0\n",
      "WARNING (theano.tensor.opt): Cannot construct a scalar test value from a test value with no size: Elemwise{cos,no_inplace}.0\n"
     ]
    },
    {
     "data": {
      "image/png": "[encoded data removed]",
      "text/plain": [
       "<Figure size 576x288 with 2 Axes>"
      ]
     },
     "metadata": {
      "needs_background": "light"
     },
     "output_type": "display_data"
    }
   ],
   "source": [
    "import pymc3 as pm\n",
    "import aesara_theano_fallback.tensor as tt\n",
    "\n",
    "import pymc3_ext as pmx\n",
    "from celerite2.theano import terms, GaussianProcess\n",
    "\n",
    "\n",
    "with pm.Model() as model:\n",
    "\n",
    "    # Stellar parameters\n",
    "    mean = pm.Normal(\"mean\", mu=1.002, sigma=10.0)\n",
    "    u = xo.QuadLimbDark(\"u\")\n",
    "    star_params = [mean, u]\n",
    "\n",
    "    # Gaussian process noise model\n",
    "    sigma = pm.InverseGamma(\"sigma\", alpha=3.0, beta=2 * np.median(yerr))\n",
    "    log_sigma_gp = pm.Normal(\"log_sigma_gp\", mu=1.0, sigma=10.0)\n",
    "    log_rho_gp = pm.Normal(\"log_rho_gp\", mu=np.log(10.0), sigma=10.0)\n",
    "    kernel = terms.SHOTerm(\n",
    "        sigma=tt.exp(log_sigma_gp), rho=tt.exp(log_rho_gp), Q=1.0 / 3\n",
    "    )\n",
    "    noise_params = [sigma, log_sigma_gp, log_rho_gp]\n",
    "\n",
    "    # Planet parameters\n",
    "    log_ror = pm.Normal(\n",
    "        \"log_ror\", mu=0.5 * np.log(depth_guess * 2.9e-3), sigma=10.0\n",
    "    )\n",
    "    ror = pm.Deterministic(\"ror\", tt.exp(log_ror))\n",
    "\n",
    "    #Eccentricity\n",
    "    ecs = pmx.UnitDisk(\"ecs\", testval=np.array([0.01, 0.0]))\n",
    "    ecc = pm.Deterministic(\"ecc\", tt.sum(ecs**2))\n",
    "    omega = pm.Deterministic(\"omega\", tt.arctan2(ecs[1], ecs[0]))\n",
    "    xo.eccentricity.kipping13(\"ecc_prior\", fixed=True, observed=ecc)\n",
    "\n",
    "    # Orbital parameters\n",
    "    log_period = pm.Normal(\"log_period\", mu=np.log(period_guess), sigma=1.0)\n",
    "    period = pm.Deterministic(\"period\", tt.exp(log_period))\n",
    "    t0 = pm.Normal(\"t0\", mu=t0_guess, sigma=1.0)\n",
    "    log_dur = pm.Normal(\"log_dur\", mu=np.log(0.1)*0.7, sigma=10.0)\n",
    "    dur = pm.Deterministic(\"dur\", tt.exp(log_dur))\n",
    "    b = xo.distributions.ImpactParameter(\"b\", ror=ror)\n",
    "\n",
    "    # Set up the orbit\n",
    "    orbit = xo.orbits.KeplerianOrbit(\n",
    "        period=period,\n",
    "        duration = dur,\n",
    "        t0=t0,\n",
    "        b=b,\n",
    "        ecc=ecc,\n",
    "        omega=omega,\n",
    "    )\n",
    "\n",
    "\n",
    "    # We're going to track the implied density for reasons that will become clear later\n",
    "    pm.Deterministic(\"rho_circ\", orbit.rho_star)\n",
    "\n",
    "    # Set up the mean transit model\n",
    "    star = xo.LimbDarkLightCurve(u)\n",
    "    lc_model = mean + 1e3 * tt.sum(\n",
    "        star.get_light_curve(orbit=orbit, r=ror, t=x), axis=-1\n",
    "    )\n",
    "    \n",
    "    # Finally the GP observation model\n",
    "    gp = GaussianProcess(kernel, t=x, diag=yerr**2 + sigma**2)\n",
    "    gp.marginal(\"obs\", observed=y - lc_model)\n",
    "\n",
    "    # Double check that everything looks good - we shouldn't see any NaNs!\n",
    "    print(model.check_test_point())\n",
    "\n",
    "    # Optimize the model\n",
    "    map_soln = model.test_point\n",
    "    map_soln = pmx.optimize(map_soln, [sigma])\n",
    "    map_soln = pmx.optimize(map_soln, [ror, b, dur])\n",
    "    map_soln = pmx.optimize(start=map_soln, vars=[ecs])\n",
    "\n",
    "    map_soln = pmx.optimize(map_soln, noise_params)\n",
    "    map_soln = pmx.optimize(map_soln, star_params)\n",
    "    map_soln = pmx.optimize(map_soln)\n",
    "    \n",
    "\n",
    "with model:\n",
    "    lc_pred = pmx.eval_in_model(lc_model, map_soln)\n",
    "    gp_pred = pmx.eval_in_model(gp.predict(y - lc_pred), map_soln)\n",
    "\n",
    "plt.figure(figsize=(8, 4))\n",
    "x_fold = (x - map_soln[\"t0\"] + 0.5 * map_soln[\"period\"]) % map_soln[\n",
    "    \"period\"\n",
    "] - 0.5 * map_soln[\"period\"]\n",
    "\n",
    "\n",
    "inds = np.argsort(x_fold)\n",
    "plt.scatter(x_fold, y - gp_pred - map_soln[\"mean\"], c=x, s=3)\n",
    "plt.plot(x_fold[inds], lc_pred[inds] - map_soln[\"mean\"], \"k\")\n",
    "plt.xlabel(\"time since transit [days]\")\n",
    "plt.ylabel(\"relative flux [ppt]\")\n",
    "plt.colorbar(label=\"time [days]\")\n",
    "_ = plt.xlim(-0.25, 0.25)"
   ]
  },
  {
   "cell_type": "code",
   "execution_count": 23,
   "metadata": {},
   "outputs": [
    {
     "data": {
      "text/plain": [
       "{'mean': array(1.00014013),\n",
       " 'u_quadlimbdark__': array([-1.36500154e-05, -8.18358935e-06]),\n",
       " 'sigma_log__': array(-2.22664564),\n",
       " 'log_sigma_gp': array(-5.00432126),\n",
       " 'log_rho_gp': array(2.30265079),\n",
       " 'log_ror': array(-6.06971116),\n",
       " 'log_period': array(2.95610809),\n",
       " 't0': array(145.81189753),\n",
       " 'log_dur': array(-1.69917822),\n",
       " 'b_impact__': array(7.34352519e-05),\n",
       " 'ecs_unitdisk+interval__': array([0.3636494, 0.       ]),\n",
       " 'u': array([7.07101475e-01, 2.89332589e-06]),\n",
       " 'sigma': array(0.10788972),\n",
       " 'ror': array(0.00231184),\n",
       " 'period': array(19.22301179),\n",
       " 'dur': array(0.18283371),\n",
       " 'b': array(0.50117432),\n",
       " 'rho_circ': array(1.24451372),\n",
       " 'ecs': array([0.17984713, 0.        ]),\n",
       " 'ecc': array(0.03234499),\n",
       " 'omega': array(0.)}"
      ]
     },
     "execution_count": 23,
     "metadata": {},
     "output_type": "execute_result"
    }
   ],
   "source": [
    "map_soln"
   ]
  },
  {
   "cell_type": "code",
   "execution_count": 46,
   "metadata": {},
   "outputs": [
    {
     "name": "stderr",
     "output_type": "stream",
     "text": [
      "/tmp/ipykernel_5632/1604640981.py:4: DeprecationWarning: Call to deprecated Parameter start. (renamed to `initvals` in PyMC v4.0.0) -- Deprecated since v3.11.5.\n",
      "  trace = pm.sample(\n",
      "WARNING (theano.tensor.opt): Cannot construct a scalar test value from a test value with no size: InplaceDimShuffle{x,0}.0\n",
      "WARNING:theano.tensor.opt:Cannot construct a scalar test value from a test value with no size: InplaceDimShuffle{x,0}.0\n",
      "WARNING (theano.tensor.opt): Cannot construct a scalar test value from a test value with no size: Elemwise{cos,no_inplace}.0\n",
      "WARNING:theano.tensor.opt:Cannot construct a scalar test value from a test value with no size: Elemwise{cos,no_inplace}.0\n",
      "WARNING (theano.tensor.opt): Cannot construct a scalar test value from a test value with no size: InplaceDimShuffle{x,0}.0\n",
      "WARNING:theano.tensor.opt:Cannot construct a scalar test value from a test value with no size: InplaceDimShuffle{x,0}.0\n",
      "WARNING (theano.tensor.opt): Cannot construct a scalar test value from a test value with no size: Elemwise{sin,no_inplace}.0\n",
      "WARNING:theano.tensor.opt:Cannot construct a scalar test value from a test value with no size: Elemwise{sin,no_inplace}.0\n",
      "WARNING (theano.tensor.opt): Cannot construct a scalar test value from a test value with no size: InplaceDimShuffle{x,0}.0\n",
      "WARNING:theano.tensor.opt:Cannot construct a scalar test value from a test value with no size: InplaceDimShuffle{x,0}.0\n",
      "WARNING (theano.tensor.opt): Cannot construct a scalar test value from a test value with no size: Elemwise{sin,no_inplace}.0\n",
      "WARNING:theano.tensor.opt:Cannot construct a scalar test value from a test value with no size: Elemwise{sin,no_inplace}.0\n",
      "WARNING (theano.tensor.opt): Cannot construct a scalar test value from a test value with no size: InplaceDimShuffle{x,0}.0\n",
      "WARNING:theano.tensor.opt:Cannot construct a scalar test value from a test value with no size: InplaceDimShuffle{x,0}.0\n",
      "WARNING (theano.tensor.opt): Cannot construct a scalar test value from a test value with no size: Elemwise{cos,no_inplace}.0\n",
      "WARNING:theano.tensor.opt:Cannot construct a scalar test value from a test value with no size: Elemwise{cos,no_inplace}.0\n",
      "Auto-assigning NUTS sampler...\n",
      "INFO:pymc3:Auto-assigning NUTS sampler...\n",
      "Initializing NUTS using adapt_full...\n",
      "INFO:pymc3:Initializing NUTS using adapt_full...\n",
      "/home/cm2435/anaconda3/envs/uni_cw/lib/python3.9/site-packages/pymc3/step_methods/hmc/quadpotential.py:510: UserWarning: QuadPotentialFullAdapt is an experimental feature\n",
      "  warnings.warn(\"QuadPotentialFullAdapt is an experimental feature\")\n"
     ]
    },
    {
     "ename": "TypeError",
     "evalue": "function() got an unexpected keyword argument 'var_names'",
     "output_type": "error",
     "traceback": [
      "\u001b[0;31m---------------------------------------------------------------------------\u001b[0m",
      "\u001b[0;31mTypeError\u001b[0m                                 Traceback (most recent call last)",
      "\u001b[1;32m/home/cm2435/Desktop/university_computing_y3/ph30016_b/Chapter3_ExoLightCurves.ipynb Cell 43\u001b[0m in \u001b[0;36m<cell line: 3>\u001b[0;34m()\u001b[0m\n\u001b[1;32m      <a href='vscode-notebook-cell:/home/cm2435/Desktop/university_computing_y3/ph30016_b/Chapter3_ExoLightCurves.ipynb#Y131sZmlsZQ%3D%3D?line=0'>1</a>\u001b[0m \u001b[39mimport\u001b[39;00m \u001b[39mplatform\u001b[39;00m\n\u001b[1;32m      <a href='vscode-notebook-cell:/home/cm2435/Desktop/university_computing_y3/ph30016_b/Chapter3_ExoLightCurves.ipynb#Y131sZmlsZQ%3D%3D?line=2'>3</a>\u001b[0m \u001b[39mwith\u001b[39;00m model:\n\u001b[0;32m----> <a href='vscode-notebook-cell:/home/cm2435/Desktop/university_computing_y3/ph30016_b/Chapter3_ExoLightCurves.ipynb#Y131sZmlsZQ%3D%3D?line=3'>4</a>\u001b[0m     trace \u001b[39m=\u001b[39m pm\u001b[39m.\u001b[39;49msample(\n\u001b[1;32m      <a href='vscode-notebook-cell:/home/cm2435/Desktop/university_computing_y3/ph30016_b/Chapter3_ExoLightCurves.ipynb#Y131sZmlsZQ%3D%3D?line=4'>5</a>\u001b[0m         tune\u001b[39m=\u001b[39;49m\u001b[39m3000\u001b[39;49m,\n\u001b[1;32m      <a href='vscode-notebook-cell:/home/cm2435/Desktop/university_computing_y3/ph30016_b/Chapter3_ExoLightCurves.ipynb#Y131sZmlsZQ%3D%3D?line=5'>6</a>\u001b[0m         draws\u001b[39m=\u001b[39;49m\u001b[39m2000\u001b[39;49m,\n\u001b[1;32m      <a href='vscode-notebook-cell:/home/cm2435/Desktop/university_computing_y3/ph30016_b/Chapter3_ExoLightCurves.ipynb#Y131sZmlsZQ%3D%3D?line=6'>7</a>\u001b[0m         start\u001b[39m=\u001b[39;49mmap_soln,\n\u001b[1;32m      <a href='vscode-notebook-cell:/home/cm2435/Desktop/university_computing_y3/ph30016_b/Chapter3_ExoLightCurves.ipynb#Y131sZmlsZQ%3D%3D?line=7'>8</a>\u001b[0m         \u001b[39m# Parallel sampling runs poorly or crashes on macos\u001b[39;49;00m\n\u001b[1;32m      <a href='vscode-notebook-cell:/home/cm2435/Desktop/university_computing_y3/ph30016_b/Chapter3_ExoLightCurves.ipynb#Y131sZmlsZQ%3D%3D?line=8'>9</a>\u001b[0m         var_names \u001b[39m=\u001b[39;49m [\u001b[39m\"\u001b[39;49m\u001b[39mu_quadlimbdark__\u001b[39;49m\u001b[39m\"\u001b[39;49m, \u001b[39m\"\u001b[39;49m\u001b[39mecc\u001b[39;49m\u001b[39m\"\u001b[39;49m, \u001b[39m\"\u001b[39;49m\u001b[39mu\u001b[39;49m\u001b[39m\"\u001b[39;49m, \u001b[39m\"\u001b[39;49m\u001b[39mlog_sigma_gp\u001b[39;49m\u001b[39m\"\u001b[39;49m, \u001b[39m\"\u001b[39;49m\u001b[39mlog_rho_gp\u001b[39;49m\u001b[39m\"\u001b[39;49m],\n\u001b[1;32m     <a href='vscode-notebook-cell:/home/cm2435/Desktop/university_computing_y3/ph30016_b/Chapter3_ExoLightCurves.ipynb#Y131sZmlsZQ%3D%3D?line=9'>10</a>\u001b[0m         cores\u001b[39m=\u001b[39;49m\u001b[39m16\u001b[39;49m,\n\u001b[1;32m     <a href='vscode-notebook-cell:/home/cm2435/Desktop/university_computing_y3/ph30016_b/Chapter3_ExoLightCurves.ipynb#Y131sZmlsZQ%3D%3D?line=10'>11</a>\u001b[0m         chains\u001b[39m=\u001b[39;49m\u001b[39m2\u001b[39;49m,\n\u001b[1;32m     <a href='vscode-notebook-cell:/home/cm2435/Desktop/university_computing_y3/ph30016_b/Chapter3_ExoLightCurves.ipynb#Y131sZmlsZQ%3D%3D?line=11'>12</a>\u001b[0m         target_accept\u001b[39m=\u001b[39;49m\u001b[39m0.95\u001b[39;49m,\n\u001b[1;32m     <a href='vscode-notebook-cell:/home/cm2435/Desktop/university_computing_y3/ph30016_b/Chapter3_ExoLightCurves.ipynb#Y131sZmlsZQ%3D%3D?line=12'>13</a>\u001b[0m         return_inferencedata\u001b[39m=\u001b[39;49m\u001b[39mTrue\u001b[39;49;00m,\n\u001b[1;32m     <a href='vscode-notebook-cell:/home/cm2435/Desktop/university_computing_y3/ph30016_b/Chapter3_ExoLightCurves.ipynb#Y131sZmlsZQ%3D%3D?line=13'>14</a>\u001b[0m         random_seed\u001b[39m=\u001b[39;49m[\u001b[39m261136679\u001b[39;49m, \u001b[39m261136680\u001b[39;49m],\n\u001b[1;32m     <a href='vscode-notebook-cell:/home/cm2435/Desktop/university_computing_y3/ph30016_b/Chapter3_ExoLightCurves.ipynb#Y131sZmlsZQ%3D%3D?line=14'>15</a>\u001b[0m         init\u001b[39m=\u001b[39;49m\u001b[39m\"\u001b[39;49m\u001b[39madapt_full\u001b[39;49m\u001b[39m\"\u001b[39;49m,\n\u001b[1;32m     <a href='vscode-notebook-cell:/home/cm2435/Desktop/university_computing_y3/ph30016_b/Chapter3_ExoLightCurves.ipynb#Y131sZmlsZQ%3D%3D?line=15'>16</a>\u001b[0m     )\n",
      "File \u001b[0;32m~/anaconda3/envs/uni_cw/lib/python3.9/site-packages/deprecat/classic.py:215\u001b[0m, in \u001b[0;36mdeprecat.<locals>.wrapper_function\u001b[0;34m(wrapped_, instance_, args_, kwargs_)\u001b[0m\n\u001b[1;32m    213\u001b[0m         \u001b[39melse\u001b[39;00m:\n\u001b[1;32m    214\u001b[0m             warnings\u001b[39m.\u001b[39mwarn(message, category\u001b[39m=\u001b[39mcategory, stacklevel\u001b[39m=\u001b[39m_routine_stacklevel)\n\u001b[0;32m--> 215\u001b[0m \u001b[39mreturn\u001b[39;00m wrapped_(\u001b[39m*\u001b[39;49margs_, \u001b[39m*\u001b[39;49m\u001b[39m*\u001b[39;49mkwargs_)\n",
      "File \u001b[0;32m~/anaconda3/envs/uni_cw/lib/python3.9/site-packages/pymc3/sampling.py:512\u001b[0m, in \u001b[0;36msample\u001b[0;34m(draws, step, init, n_init, initvals, trace, chain_idx, chains, cores, tune, progressbar, model, random_seed, discard_tuned_samples, compute_convergence_checks, callback, jitter_max_retries, start, return_inferencedata, idata_kwargs, mp_ctx, pickle_backend, **kwargs)\u001b[0m\n\u001b[1;32m    509\u001b[0m \u001b[39mtry\u001b[39;00m:\n\u001b[1;32m    510\u001b[0m     \u001b[39m# By default, try to use NUTS\u001b[39;00m\n\u001b[1;32m    511\u001b[0m     _log\u001b[39m.\u001b[39minfo(\u001b[39m\"\u001b[39m\u001b[39mAuto-assigning NUTS sampler...\u001b[39m\u001b[39m\"\u001b[39m)\n\u001b[0;32m--> 512\u001b[0m     start_, step \u001b[39m=\u001b[39m init_nuts(\n\u001b[1;32m    513\u001b[0m         init\u001b[39m=\u001b[39;49minit,\n\u001b[1;32m    514\u001b[0m         chains\u001b[39m=\u001b[39;49mchains,\n\u001b[1;32m    515\u001b[0m         n_init\u001b[39m=\u001b[39;49mn_init,\n\u001b[1;32m    516\u001b[0m         model\u001b[39m=\u001b[39;49mmodel,\n\u001b[1;32m    517\u001b[0m         random_seed\u001b[39m=\u001b[39;49mrandom_seed,\n\u001b[1;32m    518\u001b[0m         progressbar\u001b[39m=\u001b[39;49mprogressbar,\n\u001b[1;32m    519\u001b[0m         jitter_max_retries\u001b[39m=\u001b[39;49mjitter_max_retries,\n\u001b[1;32m    520\u001b[0m         \u001b[39m*\u001b[39;49m\u001b[39m*\u001b[39;49mkwargs,\n\u001b[1;32m    521\u001b[0m     )\n\u001b[1;32m    522\u001b[0m     \u001b[39mif\u001b[39;00m start \u001b[39mis\u001b[39;00m \u001b[39mNone\u001b[39;00m:\n\u001b[1;32m    523\u001b[0m         start \u001b[39m=\u001b[39m start_\n",
      "File \u001b[0;32m~/anaconda3/envs/uni_cw/lib/python3.9/site-packages/pymc3/sampling.py:2206\u001b[0m, in \u001b[0;36minit_nuts\u001b[0;34m(init, chains, n_init, model, random_seed, progressbar, jitter_max_retries, **kwargs)\u001b[0m\n\u001b[1;32m   2203\u001b[0m \u001b[39melse\u001b[39;00m:\n\u001b[1;32m   2204\u001b[0m     \u001b[39mraise\u001b[39;00m \u001b[39mValueError\u001b[39;00m(\u001b[39mf\u001b[39m\u001b[39m\"\u001b[39m\u001b[39mUnknown initializer: \u001b[39m\u001b[39m{\u001b[39;00minit\u001b[39m}\u001b[39;00m\u001b[39m.\u001b[39m\u001b[39m\"\u001b[39m)\n\u001b[0;32m-> 2206\u001b[0m step \u001b[39m=\u001b[39m pm\u001b[39m.\u001b[39;49mNUTS(potential\u001b[39m=\u001b[39;49mpotential, model\u001b[39m=\u001b[39;49mmodel, \u001b[39m*\u001b[39;49m\u001b[39m*\u001b[39;49mkwargs)\n\u001b[1;32m   2208\u001b[0m \u001b[39mreturn\u001b[39;00m start, step\n",
      "File \u001b[0;32m~/anaconda3/envs/uni_cw/lib/python3.9/site-packages/pymc3/step_methods/hmc/nuts.py:168\u001b[0m, in \u001b[0;36mNUTS.__init__\u001b[0;34m(self, vars, max_treedepth, early_max_treedepth, **kwargs)\u001b[0m\n\u001b[1;32m    112\u001b[0m \u001b[39mdef\u001b[39;00m \u001b[39m__init__\u001b[39m(\u001b[39mself\u001b[39m, \u001b[39mvars\u001b[39m\u001b[39m=\u001b[39m\u001b[39mNone\u001b[39;00m, max_treedepth\u001b[39m=\u001b[39m\u001b[39m10\u001b[39m, early_max_treedepth\u001b[39m=\u001b[39m\u001b[39m8\u001b[39m, \u001b[39m*\u001b[39m\u001b[39m*\u001b[39mkwargs):\n\u001b[1;32m    113\u001b[0m     \u001b[39mr\u001b[39m\u001b[39m\"\"\"Set up the No-U-Turn sampler.\u001b[39;00m\n\u001b[1;32m    114\u001b[0m \n\u001b[1;32m    115\u001b[0m \u001b[39m    Parameters\u001b[39;00m\n\u001b[0;32m   (...)\u001b[0m\n\u001b[1;32m    166\u001b[0m \u001b[39m    `pm.sample` to the desired number of tuning steps.\u001b[39;00m\n\u001b[1;32m    167\u001b[0m \u001b[39m    \"\"\"\u001b[39;00m\n\u001b[0;32m--> 168\u001b[0m     \u001b[39msuper\u001b[39;49m()\u001b[39m.\u001b[39;49m\u001b[39m__init__\u001b[39;49m(\u001b[39mvars\u001b[39;49m, \u001b[39m*\u001b[39;49m\u001b[39m*\u001b[39;49mkwargs)\n\u001b[1;32m    170\u001b[0m     \u001b[39mself\u001b[39m\u001b[39m.\u001b[39mmax_treedepth \u001b[39m=\u001b[39m max_treedepth\n\u001b[1;32m    171\u001b[0m     \u001b[39mself\u001b[39m\u001b[39m.\u001b[39mearly_max_treedepth \u001b[39m=\u001b[39m early_max_treedepth\n",
      "File \u001b[0;32m~/anaconda3/envs/uni_cw/lib/python3.9/site-packages/pymc3/step_methods/hmc/base_hmc.py:88\u001b[0m, in \u001b[0;36mBaseHMC.__init__\u001b[0;34m(self, vars, scaling, step_scale, is_cov, model, blocked, potential, dtype, Emax, target_accept, gamma, k, t0, adapt_step_size, step_rand, **theano_kwargs)\u001b[0m\n\u001b[1;32m     85\u001b[0m     \u001b[39mvars\u001b[39m \u001b[39m=\u001b[39m \u001b[39mself\u001b[39m\u001b[39m.\u001b[39m_model\u001b[39m.\u001b[39mcont_vars\n\u001b[1;32m     86\u001b[0m \u001b[39mvars\u001b[39m \u001b[39m=\u001b[39m inputvars(\u001b[39mvars\u001b[39m)\n\u001b[0;32m---> 88\u001b[0m \u001b[39msuper\u001b[39;49m()\u001b[39m.\u001b[39;49m\u001b[39m__init__\u001b[39;49m(\u001b[39mvars\u001b[39;49m, blocked\u001b[39m=\u001b[39;49mblocked, model\u001b[39m=\u001b[39;49mmodel, dtype\u001b[39m=\u001b[39;49mdtype, \u001b[39m*\u001b[39;49m\u001b[39m*\u001b[39;49mtheano_kwargs)\n\u001b[1;32m     90\u001b[0m \u001b[39mself\u001b[39m\u001b[39m.\u001b[39madapt_step_size \u001b[39m=\u001b[39m adapt_step_size\n\u001b[1;32m     91\u001b[0m \u001b[39mself\u001b[39m\u001b[39m.\u001b[39mEmax \u001b[39m=\u001b[39m Emax\n",
      "File \u001b[0;32m~/anaconda3/envs/uni_cw/lib/python3.9/site-packages/pymc3/step_methods/arraystep.py:254\u001b[0m, in \u001b[0;36mGradientSharedStep.__init__\u001b[0;34m(self, vars, model, blocked, dtype, logp_dlogp_func, **theano_kwargs)\u001b[0m\n\u001b[1;32m    251\u001b[0m \u001b[39mself\u001b[39m\u001b[39m.\u001b[39mblocked \u001b[39m=\u001b[39m blocked\n\u001b[1;32m    253\u001b[0m \u001b[39mif\u001b[39;00m logp_dlogp_func \u001b[39mis\u001b[39;00m \u001b[39mNone\u001b[39;00m:\n\u001b[0;32m--> 254\u001b[0m     func \u001b[39m=\u001b[39m model\u001b[39m.\u001b[39;49mlogp_dlogp_function(\u001b[39mvars\u001b[39;49m, dtype\u001b[39m=\u001b[39;49mdtype, \u001b[39m*\u001b[39;49m\u001b[39m*\u001b[39;49mtheano_kwargs)\n\u001b[1;32m    255\u001b[0m \u001b[39melse\u001b[39;00m:\n\u001b[1;32m    256\u001b[0m     func \u001b[39m=\u001b[39m logp_dlogp_func\n",
      "File \u001b[0;32m~/anaconda3/envs/uni_cw/lib/python3.9/site-packages/pymc3/model.py:1004\u001b[0m, in \u001b[0;36mModel.logp_dlogp_function\u001b[0;34m(self, grad_vars, tempered, **kwargs)\u001b[0m\n\u001b[1;32m   1002\u001b[0m varnames \u001b[39m=\u001b[39m [var\u001b[39m.\u001b[39mname \u001b[39mfor\u001b[39;00m var \u001b[39min\u001b[39;00m grad_vars]\n\u001b[1;32m   1003\u001b[0m extra_vars \u001b[39m=\u001b[39m [var \u001b[39mfor\u001b[39;00m var \u001b[39min\u001b[39;00m \u001b[39mself\u001b[39m\u001b[39m.\u001b[39mfree_RVs \u001b[39mif\u001b[39;00m var\u001b[39m.\u001b[39mname \u001b[39mnot\u001b[39;00m \u001b[39min\u001b[39;00m varnames]\n\u001b[0;32m-> 1004\u001b[0m \u001b[39mreturn\u001b[39;00m ValueGradFunction(costs, grad_vars, extra_vars, \u001b[39m*\u001b[39;49m\u001b[39m*\u001b[39;49mkwargs)\n",
      "File \u001b[0;32m~/anaconda3/envs/uni_cw/lib/python3.9/site-packages/pymc3/model.py:699\u001b[0m, in \u001b[0;36mValueGradFunction.__init__\u001b[0;34m(self, costs, grad_vars, extra_vars, dtype, casting, compute_grads, **kwargs)\u001b[0m\n\u001b[1;32m    695\u001b[0m     outputs \u001b[39m=\u001b[39m \u001b[39mself\u001b[39m\u001b[39m.\u001b[39m_cost_joined\n\u001b[1;32m    697\u001b[0m inputs \u001b[39m=\u001b[39m [\u001b[39mself\u001b[39m\u001b[39m.\u001b[39m_vars_joined]\n\u001b[0;32m--> 699\u001b[0m \u001b[39mself\u001b[39m\u001b[39m.\u001b[39m_theano_function \u001b[39m=\u001b[39m theano\u001b[39m.\u001b[39;49mfunction(inputs, outputs, givens\u001b[39m=\u001b[39;49mgivens, \u001b[39m*\u001b[39;49m\u001b[39m*\u001b[39;49mkwargs)\n",
      "\u001b[0;31mTypeError\u001b[0m: function() got an unexpected keyword argument 'var_names'"
     ]
    }
   ],
   "source": [
    "import platform\n",
    "\n",
    "with model:\n",
    "    tracer = pm.sample(\n",
    "        tune=3000,\n",
    "        draws=2000,\n",
    "        start=map_soln,\n",
    "        # Parallel sampling runs poorly or crashes on macos\n",
    "        var_names = [\"u_quadlimbdark__\", \"ecc\", \"u\", \"log_sigma_gp\", \"log_rho_gp\"],\n",
    "        cores=16,\n",
    "        chains=2,\n",
    "        target_accept=0.95,\n",
    "        return_inferencedata=True,\n",
    "        random_seed=[261136679, 261136680],\n",
    "        init=\"adapt_full\",\n",
    "    )"
   ]
  },
  {
   "cell_type": "code",
   "execution_count": 31,
   "metadata": {},
   "outputs": [
    {
     "name": "stderr",
     "output_type": "stream",
     "text": [
      "/tmp/ipykernel_5632/3279960989.py:4: DeprecationWarning: Call to deprecated Parameter start. (renamed to `initvals` in PyMC v4.0.0) -- Deprecated since v3.11.5.\n",
      "  trace = pm.sample(\n",
      "WARNING (theano.tensor.opt): Cannot construct a scalar test value from a test value with no size: InplaceDimShuffle{x,0}.0\n",
      "WARNING (theano.tensor.opt): Cannot construct a scalar test value from a test value with no size: Elemwise{cos,no_inplace}.0\n",
      "WARNING (theano.tensor.opt): Cannot construct a scalar test value from a test value with no size: InplaceDimShuffle{x,0}.0\n",
      "WARNING (theano.tensor.opt): Cannot construct a scalar test value from a test value with no size: Elemwise{sin,no_inplace}.0\n",
      "WARNING (theano.tensor.opt): Cannot construct a scalar test value from a test value with no size: InplaceDimShuffle{x,0}.0\n",
      "WARNING (theano.tensor.opt): Cannot construct a scalar test value from a test value with no size: Elemwise{sin,no_inplace}.0\n",
      "WARNING (theano.tensor.opt): Cannot construct a scalar test value from a test value with no size: InplaceDimShuffle{x,0}.0\n",
      "WARNING (theano.tensor.opt): Cannot construct a scalar test value from a test value with no size: Elemwise{cos,no_inplace}.0\n",
      "Auto-assigning NUTS sampler...\n",
      "Initializing NUTS using adapt_full...\n",
      "/home/cm2435/anaconda3/envs/uni_cw/lib/python3.9/site-packages/pymc3/step_methods/hmc/quadpotential.py:510: UserWarning: QuadPotentialFullAdapt is an experimental feature\n",
      "  warnings.warn(\"QuadPotentialFullAdapt is an experimental feature\")\n",
      "WARNING (theano.tensor.opt): Cannot construct a scalar test value from a test value with no size: Elemwise{mul}.0\n",
      "WARNING (theano.tensor.opt): Cannot construct a scalar test value from a test value with no size: Elemwise{sin,no_inplace}.0\n",
      "WARNING (theano.tensor.opt): Cannot construct a scalar test value from a test value with no size: Elemwise{cos,no_inplace}.0\n",
      "WARNING (theano.tensor.opt): Cannot construct a scalar test value from a test value with no size: Elemwise{mul}.0\n",
      "WARNING (theano.tensor.opt): Cannot construct a scalar test value from a test value with no size: {self.__class__.__name__ }{{{self.len_splits}}}.1\n",
      "WARNING (theano.tensor.opt): Cannot construct a scalar test value from a test value with no size: Elemwise{mul}.0\n",
      "WARNING (theano.tensor.opt): Cannot construct a scalar test value from a test value with no size: Elemwise{mul}.0\n",
      "WARNING (theano.tensor.opt): Cannot construct a scalar test value from a test value with no size: {self.__class__.__name__ }{{{self.len_splits}}}.2\n",
      "WARNING (theano.tensor.opt): Cannot construct a scalar test value from a test value with no size: {self.__class__.__name__ }{{{self.len_splits}}}.1\n",
      "WARNING (theano.tensor.opt): Cannot construct a scalar test value from a test value with no size: InplaceDimShuffle{x,0}.0\n",
      "WARNING (theano.tensor.opt): Cannot construct a scalar test value from a test value with no size: {self.__class__.__name__ }{{{self.len_splits}}}.2\n",
      "WARNING (theano.tensor.opt): Cannot construct a scalar test value from a test value with no size: InplaceDimShuffle{x,0}.0\n",
      "WARNING (theano.tensor.opt): Cannot construct a scalar test value from a test value with no size: InplaceDimShuffle{x,0}.0\n",
      "WARNING (theano.tensor.opt): Cannot construct a scalar test value from a test value with no size: Elemwise{cos,no_inplace}.0\n",
      "WARNING (theano.tensor.opt): Cannot construct a scalar test value from a test value with no size: InplaceDimShuffle{x,0}.0\n",
      "WARNING (theano.tensor.opt): Cannot construct a scalar test value from a test value with no size: Elemwise{sin,no_inplace}.0\n",
      "WARNING (theano.tensor.opt): Cannot construct a scalar test value from a test value with no size: InplaceDimShuffle{x,0}.0\n",
      "WARNING (theano.tensor.opt): Cannot construct a scalar test value from a test value with no size: Elemwise{sin,no_inplace}.0\n",
      "WARNING (theano.tensor.opt): Cannot construct a scalar test value from a test value with no size: InplaceDimShuffle{x,0}.0\n",
      "WARNING (theano.tensor.opt): Cannot construct a scalar test value from a test value with no size: Elemwise{cos,no_inplace}.0\n",
      "Multiprocess sampling (2 chains in 16 jobs)\n",
      "NUTS: [ecs, b, log_dur, t0, log_period, log_ror, log_rho_gp, log_sigma_gp, sigma, u, mean]\n"
     ]
    },
    {
     "data": {
      "text/html": [
       "\n",
       "<style>\n",
       "    /* Turns off some styling */\n",
       "    progress {\n",
       "        /* gets rid of default border in Firefox and Opera. */\n",
       "        border: none;\n",
       "        /* Needs to be in here for Safari polyfill so background images work as expected. */\n",
       "        background-size: auto;\n",
       "    }\n",
       "    progress:not([value]), progress:not([value])::-webkit-progress-bar {\n",
       "        background: repeating-linear-gradient(45deg, #7e7e7e, #7e7e7e 10px, #5c5c5c 10px, #5c5c5c 20px);\n",
       "    }\n",
       "    .progress-bar-interrupted, .progress-bar-interrupted::-webkit-progress-bar {\n",
       "        background: #F44336;\n",
       "    }\n",
       "</style>\n"
      ],
      "text/plain": [
       "<IPython.core.display.HTML object>"
      ]
     },
     "metadata": {},
     "output_type": "display_data"
    },
    {
     "data": {
      "text/html": [
       "\n",
       "    <div>\n",
       "      <progress value='5000' class='' max='5000' style='width:300px; height:20px; vertical-align: middle;'></progress>\n",
       "      100.00% [5000/5000 30:58&lt;00:00 Sampling 2 chains, 989 divergences]\n",
       "    </div>\n",
       "    "
      ],
      "text/plain": [
       "<IPython.core.display.HTML object>"
      ]
     },
     "metadata": {},
     "output_type": "display_data"
    },
    {
     "name": "stderr",
     "output_type": "stream",
     "text": [
      "Sampling 2 chains for 1_500 tune and 1_000 draw iterations (3_000 + 2_000 draws total) took 1859 seconds.\n",
      "WARNING (theano.tensor.opt): Cannot construct a scalar test value from a test value with no size: InplaceDimShuffle{x,0}.0\n",
      "WARNING (theano.tensor.opt): Cannot construct a scalar test value from a test value with no size: Elemwise{cos,no_inplace}.0\n",
      "WARNING (theano.tensor.opt): Cannot construct a scalar test value from a test value with no size: InplaceDimShuffle{x,0}.0\n",
      "WARNING (theano.tensor.opt): Cannot construct a scalar test value from a test value with no size: Elemwise{sin,no_inplace}.0\n",
      "WARNING (theano.tensor.opt): Cannot construct a scalar test value from a test value with no size: InplaceDimShuffle{x,0}.0\n",
      "WARNING (theano.tensor.opt): Cannot construct a scalar test value from a test value with no size: Elemwise{sin,no_inplace}.0\n",
      "WARNING (theano.tensor.opt): Cannot construct a scalar test value from a test value with no size: InplaceDimShuffle{x,0}.0\n",
      "WARNING (theano.tensor.opt): Cannot construct a scalar test value from a test value with no size: Elemwise{cos,no_inplace}.0\n",
      "There were 989 divergences after tuning. Increase `target_accept` or reparameterize.\n",
      "The acceptance probability does not match the target. It is 0.9074035158405531, but should be close to 0.95. Try to increase the number of tuning steps.\n",
      "The chain reached the maximum tree depth. Increase max_treedepth, increase target_accept or reparameterize.\n",
      "The rhat statistic is larger than 1.4 for some parameters. The sampler did not converge.\n",
      "The estimated number of effective samples is smaller than 200 for some parameters.\n"
     ]
    },
    {
     "data": {
      "text/plain": [
       "'trace = pmx.sample(\\n        tune=1000,\\n        draws=1000,\\n        start=map_soln,\\n        chains=2,\\n        cores=2,\\n        return_inferencedata=True,\\n        random_seed=[286923464, 464329682],\\n    )'"
      ]
     },
     "execution_count": 31,
     "metadata": {},
     "output_type": "execute_result"
    }
   ],
   "source": [
    "import platform\n",
    "\n",
    "with model:\n",
    "    trace = pm.sample(\n",
    "        tune=1500,\n",
    "        draws=1000,\n",
    "        start=map_soln,\n",
    "        # Parallel sampling runs poorly or crashes on macos\n",
    "        var_names = [\"u_quadlimbdark__\", \"ecc\", \"u\", \"log_sigma_gp\", \"log_rho_gp\"]\n",
    "        cores=16,\n",
    "        chains=2,\n",
    "        target_accept=0.95,\n",
    "        return_inferencedata=True,\n",
    "        random_seed=[261136679, 261136680],\n",
    "        init=\"adapt_full\",\n",
    "    )\n",
    "#with model:\n",
    "    \n",
    "\"\"\"trace = pmx.sample(\n",
    "        tune=1000,\n",
    "        draws=1000,\n",
    "        start=map_soln,\n",
    "        chains=2,\n",
    "        cores=2,\n",
    "        return_inferencedata=True,\n",
    "        random_seed=[286923464, 464329682],\n",
    "    )\"\"\""
   ]
  },
  {
   "cell_type": "code",
   "execution_count": 49,
   "metadata": {},
   "outputs": [
    {
     "data": {
      "text/html": [
       "<div>\n",
       "<style scoped>\n",
       "    .dataframe tbody tr th:only-of-type {\n",
       "        vertical-align: middle;\n",
       "    }\n",
       "\n",
       "    .dataframe tbody tr th {\n",
       "        vertical-align: top;\n",
       "    }\n",
       "\n",
       "    .dataframe thead th {\n",
       "        text-align: right;\n",
       "    }\n",
       "</style>\n",
       "<table border=\"1\" class=\"dataframe\">\n",
       "  <thead>\n",
       "    <tr style=\"text-align: right;\">\n",
       "      <th></th>\n",
       "      <th>mean</th>\n",
       "      <th>sd</th>\n",
       "      <th>hdi_3%</th>\n",
       "      <th>hdi_97%</th>\n",
       "      <th>mcse_mean</th>\n",
       "      <th>mcse_sd</th>\n",
       "      <th>ess_bulk</th>\n",
       "      <th>ess_tail</th>\n",
       "      <th>r_hat</th>\n",
       "    </tr>\n",
       "  </thead>\n",
       "  <tbody>\n",
       "    <tr>\n",
       "      <th>mean</th>\n",
       "      <td>9.870000e-01</td>\n",
       "      <td>1.000000e-03</td>\n",
       "      <td>0.986</td>\n",
       "      <td>9.880000e-01</td>\n",
       "      <td>0.000000e+00</td>\n",
       "      <td>0.000000e+00</td>\n",
       "      <td>3.0</td>\n",
       "      <td>12.0</td>\n",
       "      <td>2.16</td>\n",
       "    </tr>\n",
       "    <tr>\n",
       "      <th>log_sigma_gp</th>\n",
       "      <td>-8.073000e+00</td>\n",
       "      <td>2.361000e+00</td>\n",
       "      <td>-10.456</td>\n",
       "      <td>-5.713000e+00</td>\n",
       "      <td>1.663000e+00</td>\n",
       "      <td>1.407000e+00</td>\n",
       "      <td>3.0</td>\n",
       "      <td>11.0</td>\n",
       "      <td>2.05</td>\n",
       "    </tr>\n",
       "    <tr>\n",
       "      <th>log_rho_gp</th>\n",
       "      <td>-7.980000e+00</td>\n",
       "      <td>6.270000e-01</td>\n",
       "      <td>-8.658</td>\n",
       "      <td>-7.354000e+00</td>\n",
       "      <td>4.410000e-01</td>\n",
       "      <td>3.730000e-01</td>\n",
       "      <td>3.0</td>\n",
       "      <td>19.0</td>\n",
       "      <td>1.96</td>\n",
       "    </tr>\n",
       "    <tr>\n",
       "      <th>log_ror</th>\n",
       "      <td>-3.132000e+00</td>\n",
       "      <td>4.362000e+00</td>\n",
       "      <td>-7.499</td>\n",
       "      <td>1.229000e+00</td>\n",
       "      <td>3.072000e+00</td>\n",
       "      <td>2.599000e+00</td>\n",
       "      <td>3.0</td>\n",
       "      <td>20.0</td>\n",
       "      <td>1.85</td>\n",
       "    </tr>\n",
       "    <tr>\n",
       "      <th>log_period</th>\n",
       "      <td>1.242000e+00</td>\n",
       "      <td>1.047000e+00</td>\n",
       "      <td>0.195</td>\n",
       "      <td>2.296000e+00</td>\n",
       "      <td>7.370000e-01</td>\n",
       "      <td>6.240000e-01</td>\n",
       "      <td>3.0</td>\n",
       "      <td>14.0</td>\n",
       "      <td>2.11</td>\n",
       "    </tr>\n",
       "    <tr>\n",
       "      <th>t0</th>\n",
       "      <td>1.449120e+02</td>\n",
       "      <td>1.360000e-01</td>\n",
       "      <td>144.771</td>\n",
       "      <td>1.450490e+02</td>\n",
       "      <td>9.600000e-02</td>\n",
       "      <td>8.100000e-02</td>\n",
       "      <td>3.0</td>\n",
       "      <td>14.0</td>\n",
       "      <td>2.21</td>\n",
       "    </tr>\n",
       "    <tr>\n",
       "      <th>log_dur</th>\n",
       "      <td>3.206000e+00</td>\n",
       "      <td>1.229500e+01</td>\n",
       "      <td>-9.086</td>\n",
       "      <td>1.557900e+01</td>\n",
       "      <td>8.659000e+00</td>\n",
       "      <td>7.325000e+00</td>\n",
       "      <td>3.0</td>\n",
       "      <td>13.0</td>\n",
       "      <td>1.97</td>\n",
       "    </tr>\n",
       "    <tr>\n",
       "      <th>u[0]</th>\n",
       "      <td>2.340000e-01</td>\n",
       "      <td>2.250000e-01</td>\n",
       "      <td>0.009</td>\n",
       "      <td>4.610000e-01</td>\n",
       "      <td>1.590000e-01</td>\n",
       "      <td>1.340000e-01</td>\n",
       "      <td>3.0</td>\n",
       "      <td>12.0</td>\n",
       "      <td>2.12</td>\n",
       "    </tr>\n",
       "    <tr>\n",
       "      <th>u[1]</th>\n",
       "      <td>3.790000e-01</td>\n",
       "      <td>2.450000e-01</td>\n",
       "      <td>0.132</td>\n",
       "      <td>6.240000e-01</td>\n",
       "      <td>1.730000e-01</td>\n",
       "      <td>1.460000e-01</td>\n",
       "      <td>3.0</td>\n",
       "      <td>11.0</td>\n",
       "      <td>2.10</td>\n",
       "    </tr>\n",
       "    <tr>\n",
       "      <th>sigma</th>\n",
       "      <td>1.150000e-01</td>\n",
       "      <td>1.000000e-02</td>\n",
       "      <td>0.104</td>\n",
       "      <td>1.250000e-01</td>\n",
       "      <td>7.000000e-03</td>\n",
       "      <td>6.000000e-03</td>\n",
       "      <td>3.0</td>\n",
       "      <td>11.0</td>\n",
       "      <td>2.23</td>\n",
       "    </tr>\n",
       "    <tr>\n",
       "      <th>ror</th>\n",
       "      <td>1.709000e+00</td>\n",
       "      <td>1.708000e+00</td>\n",
       "      <td>0.001</td>\n",
       "      <td>3.417000e+00</td>\n",
       "      <td>1.203000e+00</td>\n",
       "      <td>1.018000e+00</td>\n",
       "      <td>3.0</td>\n",
       "      <td>20.0</td>\n",
       "      <td>1.85</td>\n",
       "    </tr>\n",
       "    <tr>\n",
       "      <th>period</th>\n",
       "      <td>5.538000e+00</td>\n",
       "      <td>4.324000e+00</td>\n",
       "      <td>1.216</td>\n",
       "      <td>9.936000e+00</td>\n",
       "      <td>3.045000e+00</td>\n",
       "      <td>2.576000e+00</td>\n",
       "      <td>3.0</td>\n",
       "      <td>14.0</td>\n",
       "      <td>2.11</td>\n",
       "    </tr>\n",
       "    <tr>\n",
       "      <th>dur</th>\n",
       "      <td>2.694702e+06</td>\n",
       "      <td>2.706779e+06</td>\n",
       "      <td>0.000</td>\n",
       "      <td>5.831215e+06</td>\n",
       "      <td>1.901430e+06</td>\n",
       "      <td>1.606653e+06</td>\n",
       "      <td>3.0</td>\n",
       "      <td>13.0</td>\n",
       "      <td>1.97</td>\n",
       "    </tr>\n",
       "    <tr>\n",
       "      <th>b</th>\n",
       "      <td>5.000000e-01</td>\n",
       "      <td>9.800000e-02</td>\n",
       "      <td>0.403</td>\n",
       "      <td>6.000000e-01</td>\n",
       "      <td>6.900000e-02</td>\n",
       "      <td>5.800000e-02</td>\n",
       "      <td>2.0</td>\n",
       "      <td>13.0</td>\n",
       "      <td>2.51</td>\n",
       "    </tr>\n",
       "    <tr>\n",
       "      <th>rho_circ</th>\n",
       "      <td>1.958540e+08</td>\n",
       "      <td>1.959032e+08</td>\n",
       "      <td>-229.671</td>\n",
       "      <td>3.917552e+08</td>\n",
       "      <td>1.379693e+08</td>\n",
       "      <td>1.167157e+08</td>\n",
       "      <td>3.0</td>\n",
       "      <td>20.0</td>\n",
       "      <td>1.85</td>\n",
       "    </tr>\n",
       "    <tr>\n",
       "      <th>ecs[0]</th>\n",
       "      <td>1.220000e-01</td>\n",
       "      <td>4.300000e-01</td>\n",
       "      <td>-0.308</td>\n",
       "      <td>5.520000e-01</td>\n",
       "      <td>3.030000e-01</td>\n",
       "      <td>2.560000e-01</td>\n",
       "      <td>3.0</td>\n",
       "      <td>11.0</td>\n",
       "      <td>2.07</td>\n",
       "    </tr>\n",
       "    <tr>\n",
       "      <th>ecs[1]</th>\n",
       "      <td>1.350000e-01</td>\n",
       "      <td>1.150000e-01</td>\n",
       "      <td>0.020</td>\n",
       "      <td>2.510000e-01</td>\n",
       "      <td>8.100000e-02</td>\n",
       "      <td>6.800000e-02</td>\n",
       "      <td>2.0</td>\n",
       "      <td>12.0</td>\n",
       "      <td>2.75</td>\n",
       "    </tr>\n",
       "    <tr>\n",
       "      <th>ecc</th>\n",
       "      <td>2.310000e-01</td>\n",
       "      <td>1.350000e-01</td>\n",
       "      <td>0.095</td>\n",
       "      <td>3.680000e-01</td>\n",
       "      <td>9.500000e-02</td>\n",
       "      <td>8.100000e-02</td>\n",
       "      <td>3.0</td>\n",
       "      <td>11.0</td>\n",
       "      <td>2.12</td>\n",
       "    </tr>\n",
       "    <tr>\n",
       "      <th>omega</th>\n",
       "      <td>1.750000e+00</td>\n",
       "      <td>1.325000e+00</td>\n",
       "      <td>0.423</td>\n",
       "      <td>3.075000e+00</td>\n",
       "      <td>9.330000e-01</td>\n",
       "      <td>7.900000e-01</td>\n",
       "      <td>2.0</td>\n",
       "      <td>12.0</td>\n",
       "      <td>2.83</td>\n",
       "    </tr>\n",
       "  </tbody>\n",
       "</table>\n",
       "</div>"
      ],
      "text/plain": [
       "                      mean            sd   hdi_3%       hdi_97%     mcse_mean  \\\n",
       "mean          9.870000e-01  1.000000e-03    0.986  9.880000e-01  0.000000e+00   \n",
       "log_sigma_gp -8.073000e+00  2.361000e+00  -10.456 -5.713000e+00  1.663000e+00   \n",
       "log_rho_gp   -7.980000e+00  6.270000e-01   -8.658 -7.354000e+00  4.410000e-01   \n",
       "log_ror      -3.132000e+00  4.362000e+00   -7.499  1.229000e+00  3.072000e+00   \n",
       "log_period    1.242000e+00  1.047000e+00    0.195  2.296000e+00  7.370000e-01   \n",
       "t0            1.449120e+02  1.360000e-01  144.771  1.450490e+02  9.600000e-02   \n",
       "log_dur       3.206000e+00  1.229500e+01   -9.086  1.557900e+01  8.659000e+00   \n",
       "u[0]          2.340000e-01  2.250000e-01    0.009  4.610000e-01  1.590000e-01   \n",
       "u[1]          3.790000e-01  2.450000e-01    0.132  6.240000e-01  1.730000e-01   \n",
       "sigma         1.150000e-01  1.000000e-02    0.104  1.250000e-01  7.000000e-03   \n",
       "ror           1.709000e+00  1.708000e+00    0.001  3.417000e+00  1.203000e+00   \n",
       "period        5.538000e+00  4.324000e+00    1.216  9.936000e+00  3.045000e+00   \n",
       "dur           2.694702e+06  2.706779e+06    0.000  5.831215e+06  1.901430e+06   \n",
       "b             5.000000e-01  9.800000e-02    0.403  6.000000e-01  6.900000e-02   \n",
       "rho_circ      1.958540e+08  1.959032e+08 -229.671  3.917552e+08  1.379693e+08   \n",
       "ecs[0]        1.220000e-01  4.300000e-01   -0.308  5.520000e-01  3.030000e-01   \n",
       "ecs[1]        1.350000e-01  1.150000e-01    0.020  2.510000e-01  8.100000e-02   \n",
       "ecc           2.310000e-01  1.350000e-01    0.095  3.680000e-01  9.500000e-02   \n",
       "omega         1.750000e+00  1.325000e+00    0.423  3.075000e+00  9.330000e-01   \n",
       "\n",
       "                   mcse_sd  ess_bulk  ess_tail  r_hat  \n",
       "mean          0.000000e+00       3.0      12.0   2.16  \n",
       "log_sigma_gp  1.407000e+00       3.0      11.0   2.05  \n",
       "log_rho_gp    3.730000e-01       3.0      19.0   1.96  \n",
       "log_ror       2.599000e+00       3.0      20.0   1.85  \n",
       "log_period    6.240000e-01       3.0      14.0   2.11  \n",
       "t0            8.100000e-02       3.0      14.0   2.21  \n",
       "log_dur       7.325000e+00       3.0      13.0   1.97  \n",
       "u[0]          1.340000e-01       3.0      12.0   2.12  \n",
       "u[1]          1.460000e-01       3.0      11.0   2.10  \n",
       "sigma         6.000000e-03       3.0      11.0   2.23  \n",
       "ror           1.018000e+00       3.0      20.0   1.85  \n",
       "period        2.576000e+00       3.0      14.0   2.11  \n",
       "dur           1.606653e+06       3.0      13.0   1.97  \n",
       "b             5.800000e-02       2.0      13.0   2.51  \n",
       "rho_circ      1.167157e+08       3.0      20.0   1.85  \n",
       "ecs[0]        2.560000e-01       3.0      11.0   2.07  \n",
       "ecs[1]        6.800000e-02       2.0      12.0   2.75  \n",
       "ecc           8.100000e-02       3.0      11.0   2.12  \n",
       "omega         7.900000e-01       2.0      12.0   2.83  "
      ]
     },
     "execution_count": 49,
     "metadata": {},
     "output_type": "execute_result"
    }
   ],
   "source": [
    "import arviz as az\n",
    "\n",
    "az.summary(\n",
    "    trace\n",
    ")"
   ]
  },
  {
   "cell_type": "code",
   "execution_count": null,
   "metadata": {},
   "outputs": [],
   "source": []
  },
  {
   "cell_type": "code",
   "execution_count": 55,
   "metadata": {},
   "outputs": [
    {
     "name": "stderr",
     "output_type": "stream",
     "text": [
      "WARNING:root:Too few points to create valid contours\n",
      "WARNING:root:Too few points to create valid contours\n",
      "WARNING:root:Too few points to create valid contours\n",
      "WARNING:root:Too few points to create valid contours\n",
      "WARNING:root:Too few points to create valid contours\n",
      "WARNING:root:Too few points to create valid contours\n"
     ]
    },
    {
     "data": {
      "image/png": "[encoded data removed]",
      "text/plain": [
       "<Figure size 698.4x698.4 with 16 Axes>"
      ]
     },
     "metadata": {
      "needs_background": "light"
     },
     "output_type": "display_data"
    }
   ],
   "source": [
    "import corner\n",
    "\n",
    "_ = corner.corner(\n",
    "    trace, var_names=[\"log_sigma_gp\", \"ror\", \"b\", \"ecc\"]\n",
    ")"
   ]
  },
  {
   "cell_type": "code",
   "execution_count": 56,
   "metadata": {},
   "outputs": [
    {
     "ename": "ModuleNotFoundError",
     "evalue": "No module named 'astroquery'",
     "output_type": "error",
     "traceback": [
      "\u001b[0;31m---------------------------------------------------------------------------\u001b[0m",
      "\u001b[0;31mModuleNotFoundError\u001b[0m                       Traceback (most recent call last)",
      "\u001b[1;32m/home/cm2435/Desktop/university_computing_y3/ph30016_b/Chapter3_ExoLightCurves.ipynb Cell 48\u001b[0m in \u001b[0;36m<cell line: 1>\u001b[0;34m()\u001b[0m\n\u001b[0;32m----> <a href='vscode-notebook-cell:/home/cm2435/Desktop/university_computing_y3/ph30016_b/Chapter3_ExoLightCurves.ipynb#Y134sZmlsZQ%3D%3D?line=0'>1</a>\u001b[0m \u001b[39mfrom\u001b[39;00m \u001b[39mastroquery\u001b[39;00m\u001b[39m.\u001b[39;00m\u001b[39mmast\u001b[39;00m \u001b[39mimport\u001b[39;00m Catalogs\n\u001b[1;32m      <a href='vscode-notebook-cell:/home/cm2435/Desktop/university_computing_y3/ph30016_b/Chapter3_ExoLightCurves.ipynb#Y134sZmlsZQ%3D%3D?line=2'>3</a>\u001b[0m star \u001b[39m=\u001b[39m Catalogs\u001b[39m.\u001b[39mquery_object(\u001b[39m\"\u001b[39m\u001b[39mTIC 286923464\u001b[39m\u001b[39m\"\u001b[39m, catalog\u001b[39m=\u001b[39m\u001b[39m\"\u001b[39m\u001b[39mTIC\u001b[39m\u001b[39m\"\u001b[39m, radius\u001b[39m=\u001b[39m\u001b[39m0.001\u001b[39m)\n\u001b[1;32m      <a href='vscode-notebook-cell:/home/cm2435/Desktop/university_computing_y3/ph30016_b/Chapter3_ExoLightCurves.ipynb#Y134sZmlsZQ%3D%3D?line=3'>4</a>\u001b[0m tic_rho_star \u001b[39m=\u001b[39m \u001b[39mfloat\u001b[39m(star[\u001b[39m\"\u001b[39m\u001b[39mrho\u001b[39m\u001b[39m\"\u001b[39m]), \u001b[39mfloat\u001b[39m(star[\u001b[39m\"\u001b[39m\u001b[39me_rho\u001b[39m\u001b[39m\"\u001b[39m])\n",
      "\u001b[0;31mModuleNotFoundError\u001b[0m: No module named 'astroquery'"
     ]
    }
   ],
   "source": [
    "from astroquery.mast import Catalogs\n",
    "\n",
    "star = Catalogs.query_object(\"TIC 286923464\", catalog=\"TIC\", radius=0.001)\n",
    "tic_rho_star = float(star[\"rho\"]), float(star[\"e_rho\"])\n",
    "print(\"rho_star = {0} ± {1}\".format(*tic_rho_star))\n",
    "\n",
    "# Extract the implied density from the fit\n",
    "rho_circ = np.repeat(np.asarray(trace.posterior[\"rho_circ\"]).flatten(), 100)\n",
    "\n",
    "# Sample eccentricity and omega from their priors (the math might\n",
    "# be a little more subtle for more informative priors, but I leave\n",
    "# that as an exercise for the reader...)\n",
    "ecc = np.random.uniform(0, 1, len(rho_circ))\n",
    "omega = np.random.uniform(-np.pi, np.pi, len(rho_circ))\n",
    "\n",
    "# Compute the \"g\" parameter from Dawson & Johnson and what true\n",
    "# density that implies\n",
    "g = (1 + ecc * np.sin(omega)) / np.sqrt(1 - ecc**2)\n",
    "rho = rho_circ / g**3\n",
    "\n",
    "# Re-weight these samples to get weighted posterior samples\n",
    "log_weights = -0.5 * ((rho - tic_rho_star[0]) / tic_rho_star[1]) ** 2\n",
    "weights = np.exp(log_weights - np.max(log_weights))\n",
    "\n",
    "# Estimate the expected posterior quantiles\n",
    "q = corner.quantile(ecc, [0.16, 0.5, 0.84], weights=weights)\n",
    "print(\n",
    "    \"eccentricity = {0:.2f} +{1[1]:.2f} -{1[0]:.2f}\".format(q[1], np.diff(q))\n",
    ")\n",
    "\n",
    "_ = corner.corner(\n",
    "    np.vstack((ecc, omega)).T,\n",
    "    weights=weights,\n",
    "    truths=[0.316, None],\n",
    "    plot_datapoints=False,\n",
    "    labels=[\"eccentricity\", \"omega\"],\n",
    ")\n"
   ]
  },
  {
   "cell_type": "code",
   "execution_count": null,
   "metadata": {},
   "outputs": [
    {
     "data": {
      "text/plain": [
       "[<matplotlib.lines.Line2D at 0x7fac1dcad7c0>]"
      ]
     },
     "execution_count": 33,
     "metadata": {},
     "output_type": "execute_result"
    },
    {
     "data": {
      "image/png": "[encoded data removed]",
      "text/plain": [
       "<Figure size 432x288 with 1 Axes>"
      ]
     },
     "metadata": {
      "needs_background": "light"
     },
     "output_type": "display_data"
    }
   ],
   "source": [
    "#time_arr\n",
    "T = time_arr[0]\n",
    "dt = time_arr[-1] - time_arr[0]\n",
    "\n",
    "import scipy.signal\n",
    "from scipy.signal import lombscargle\n",
    "freqs = np.linspace((1/T),(1/dt), 2000)\n",
    "lomb = scipy.signal.lombscargle(time_arr, flux_arr, freqs, precenter=True)\n",
    "\n",
    "plt.plot(freqs, lomb)"
   ]
  },
  {
   "cell_type": "code",
   "execution_count": null,
   "metadata": {},
   "outputs": [],
   "source": [
    "period = np.argmax(lomb)\n",
    "print(f\"the maximal period is {period}\")"
   ]
  },
  {
   "cell_type": "code",
   "execution_count": null,
   "metadata": {},
   "outputs": [],
   "source": [
    "period = np.linspace(1, freqs[-1], 2000)\n",
    "lomb2 = lombscargle(freqs, lomb, period, precenter = True)\n",
    "\n",
    "plt.plot(period, lomb2)\n",
    "\n",
    "period_final = np.argmax(lomb2)\n",
    "print(f\"the final found period is {period_final}\")"
   ]
  },
  {
   "cell_type": "code",
   "execution_count": null,
   "metadata": {},
   "outputs": [],
   "source": [
    "def model_curve(x, d, transit_b, transit_e) -> float: \n",
    "    \"\"\"\n",
    "    \"\"\"\n",
    "    m = (16 * (1-d) / (transit_e - transit_b)**4) * (x - (transit_e+transit_b) / 2)**4 + d\n",
    "    return m"
   ]
  },
  {
   "cell_type": "code",
   "execution_count": null,
   "metadata": {},
   "outputs": [],
   "source": [
    "periods_found_from_lomb = [19.221, 38.433512752318606]"
   ]
  },
  {
   "cell_type": "code",
   "execution_count": null,
   "metadata": {},
   "outputs": [],
   "source": [
    "import pandas as pd \n",
    "from typing import Optional\n"
   ]
  },
  {
   "cell_type": "code",
   "execution_count": null,
   "metadata": {},
   "outputs": [],
   "source": [
    "from utils import fold_lightcurve, model_curve\n",
    "\n",
    "time_final, p_final, pflux_final, pflux_error_final = fold_lightcurve(\n",
    "                                            time.tolist(), \n",
    "                                            flux.tolist(), \n",
    "                                            flux_err.tolist(), \n",
    "                                            periods_found_from_lomb[0]\n",
    "    )\n",
    "\n",
    "area_mask = (p_final < 1.598) & (p_final > 1.589) & (pflux_final < 0.9985)\n",
    "plot_mask = (p_final < 1.7) & (p_final > 1.5) \n",
    "tester = model_curve(p_final[area_mask], 0.994, 1.589, 1.598)\n",
    "\n",
    "plt.figure(figsize = (12, 6))\n",
    "\n",
    "plt.plot(p_final[plot_mask], pflux_final[plot_mask], ls=\"None\", marker=\"o\", ms=3)#ls = 'none')\n",
    "plt.plot(p_final[plot_mask], pflux_error_final[plot_mask], ls=\"None\", ms=3)#ls = 'none')\n",
    "\n",
    "plt.plot(p_final[area_mask], tester, ls=\"None\", marker=\"x\", ms=3)#ls = 'none')\n",
    "\n",
    "plt.xlim(1.57, 1.64)\n",
    "plt.ylim(0.9925, 1.002)\n",
    "plt.show()"
   ]
  },
  {
   "cell_type": "code",
   "execution_count": null,
   "metadata": {},
   "outputs": [],
   "source": [
    "transit_middle_mask = np.logical_and(p_final > 1.588, p_final < 1.5975)\n",
    "transit_middle_mask = np.logical_and(pflux_final > 0.9995, transit_middle_mask)\n",
    "\n",
    "left_clean = np.logical_and(pflux_final < 0.999, p_final < 1.588)\n"
   ]
  },
  {
   "cell_type": "code",
   "execution_count": null,
   "metadata": {},
   "outputs": [],
   "source": [
    "area_mask = (p_final < 1.605) & (p_final > 1.58)\n",
    "area_mask = np.logical_and(area_mask, ~left_clean)\n",
    "area_mask = np.logical_and(area_mask, ~transit_middle_mask)\n",
    "\n"
   ]
  },
  {
   "cell_type": "code",
   "execution_count": null,
   "metadata": {},
   "outputs": [],
   "source": [
    "x, y, yerr = p_final[area_mask], pflux_final[area_mask], pflux_error_final[area_mask]"
   ]
  },
  {
   "cell_type": "code",
   "execution_count": null,
   "metadata": {},
   "outputs": [],
   "source": [
    "time = np.ascontiguousarray(x)\n",
    "flux = np.ascontiguousarray(y)\n",
    "yerr = np.ascontiguousarray(yerr)"
   ]
  },
  {
   "cell_type": "code",
   "execution_count": null,
   "metadata": {},
   "outputs": [],
   "source": [
    "import seaborn as sb\n",
    "import pandas as pd\n",
    "\n",
    "from numpy import percentile\n",
    "from matplotlib import rc\n",
    "from matplotlib.pyplot import subplots, setp\n",
    "from pytransit import TransitAnalysis, create_mock_light_curve\n",
    "\n",
    "rc('figure', figsize=(13,5))\n",
    "\n",
    "\n",
    "with sb.axes_style('white'):\n",
    "    fig, ax = subplots()\n",
    "    ax.plot(time, flux, '.')\n",
    "    setp(ax, xlim=time[[0,-1]], title='A transit light curve observed in TESS band',\n",
    "         xlabel='Time [d]', ylabel='Normalised flux')\n",
    "    fig.tight_layout()\n",
    "\n"
   ]
  },
  {
   "cell_type": "code",
   "execution_count": null,
   "metadata": {},
   "outputs": [],
   "source": [
    "import pymc3 as pm\n",
    "import pymc3_ext as pmx\n",
    "\n",
    "with pm.Model() as model:\n",
    "\n",
    "    # The baseline flux\n",
    "    mean = pm.Normal(\"mean\", mu=1, sd=1.0)\n",
    "\n",
    "    # The time of a reference transit for each planet\n",
    "    t0 = pm.Normal(\"t0\", mu=[0.008,0.01], sd=1.0, shape=2)\n",
    "\n",
    "    # The log period; also tracking the period itself\n",
    "    logP = pm.Normal(\"logP\", mu=np.log(19.22), sd=0.1, shape=2)\n",
    "    period = pm.Deterministic(\"period\", pm.math.exp(logP))\n",
    "\n",
    "    # The Kipping (2013) parameterization for quadratic limb darkening paramters\n",
    "    u = xo.distributions.QuadLimbDark(\"u\", testval=np.array([0.3, 0.2]))\n",
    "\n",
    "    r = pm.Uniform(\n",
    "        \"r\", lower=0.01, upper=0.1, shape=2, testval=np.array([0.04, 0.06])\n",
    "    )\n",
    "    b = xo.distributions.ImpactParameter(\n",
    "        \"b\", ror=r, shape=2, testval=np.random.rand(2)\n",
    "    )\n",
    "\n",
    "    # Set up a Keplerian orbit for the planets\n",
    "    orbit = xo.orbits.KeplerianOrbit(period=period, t0=t0, b=b)\n",
    "\n",
    "    # Compute the model light curve using starry\n",
    "    light_curves = xo.LimbDarkLightCurve(u[0], u[1]).get_light_curve(\n",
    "        orbit=orbit, r=r, t=time\n",
    "    )\n",
    "    light_curve = pm.math.sum(light_curves, axis=-1) + mean\n",
    "\n",
    "    # Here we track the value of the model light curve for plotting\n",
    "    # purposes\n",
    "    pm.Deterministic(\"light_curves\", light_curves)\n",
    "\n",
    "    # The likelihood function assuming known Gaussian uncertainty\n",
    "    pm.Normal(\"obs\", mu=light_curve, sd=yerr, observed=flux)\n",
    "\n",
    "    # Fit for the maximum a posteriori parameters given the simuated\n",
    "    # dataset\n",
    "    map_soln = pmx.optimize(start=model.test_point)"
   ]
  },
  {
   "cell_type": "code",
   "execution_count": null,
   "metadata": {},
   "outputs": [],
   "source": [
    "map_soln"
   ]
  },
  {
   "cell_type": "code",
   "execution_count": null,
   "metadata": {},
   "outputs": [],
   "source": [
    "plt.plot(time, y, \".k\", ms=4, label=\"data\")\n",
    "for i, l in enumerate(\"bc\"):\n",
    "    if i ==0:\n",
    "        plt.plot(\n",
    "            time, map_soln[\"light_curves\"][:, i], lw=1, label=\"planet {0}\".format(l)\n",
    "        )\n",
    "plt.xlim(time.min(), time.max())\n",
    "plt.ylabel(\"relative flux\")\n",
    "plt.xlabel(\"time [days]\")\n",
    "plt.legend(fontsize=10)\n",
    "_ = plt.title(\"map model\")"
   ]
  },
  {
   "cell_type": "code",
   "execution_count": null,
   "metadata": {},
   "outputs": [],
   "source": [
    "time_final, p_final, pflux_final, pflux_error_final = fold_lightcurve(\n",
    "                                            time.tolist(), \n",
    "                                            flux.tolist(), \n",
    "                                            flux_err.tolist(), \n",
    "                                            periods_found_from_lomb[1]\n",
    "    )\n",
    "\n",
    "area_mask = (p_final < 1.598) & (p_final > 1.589) & (pflux_final < 0.9985)\n",
    "plot_mask = (p_final < 1.7) & (p_final > 1.5) \n",
    "tester = model_curve(p_final[area_mask], 0.994, 1.589, 1.598)\n",
    "\n",
    "plt.figure(figsize = (12, 6))\n",
    "\n",
    "plt.plot(p_final[plot_mask], pflux_final[plot_mask], ls=\"None\", marker=\"o\", ms=3)#ls = 'none')\n",
    "plt.plot(p_final[area_mask], tester, ls=\"None\", marker=\"o\", ms=3)#ls = 'none')\n",
    "\n",
    "plt.xlim(1.57, 1.64)\n",
    "plt.ylim(0.9925, 1.002)\n",
    "plt.show()"
   ]
  },
  {
   "cell_type": "code",
   "execution_count": null,
   "metadata": {},
   "outputs": [],
   "source": [
    "print(periods_found_from_lomb[0])\n",
    "time_final1, p_final1, pflux_final1, pflux_error_final1 = fold_lightcurve(\n",
    "                                            time.tolist(), \n",
    "                                            flux.tolist(), \n",
    "                                            flux_err.tolist(), \n",
    "                                            periods_found_from_lomb[0], \n",
    "                                            verbose= True\n",
    "    )\n",
    "\n",
    "area_mask = (p_final < 1.598) & (p_final > 1.589) & (pflux_final < 0.9985)\n",
    "plot_mask = (p_final < 1.7) & (p_final > 1.5) \n",
    "tester = model_curve(p_final[area_mask], 0.994, 1.589, 1.598)\n",
    "\n",
    "\n",
    "#area_mask = (p_final < 1.33) & (p_final > 1.22) & (pflux_final < 0.998)\n",
    "#plot_mask = (p_final < 1.7) & (p_final > 1.5) \n",
    "#tester = model_curve(p_final[area_mask], 0.994, 1.589, 1.598)\n",
    "    "
   ]
  },
  {
   "cell_type": "code",
   "execution_count": null,
   "metadata": {},
   "outputs": [],
   "source": [
    "plt.figure(figsize = (12, 6))\n",
    "plt.plot(p_final1, pflux_final1, ls=\"None\", marker=\"o\", ms=3)#ls = 'none')\n",
    "#plt.plot(p_final[area_mask], tester, ls=\"None\", marker=\"o\", ms=1)#ls = 'none')\n",
    "#\n",
    "#\n",
    "plt.xlim(0.53, 0.58)\n",
    "#plt.ylim(0.9925, 1.002)\n",
    "#plt.show()"
   ]
  },
  {
   "cell_type": "code",
   "execution_count": null,
   "metadata": {},
   "outputs": [],
   "source": [
    "import pymc3_ext as pmx\n",
    "\n",
    "np.random.seed(123)\n",
    "periods = np.random.uniform(5, 20, 2)\n",
    "t0s = periods * np.random.rand(2)\n",
    "t = np.arange(0, 80, 0.02)\n",
    "yerr = 5e-4"
   ]
  },
  {
   "cell_type": "code",
   "execution_count": null,
   "metadata": {},
   "outputs": [],
   "source": [
    "random = np.random.default_rng(123)\n",
    "num_transits = 4\n",
    "t = np.arange(0, 35, 0.02)\n",
    "yerr = 5e-4"
   ]
  },
  {
   "cell_type": "code",
   "execution_count": null,
   "metadata": {},
   "outputs": [],
   "source": [
    "import pymc3 as pm\n",
    "import pymc3_ext as pmx\n",
    "\n",
    "with pm.Model() as model:\n",
    "\n",
    "    # The baseline flux\n",
    "    mean = pm.Normal(\"mean\", mu=1, sd=1.0)\n",
    "\n",
    "    # The time of a reference transit for each planet\n",
    "    t0 = pm.Normal(\"t0\", mu=t0s, sd=1.0, shape=2)\n",
    "\n",
    "    # The log period; also tracking the period itself\n",
    "    logP = pm.Normal(\"logP\", mu=np.log(periods_found_from_lomb), sd=0.1, shape=2)\n",
    "    period = pm.Deterministic(\"period\", pm.math.exp(logP))\n",
    "\n",
    "    # The Kipping (2013) parameterization for quadratic limb darkening paramters\n",
    "    u = xo.distributions.QuadLimbDark(\"u\", testval=np.array([0.3, 0.2]))\n",
    "\n",
    "    r = pm.Uniform(\n",
    "        \"r\", lower=0.01, upper=0.1, shape=2, testval=np.array([0.04, 0.06])\n",
    "    )\n",
    "    b = xo.distributions.ImpactParameter(\n",
    "        \"b\", ror=r, shape=2, testval=np.random.rand(2)\n",
    "    )\n",
    "\n",
    "    # Set up a Keplerian orbit for the planets\n",
    "    orbit = xo.orbits.KeplerianOrbit(period=period, t0=t0, b=b)\n",
    "\n",
    "    # Compute the model light curve using starry\n",
    "    light_curves = xo.LimbDarkLightCurve(u[0], u[1]).get_light_curve(\n",
    "        orbit=orbit, r=r, t=t\n",
    "    )\n",
    "    light_curve = pm.math.sum(light_curves, axis=-1) + mean\n",
    "\n",
    "    # Here we track the value of the model light curve for plotting\n",
    "    # purposes\n",
    "    pm.Deterministic(\"light_curves\", light_curves)\n",
    "\n",
    "    # ******************************************************************* #\n",
    "    # On the folowing lines, we simulate the dataset that we will fit     #\n",
    "    #                                                                     #\n",
    "    # NOTE: if you are fitting real data, you shouldn't include this line #\n",
    "    #       because you already have data!                                #\n",
    "    # ******************************************************************* #\n",
    "    y = pmx.eval_in_model(light_curve)\n",
    "    y += yerr * np.random.randn(len(y))\n",
    "    # ******************************************************************* #\n",
    "    # End of fake data creation; you want to include the following lines  #\n",
    "    # ******************************************************************* #\n",
    "\n",
    "    # The likelihood function assuming known Gaussian uncertainty\n",
    "    pm.Normal(\"obs\", mu=light_curve, sd=yerr, observed=y)\n",
    "\n",
    "    # Fit for the maximum a posteriori parameters given the simuated\n",
    "    # dataset\n",
    "    map_soln = pmx.optimize(start=model.test_point)"
   ]
  }
 ],
 "metadata": {
  "kernelspec": {
   "display_name": "Python 3.9.15 ('uni_cw')",
   "language": "python",
   "name": "python3"
  },
  "language_info": {
   "codemirror_mode": {
    "name": "ipython",
    "version": 3
   },
   "file_extension": ".py",
   "mimetype": "text/x-python",
   "name": "python",
   "nbconvert_exporter": "python",
   "pygments_lexer": "ipython3",
   "version": "3.9.15"
  },
  "vscode": {
   "interpreter": {
    "hash": "aef1e7821a4e8eecd89ce0954f50fbca96cae3cb2632883aa3b76ce24444486c"
   }
  }
 },
 "nbformat": 4,
 "nbformat_minor": 2
}

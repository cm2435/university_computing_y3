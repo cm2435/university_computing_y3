{
 "cells": [
  {
   "cell_type": "markdown",
   "metadata": {},
   "source": [
    "# <u>Chapter 3: Introduction to your Kepler science lightcurve</u>"
   ]
  },
  {
   "cell_type": "markdown",
   "metadata": {},
   "source": [
    "<div class=\"alert alert-block alert-info\">\n",
    "\n",
    "### This Notebook will give you the tools to:\n",
    "\n",
    "- open Kepler science lighcurves\n",
    "- understand data structure in fits files\n",
    "- understand basic features of data\n",
    "- start with fitting your dataset\n",
    "\n",
    "### What you should achieve:\n",
    "\n",
    "- plot and inspect data\n",
    "- identify transits\n",
    "- make a plan for modelling\n",
    "\n",
    "### What's next:\n",
    "after you have completed this notebook:\n",
    "\n",
    "- perform detailed modelling of your data\n",
    "- write up the summary of your modelling\n",
    "- collect your results for the comparison with other datasets\n",
    "    \n",
    "### Table of contents:\n",
    "    \n",
    "- [1. Reading Kepler data](#sec:keplerdata)\n",
    "- [2. Step by step guide to your data](#sec:dataguide)\n",
    "- [Summary](#sec:summary)"
   ]
  },
  {
   "cell_type": "markdown",
   "metadata": {},
   "source": [
    "<div class=\"alert alert-block alert-warning\">\n",
    "    \n",
    "<b>Make sure to edit the box below to match your assigned object number.</b>"
   ]
  },
  {
   "cell_type": "code",
   "execution_count": 1,
   "metadata": {},
   "outputs": [],
   "source": [
    "#Necessary imports\n",
    "from astropy.io import fits #used to open fits files in which data are stored\n",
    "import matplotlib.pyplot as plt #plotting\n",
    "import glob\n",
    "#add here the source number assigned to you, '1' (Team Osiris) or '2' (Team Dagon)\n",
    "#Check Moodle to see which object has been assigned to you\n",
    "mykepler = '1' "
   ]
  },
  {
   "cell_type": "markdown",
   "metadata": {},
   "source": [
    "<a id=\"sec:keplerdata\"></a>\n",
    "## 1. Reading Kepler data"
   ]
  },
  {
   "cell_type": "markdown",
   "metadata": {},
   "source": [
    "First, we will have a look at the dataset, we have given you the fits dataset exactly as provided by Kepler, you can download additional datasets [on the Kepler archive](https://archive.stsci.edu/kepler/). We have though made the header anonymous so you cannot see which source you are working with. "
   ]
  },
  {
   "cell_type": "code",
   "execution_count": 2,
   "metadata": {},
   "outputs": [],
   "source": [
    "#Fits files are open like this:\n",
    "lc = fits.open('Data/Object%slc/kplr%s_1.fits'%(mykepler, mykepler))"
   ]
  },
  {
   "cell_type": "markdown",
   "metadata": {},
   "source": [
    "Fits files are common in astrophysics, they have different extensions, which can be images or tables. The information discribing the data is stored in the header."
   ]
  },
  {
   "cell_type": "code",
   "execution_count": 3,
   "metadata": {},
   "outputs": [
    {
     "data": {
      "text/plain": [
       "[<astropy.io.fits.hdu.image.PrimaryHDU object at 0x7f9a303f23d0>, <astropy.io.fits.hdu.table.BinTableHDU object at 0x7f9a30389520>, <astropy.io.fits.hdu.image.ImageHDU object at 0x7f9a2f688790>]"
      ]
     },
     "execution_count": 3,
     "metadata": {},
     "output_type": "execute_result"
    }
   ],
   "source": [
    "lc"
   ]
  },
  {
   "cell_type": "code",
   "execution_count": 4,
   "metadata": {},
   "outputs": [
    {
     "data": {
      "text/plain": [
       "SIMPLE  =                    T / conforms to FITS standards                     \n",
       "BITPIX  =                    8 / array data type                                \n",
       "NAXIS   =                    0 / number of array dimensions                     \n",
       "EXTEND  =                    T / file contains extensions                       \n",
       "NEXTEND =                    2 / number of standard extensions                  \n",
       "EXTNAME = 'PRIMARY '           / name of extension                              \n",
       "EXTVER  =                    1 / extension version number (not format version)  \n",
       "ORIGIN  = 'NASA/Ames'          / institution responsible for creating this file \n",
       "DATE    = '2015-09-09'         / file creation date.                            \n",
       "CREATOR = '826630 FluxExporter2PipelineModule' / pipeline job and program used t\n",
       "PROCVER = 'svn+ssh://murzim/repo/soc/tags/release/9.3.22 r60269' / SW version   \n",
       "FILEVER = '6.1     '           / file format version                            \n",
       "TIMVERSN= 'OGIP/93-003'        / OGIP memo number for file format               \n",
       "TELESCOP= 'Kepler  '           / telescope                                      \n",
       "INSTRUME= 'Kepler Photometer'  / detector type                                  \n",
       "OBJECT  = 'None of your business' / string version of target id                 \n",
       "KEPLERID= 'None of your business' / unique Kepler target identifier             \n",
       "CHANNEL =                   76 / CCD channel                                    \n",
       "SKYGROUP=                   72 / roll-independent location of channel           \n",
       "MODULE  =                   22 / CCD module                                     \n",
       "OUTPUT  =                    4 / CCD output                                     \n",
       "QUARTER =                    3 / Observing quarter                              \n",
       "SEASON  =                    1 / mission season during which data was collected \n",
       "DATA_REL=                   25 / data release version number                    \n",
       "OBSMODE = 'long cadence'       / observing mode                                 \n",
       "MISSION = 'Kepler  '           / Mission name                                   \n",
       "TTABLEID=                   26 / target table id                                \n",
       "RADESYS = 'ICRS    '           / reference frame of celestial coordinates       \n",
       "RA_OBJ  = 'None of your business' / [deg] right ascension                       \n",
       "DEC_OBJ = 'None of your business' / [deg] declination                           \n",
       "EQUINOX =               2000.0 / equinox of celestial coordinate system         \n",
       "PMRA    =               0.0056 / [arcsec/yr] RA proper motion                   \n",
       "PMDEC   =              -0.0125 / [arcsec/yr] Dec proper motion                  \n",
       "PMTOTAL =               0.0137 / [arcsec/yr] total proper motion                \n",
       "PARALLAX=                      / [arcsec] parallax                              \n",
       "GLON    = 'None of your business' / [deg] galactic longitude                    \n",
       "GLAT    = 'None of your business' / [deg] galactic latitude                     \n",
       "GMAG    =               14.247 / [mag] SDSS g band magnitude                    \n",
       "RMAG    =               13.731 / [mag] SDSS r band magnitude                    \n",
       "IMAG    =               13.613 / [mag] SDSS i band magnitude                    \n",
       "ZMAG    =               13.581 / [mag] SDSS z band magnitude                    \n",
       "D51MAG  =               14.043 / [mag] D51 magnitude,                           \n",
       "JMAG    =               12.710 / [mag] J band magnitude from 2MASS              \n",
       "HMAG    =               12.391 / [mag] H band magnitude from 2MASS              \n",
       "KMAG    =               12.336 / [mag] K band magnitude from 2MASS              \n",
       "KEPMAG  =               13.803 / [mag] Kepler magnitude (Kp)                    \n",
       "GRCOLOR =                0.516 / [mag] (g-r) color, SDSS bands                  \n",
       "JKCOLOR =                0.374 / [mag] (J-K) color, 2MASS bands                 \n",
       "GKCOLOR =                1.911 / [mag] (g-K) color, SDSS g - 2MASS K            \n",
       "TEFF    =                 5779 / [K] Effective temperature                      \n",
       "LOGG    =                4.491 / [cm/s2] log10 surface gravity                  \n",
       "FEH     =                0.120 / [log10([Fe/H])]  metallicity                   \n",
       "EBMINUSV=                0.073 / [mag] E(B-V) reddening                         \n",
       "AV      =                0.227 / [mag] A_v extinction                           \n",
       "RADIUS  =                0.956 / [solar radii] stellar radius                   \n",
       "TMINDEX = 'None of your business' / unique 2MASS catalog ID                     \n",
       "SCPID   =                      / unique SCP processing ID                       \n",
       "CHECKSUM= 'NEF4QDD3NDD3NDD3'   / HDU checksum updated 2019-09-17T17:12:24       \n",
       "DATASUM = '0       '           / data unit checksum updated 2019-09-17T17:12:24 "
      ]
     },
     "execution_count": 4,
     "metadata": {},
     "output_type": "execute_result"
    }
   ],
   "source": [
    "#The header for the first extension can be accesses like this:\n",
    "lc[0].header\n",
    "#It contains basic information about the object (some of those removed here)"
   ]
  },
  {
   "cell_type": "markdown",
   "metadata": {},
   "source": [
    "**You will see some of the header keywords to read 'None of your business', this is because we have anonymized the dataset for you. "
   ]
  },
  {
   "cell_type": "code",
   "execution_count": 5,
   "metadata": {},
   "outputs": [
    {
     "data": {
      "text/plain": [
       "<matplotlib.image.AxesImage at 0x7f9a2eef09a0>"
      ]
     },
     "execution_count": 5,
     "metadata": {},
     "output_type": "execute_result"
    },
    {
     "data": {
      "image/png": "[encoded data removed]",
      "text/plain": [
       "<Figure size 432x288 with 1 Axes>"
      ]
     },
     "metadata": {
      "needs_background": "light"
     },
     "output_type": "display_data"
    }
   ],
   "source": [
    "#The last extension holds a small image of the source:\n",
    "plt.imshow(lc[2].data)"
   ]
  },
  {
   "cell_type": "code",
   "execution_count": 6,
   "metadata": {},
   "outputs": [
    {
     "data": {
      "text/plain": [
       "XTENSION= 'IMAGE   '           / marks the beginning of a new HDU               \n",
       "BITPIX  =                   32 / array data type                                \n",
       "NAXIS   =                    2 / number of array dimensions                     \n",
       "NAXIS1  =                    6 / length of first array dimension                \n",
       "NAXIS2  =                    6 / length of second array dimension               \n",
       "PCOUNT  =                    0 / group parameter count (not used)               \n",
       "GCOUNT  =                    1 / group count (not used)                         \n",
       "INHERIT =                    T / inherit the primary header                     \n",
       "EXTNAME = 'APERTURE'           / name of extension                              \n",
       "EXTVER  =                    1 / extension version number (not format version)  \n",
       "TELESCOP= 'Kepler  '           / telescope                                      \n",
       "INSTRUME= 'Kepler Photometer'  / detector type                                  \n",
       "OBJECT  = 'None of your business' / string version of target id                 \n",
       "KEPLERID= 'None of your business' / unique Kepler target identifier             \n",
       "RADESYS = 'ICRS    '           / reference frame of celestial coordinates       \n",
       "RA_OBJ  = 'None of your business' / [deg] right ascension                       \n",
       "DEC_OBJ = 'None of your business' / [deg] declination                           \n",
       "EQUINOX =               2000.0 / equinox of celestial coordinate system         \n",
       "WCSAXES =                    2 / number of WCS axes                             \n",
       "CTYPE1  = 'RA---TAN'           / right ascension coordinate type                \n",
       "CTYPE2  = 'DEC--TAN'           / declination coordinate type                    \n",
       "CRPIX1  =   3.6309199370348324 / [pixel] reference pixel along image axis 1     \n",
       "CRPIX2  =    3.517625435632965 / [pixel] reference pixel along image axis 2     \n",
       "CRVAL1  =   285.57396900000003 / [deg] right ascension at reference pixel       \n",
       "CRVAL2  =              38.4009 / [deg] declination at reference pixel           \n",
       "CUNIT1  = 'deg     '           / physical unit in column dimension              \n",
       "CUNIT2  = 'deg     '           / physical unit in row dimension                 \n",
       "CDELT1  =   -0.001099111746806 / [deg] pixel scale in RA dimension              \n",
       "CDELT2  = 0.001099111746805884 / [deg] pixel scale in Dec dimension             \n",
       "PC1_1   =  -0.5904154849905418 / linear transformation element cos(th)          \n",
       "PC1_2   =  -0.8008780791745466 / linear transformation element -sin(th)         \n",
       "PC2_1   =  -0.8090792837129865 / linear transformation element sin(th)          \n",
       "PC2_2   =   0.5962345946357837 / linear transformation element cos(th)          \n",
       "WCSNAMEP= 'PHYSICAL'           / name of world coordinate system alternate P    \n",
       "WCSAXESP=                    2 / number of WCS physical axes                    \n",
       "CTYPE1P = 'RAWX    '           / physical WCS axis 1 type CCD col               \n",
       "CUNIT1P = 'PIXEL   '           / physical WCS axis 1 unit                       \n",
       "CRPIX1P =                    1 / reference CCD column                           \n",
       "CRVAL1P =                 1097 / value at reference CCD column                  \n",
       "CDELT1P =                  1.0 / physical WCS axis 1 step                       \n",
       "CTYPE2P = 'RAWY    '           / physical WCS axis 2 type CCD row               \n",
       "CUNIT2P = 'PIXEL   '           / physical WCS axis 2 units                      \n",
       "CRPIX2P =                    1 / reference CCD row                              \n",
       "CRVAL2P =                  271 / value at reference CCD row                     \n",
       "CDELT2P =                  1.0 / physical WCS axis 2 step                       \n",
       "NPIXSAP =                    4 / Number of pixels in optimal aperture           \n",
       "NPIXMISS=                    0 / Number of op. aperture pixels not collected    \n",
       "CHECKSUM= 'ZQDffNBZZNBffNBZ'   / HDU checksum updated 2019-09-17T17:12:24       \n",
       "DATASUM = '40      '           / data unit checksum updated 2019-09-17T17:12:24 "
      ]
     },
     "execution_count": 6,
     "metadata": {},
     "output_type": "execute_result"
    }
   ],
   "source": [
    "#It also has a header that gives more information\n",
    "lc[2].header"
   ]
  },
  {
   "cell_type": "code",
   "execution_count": 7,
   "metadata": {},
   "outputs": [
    {
     "data": {
      "text/plain": [
       "<astropy.io.fits.hdu.table.BinTableHDU at 0x7f9a30389520>"
      ]
     },
     "execution_count": 7,
     "metadata": {},
     "output_type": "execute_result"
    }
   ],
   "source": [
    "#lets have a look at the second extension\n",
    "lc[1]\n",
    "#This is a table extension"
   ]
  },
  {
   "cell_type": "code",
   "execution_count": 8,
   "metadata": {},
   "outputs": [
    {
     "data": {
      "text/plain": [
       "XTENSION= 'BINTABLE'           / marks the beginning of a new HDU               \n",
       "BITPIX  =                    8 / array data type                                \n",
       "NAXIS   =                    2 / number of array dimensions                     \n",
       "NAXIS1  =                  100 / length of first array dimension                \n",
       "NAXIS2  =                 4370 / length of second array dimension               \n",
       "PCOUNT  =                    0 / group parameter count (not used)               \n",
       "GCOUNT  =                    1 / group count (not used)                         \n",
       "TFIELDS =                   20 / number of table fields                         \n",
       "TTYPE1  = 'TIME    '           / column title: data time stamps                 \n",
       "TFORM1  = 'D       '           / column format: 64-bit floating point           \n",
       "TUNIT1  = 'BJD - 2454833'      / column units: barycenter corrected JD          \n",
       "TDISP1  = 'D14.7   '           / column display format                          \n",
       "TTYPE2  = 'TIMECORR'           / column title: barycenter - timeslice correction\n",
       "TFORM2  = 'E       '           / column format: 32-bit floating point           \n",
       "TUNIT2  = 'd       '           / column units: day                              \n",
       "TDISP2  = 'E13.6   '           / column display format                          \n",
       "TTYPE3  = 'CADENCENO'          / column title: unique cadence number            \n",
       "TFORM3  = 'J       '           / column format: signed 32-bit integer           \n",
       "TDISP3  = 'I10     '           / column display format                          \n",
       "TTYPE4  = 'SAP_FLUX'           / column title: aperture photometry flux         \n",
       "TFORM4  = 'E       '           / column format: 32-bit floating point           \n",
       "TUNIT4  = 'e-/s    '           / column units: electrons per second             \n",
       "TDISP4  = 'E14.7   '           / column display format                          \n",
       "TTYPE5  = 'SAP_FLUX_ERR'       / column title: aperture phot. flux error        \n",
       "TFORM5  = 'E       '           / column format: 32-bit floating point           \n",
       "TUNIT5  = 'e-/s    '           / column units: electrons per second (1-sigma)   \n",
       "TDISP5  = 'E14.7   '           / column display format                          \n",
       "TTYPE6  = 'SAP_BKG '           / column title: aperture phot. background flux   \n",
       "TFORM6  = 'E       '           / column format: 32-bit floating point           \n",
       "TUNIT6  = 'e-/s    '           / column units: electrons per second             \n",
       "TDISP6  = 'E14.7   '           / column display format                          \n",
       "TTYPE7  = 'SAP_BKG_ERR'        / column title: ap. phot. background flux error  \n",
       "TFORM7  = 'E       '           / column format: 32-bit floating point           \n",
       "TUNIT7  = 'e-/s    '           / column units: electrons per second (1-sigma)   \n",
       "TDISP7  = 'E14.7   '           / column display format                          \n",
       "TTYPE8  = 'PDCSAP_FLUX'        / column title: aperture phot. PDC flux          \n",
       "TFORM8  = 'E       '           / column format: 32-bit floating point           \n",
       "TUNIT8  = 'e-/s    '           / column units: electrons per second             \n",
       "TDISP8  = 'E14.7   '           / column display format                          \n",
       "TTYPE9  = 'PDCSAP_FLUX_ERR'    / column title: ap. phot. PDC flux error         \n",
       "TFORM9  = 'E       '           / column format: 32-bit floating point           \n",
       "TUNIT9  = 'e-/s    '           / column units: electrons per second (1-sigma)   \n",
       "TDISP9  = 'E14.7   '           / column display format                          \n",
       "TTYPE10 = 'SAP_QUALITY'        / column title: aperture photometry quality flag \n",
       "TFORM10 = 'J       '           / column format: signed 32-bit integer           \n",
       "TDISP10 = 'B16.16  '           / column display format                          \n",
       "TTYPE11 = 'PSF_CENTR1'         / column title: PSF-fitted column centroid       \n",
       "TFORM11 = 'D       '           / column format: 64-bit floating point           \n",
       "TUNIT11 = 'pixel   '           / column units: pixel                            \n",
       "TDISP11 = 'F10.5   '           / column display format                          \n",
       "TTYPE12 = 'PSF_CENTR1_ERR'     / column title: PSF-fitted column error          \n",
       "TFORM12 = 'E       '           / column format: 32-bit floating point           \n",
       "TUNIT12 = 'pixel   '           / column units: pixel (1-sigma)                  \n",
       "TDISP12 = 'E14.7   '           / column display format                          \n",
       "TTYPE13 = 'PSF_CENTR2'         / column title: PSF-fitted row centroid          \n",
       "TFORM13 = 'D       '           / column format: 64-bit floating point           \n",
       "TUNIT13 = 'pixel   '           / column units: pixel                            \n",
       "TDISP13 = 'F10.5   '           / column display format                          \n",
       "TTYPE14 = 'PSF_CENTR2_ERR'     / column title: PSF-fitted row error             \n",
       "TFORM14 = 'E       '           / column format: 32-bit floating point           \n",
       "TUNIT14 = 'pixel   '           / column units: pixel (1-sigma)                  \n",
       "TDISP14 = 'E14.7   '           / column display format                          \n",
       "TTYPE15 = 'MOM_CENTR1'         / column title: moment-derived column centroid   \n",
       "TFORM15 = 'D       '           / column format: 64-bit floating point           \n",
       "TUNIT15 = 'pixel   '           / column units: pixel                            \n",
       "TDISP15 = 'F10.5   '           / column display format                          \n",
       "TTYPE16 = 'MOM_CENTR1_ERR'     / column title: moment-derived column error      \n",
       "TFORM16 = 'E       '           / column format: 32-bit floating point           \n",
       "TUNIT16 = 'pixel   '           / column units: pixel (1-sigma)                  \n",
       "TDISP16 = 'E14.7   '           / column display format                          \n",
       "TTYPE17 = 'MOM_CENTR2'         / column title: moment-derived row centroid      \n",
       "TFORM17 = 'D       '           / column format: 64-bit floating point           \n",
       "TUNIT17 = 'pixel   '           / column units: pixel                            \n",
       "TDISP17 = 'F10.5   '           / column display format                          \n",
       "TTYPE18 = 'MOM_CENTR2_ERR'     / column title: moment-derived row error         \n",
       "TFORM18 = 'E       '           / column format: 32-bit floating point           \n",
       "TUNIT18 = 'pixel   '           / column units: pixel (1-sigma)                  \n",
       "TDISP18 = 'E14.7   '           / column display format                          \n",
       "TTYPE19 = 'POS_CORR1'          / column title: column position correction       \n",
       "TFORM19 = 'E       '           / column format: 32-bit floating point           \n",
       "TUNIT19 = 'pixels  '           / column units: pixel                            \n",
       "TDISP19 = 'E14.7   '           / column display format                          \n",
       "TTYPE20 = 'POS_CORR2'          / column title: row position correction          \n",
       "TFORM20 = 'E       '           / column format: 32-bit floating point           \n",
       "TUNIT20 = 'pixels  '           / column units: pixel                            \n",
       "TDISP20 = 'E14.7   '           / column display format                          \n",
       "INHERIT =                    T / inherit the primary header                     \n",
       "EXTNAME = 'LIGHTCURVE'         / name of extension                              \n",
       "EXTVER  =                    1 / extension version number (not format version)  \n",
       "TELESCOP= 'Kepler  '           / telescope                                      \n",
       "INSTRUME= 'Kepler Photometer'  / detector type                                  \n",
       "OBJECT  = 'None of your business' / string version of target id                 \n",
       "KEPLERID= 'None of your business' / unique Kepler target identifier             \n",
       "RADESYS = 'ICRS    '           / reference frame of celestial coordinates       \n",
       "RA_OBJ  = 'None of your business' / [deg] right ascension                       \n",
       "DEC_OBJ = 'None of your business' / [deg] declination                           \n",
       "EQUINOX =               2000.0 / equinox of celestial coordinate system         \n",
       "EXPOSURE=          82.20427266 / [d] time on source                             \n",
       "TIMEREF = 'SOLARSYSTEM'        / barycentric correction applied to times        \n",
       "TASSIGN = 'SPACECRAFT'         / where time is assigned                         \n",
       "TIMESYS = 'TDB     '           / time system is barycentric JD                  \n",
       "BJDREFI =              2454833 / integer part of BJD reference date             \n",
       "BJDREFF =           0.00000000 / fraction of the day in BJD reference date      \n",
       "TIMEUNIT= 'd       '           / time unit for TIME, TSTART and TSTOP           \n",
       "TELAPSE =          89.29084789 / [d] TSTOP - TSTART                             \n",
       "LIVETIME=          82.20427266 / [d] TELAPSE multiplied by DEADC                \n",
       "TSTART  =         260.21442006 / observation start time in BJD-BJDREF           \n",
       "TSTOP   =         349.50526794 / observation stop time in BJD-BJDREF            \n",
       "LC_START=       55092.72220972 / mid point of first cadence in MJD              \n",
       "LC_END  =       55181.99659822 / mid point of last cadence in MJD               \n",
       "DEADC   =           0.92063492 / deadtime correction                            \n",
       "TIMEPIXR=                  0.5 / bin time beginning=0 middle=0.5 end=1          \n",
       "TIERRELA=             5.78E-07 / [d] relative time error                        \n",
       "TIERABSO=                      / [d] absolute time error                        \n",
       "INT_TIME=       6.019802903270 / [s] photon accumulation time per frame         \n",
       "READTIME=       0.518948526144 / [s] readout time per frame                     \n",
       "FRAMETIM=       6.538751429414 / [s] frame time (INT_TIME + READTIME)           \n",
       "NUM_FRM =                  270 / number of frames per time stamp                \n",
       "TIMEDEL =     0.02043359821692 / [d] time resolution of data                    \n",
       "DATE-OBS= '2009-09-18T17:05:16.190Z' / TSTART as UTC calendar date              \n",
       "DATE-END= '2009-12-17T00:09:48.815Z' / TSTOP as UTC calendar date               \n",
       "BACKAPP =                    T / background is subtracted                       \n",
       "DEADAPP =                    T / deadtime applied                               \n",
       "VIGNAPP =                    T / vignetting or collimator correction applied    \n",
       "GAIN    =               105.23 / [electrons/count] channel gain                 \n",
       "READNOIS=            84.594397 / [electrons] read noise                         \n",
       "NREADOUT=                  270 / number of read per cadence                     \n",
       "TIMSLICE=                    3 / time-slice readout sequence section            \n",
       "MEANBLCK=                  733 / [count] FSW mean black level                   \n",
       "LCFXDOFF=               419400 / long cadence fixed offset                      \n",
       "SCFXDOFF=               219400 / short cadence fixed offset                     \n",
       "CDPP3_0 =   101.72696685791016 / [ppm] RMS CDPP on 3.0-hr time scales           \n",
       "CDPP6_0 =     125.456787109375 / [ppm] RMS CDPP on 6.0-hr time scales           \n",
       "CDPP12_0=   110.96907806396484 / [ppm] RMS CDPP on 12.0-hr time scales          \n",
       "CROWDSAP=               0.9992 / Ratio of target flux to total flux in op. ap.  \n",
       "FLFRCSAP=               0.7252 / Frac. of target flux w/in the op. aperture     \n",
       "NSPSDDET=                    0 / Number of SPSDs detected                       \n",
       "NSPSDCOR=                    0 / Number of SPSDs corrected                      \n",
       "PDCVAR  =   1.8069709539413452 / Target variability                             \n",
       "PDCMETHD= 'multiScaleMap'      / PDC algorithm used for target                  \n",
       "NUMBAND =                    3 / Number of scale bands                          \n",
       "FITTYPE1= 'robust  '           / Fit type used for band 1                       \n",
       "PR_GOOD1=                  0.0 / Prior goodness for band 1                      \n",
       "PR_WGHT1=                  0.0 / Prior weight for band 1                        \n",
       "FITTYPE2= 'prior   '           / Fit type used for band 2                       \n",
       "PR_GOOD2=  0.07292769849300385 / Prior goodness for band 2                      \n",
       "PR_WGHT2=   11.492071151733398 / Prior weight for band 2                        \n",
       "FITTYPE3= 'prior   '           / Fit type used for band 3                       \n",
       "PR_GOOD3=    0.516323983669281 / Prior goodness for band 3                      \n",
       "PR_WGHT3=    81.36321258544922 / Prior weight for band 3                        \n",
       "PDC_TOT =   0.7119521498680115 / PDC total goodness metric for target           \n",
       "PDC_TOTP=   1.5745707750320435 / PDC_TOT percentile compared to mod/out         \n",
       "PDC_COR =   0.9627798199653625 / PDC correlation goodness metric for target     \n",
       "PDC_CORP=    9.833599090576172 / PDC_COR percentile compared to mod/out         \n",
       "PDC_VAR =   0.9373531937599182 / PDC variability goodness metric for target     \n",
       "PDC_VARP=      7.6667160987854 / PDC_VAR percentile compared to mod/out         \n",
       "PDC_NOI =   0.7827537655830383 / PDC noise goodness metric for target           \n",
       "PDC_NOIP=    8.062134742736816 / PDC_NOI percentile compared to mod/out         \n",
       "PDC_EPT =                  1.0 / PDC earth point goodness metric for target     \n",
       "PDC_EPTP=    54.63613510131836 / PDC_EPT percentile compared to mod/out         \n",
       "CHECKSUM= 'hhO8jhM6hhM6hhM6'   / HDU checksum updated 2019-09-17T17:12:24       \n",
       "DATASUM = '3847933012'         / data unit checksum updated 2019-09-17T17:12:24 "
      ]
     },
     "execution_count": 8,
     "metadata": {},
     "output_type": "execute_result"
    }
   ],
   "source": [
    "#Here the beginning has a description of columns in the table, including the units\n",
    "lc[1].header"
   ]
  },
  {
   "cell_type": "markdown",
   "metadata": {},
   "source": [
    "This is our lightcirve extension. You will notice two lighcurves here. \"SAP_FLUX\" is the Simple Aperture Photometry, whereas \"PDCSAP_FLUX\" is Pre-search Data Condictioned, i.e. has had processing applied for calibration. "
   ]
  },
  {
   "cell_type": "code",
   "execution_count": 9,
   "metadata": {},
   "outputs": [
    {
     "data": {
      "text/plain": [
       "[<matplotlib.lines.Line2D at 0x7f9a2eb3be20>]"
      ]
     },
     "execution_count": 9,
     "metadata": {},
     "output_type": "execute_result"
    },
    {
     "data": {
      "image/png": "[encoded data removed]",
      "text/plain": [
       "<Figure size 432x288 with 1 Axes>"
      ]
     },
     "metadata": {
      "needs_background": "light"
     },
     "output_type": "display_data"
    }
   ],
   "source": [
    "#Lets plot the lightcurve, you can plot the time and flux:\n",
    "plt.plot(lc[1].data['TIME'], lc[1].data['PDCSAP_FLUX'], ls='None', marker='o')\n",
    "#This plots the barycentre time and flux in e/s"
   ]
  },
  {
   "cell_type": "code",
   "execution_count": 10,
   "metadata": {},
   "outputs": [
    {
     "data": {
      "text/plain": [
       "<ErrorbarContainer object of 3 artists>"
      ]
     },
     "execution_count": 10,
     "metadata": {},
     "output_type": "execute_result"
    },
    {
     "data": {
      "image/png": "[encoded data removed]",
      "text/plain": [
       "<Figure size 432x288 with 1 Axes>"
      ]
     },
     "metadata": {
      "needs_background": "light"
     },
     "output_type": "display_data"
    }
   ],
   "source": [
    "#Measurements errors are also included, you can plot them as follows\n",
    "plt.errorbar(lc[1].data['TIME'], lc[1].data['PDCSAP_FLUX'], lc[1].data['PDCSAP_FLUX_ERR'], ls='None', marker='o')\n",
    "#We'll need to zoom in to see them:"
   ]
  },
  {
   "cell_type": "markdown",
   "metadata": {},
   "source": [
    "<a id=\"sec:dataguide\"></a>\n",
    "## 2. Step by step guide to your data\n",
    "\n",
    "#### Do not panic (or maybe do), what you have seen so far is only a small subset of the data you will be working with."
   ]
  },
  {
   "cell_type": "markdown",
   "metadata": {},
   "source": [
    "<div class=\"alert alert-block alert-success\">\n",
    "    \n",
    "### Your turn: First look at data - signal-to-noise\n",
    "\n",
    "- calculate the signal to noise of your lightcurve. Compare it to the signal-to-noise you required to detect a trsnait in Chapter 1. You can also compare it to some of the aperture photometry in Chapter 2."
   ]
  },
  {
   "cell_type": "code",
   "execution_count": null,
   "metadata": {},
   "outputs": [],
   "source": []
  },
  {
   "cell_type": "markdown",
   "metadata": {},
   "source": [
    "<div class=\"alert alert-block alert-success\">\n",
    "    \n",
    "### Your turn: First look at data - What does your lightcurve look like?\n",
    "\n",
    "Make notes about your lightcurve: you will be fitting this for planets, do you see any complications?"
   ]
  },
  {
   "cell_type": "code",
   "execution_count": null,
   "metadata": {},
   "outputs": [],
   "source": []
  },
  {
   "cell_type": "markdown",
   "metadata": {},
   "source": [
    "<div class=\"alert alert-block alert-success\">\n",
    "    \n",
    "### Your turn: Preparing for fitting:\n",
    "\n",
    "Locate all transits and make a plot for each"
   ]
  },
  {
   "cell_type": "code",
   "execution_count": null,
   "metadata": {},
   "outputs": [],
   "source": []
  },
  {
   "cell_type": "code",
   "execution_count": 11,
   "metadata": {},
   "outputs": [
    {
     "data": {
      "text/plain": [
       "['Data/Object1lc/kplr1_11.fits',\n",
       " 'Data/Object1lc/kplr1_3.fits',\n",
       " 'Data/Object1lc/kplr1_6.fits',\n",
       " 'Data/Object1lc/kplr1_12.fits',\n",
       " 'Data/Object1lc/kplr1_14.fits',\n",
       " 'Data/Object1lc/kplr1_8.fits',\n",
       " 'Data/Object1lc/kplr1_2.fits',\n",
       " 'Data/Object1lc/kplr1_13.fits',\n",
       " 'Data/Object1lc/kplr1_5.fits',\n",
       " 'Data/Object1lc/kplr1_17.fits',\n",
       " 'Data/Object1lc/kplr1_1.fits',\n",
       " 'Data/Object1lc/kplr1_7.fits',\n",
       " 'Data/Object1lc/kplr1_4.fits',\n",
       " 'Data/Object1lc/kplr1_16.fits',\n",
       " 'Data/Object1lc/kplr1_10.fits',\n",
       " 'Data/Object1lc/kplr1_15.fits',\n",
       " 'Data/Object1lc/kplr1_9.fits']"
      ]
     },
     "execution_count": 11,
     "metadata": {},
     "output_type": "execute_result"
    }
   ],
   "source": [
    "## So far, we have only looked at a subset of the data, the full dataset is stored in the Data folder.\n",
    "glob.glob('Data/Object%slc/kplr*.fits'%(mykepler)) #Lists all your lightcurve files"
   ]
  },
  {
   "cell_type": "code",
   "execution_count": null,
   "metadata": {},
   "outputs": [],
   "source": []
  },
  {
   "cell_type": "code",
   "execution_count": null,
   "metadata": {},
   "outputs": [],
   "source": []
  },
  {
   "cell_type": "code",
   "execution_count": null,
   "metadata": {},
   "outputs": [],
   "source": []
  },
  {
   "cell_type": "markdown",
   "metadata": {},
   "source": [
    "<div class=\"alert alert-block alert-success\">\n",
    "\n",
    "### Your turn: plot the full lightcurve"
   ]
  },
  {
   "cell_type": "code",
   "execution_count": 12,
   "metadata": {},
   "outputs": [],
   "source": [
    "import numpy as np\n",
    "import tqdm"
   ]
  },
  {
   "cell_type": "code",
   "execution_count": 13,
   "metadata": {},
   "outputs": [],
   "source": [
    "#THis works....\n",
    "total_flux, total_time, total_flux_error = [], [], []\n",
    "\n",
    "for lcfile in glob.glob('Data/Object%slc/kplr*.fits' %(mykepler)):\n",
    "    tmp = fits.open(lcfile)\n",
    "    tmptime = (tmp[1].data['TIME'])\n",
    "    tmpflux = (tmp[1].data['PDCSAP_FLUX'])\n",
    "    tmperror = (tmp[1].data['PDCSAP_FLUX_ERR'])\n",
    "\n",
    "    tmpflux_mask, tmperror_mask  = np.isfinite(tmpflux), np.isfinite(tmperror)\n",
    "    total_mask = np.logical_and(tmpflux_mask, tmperror_mask)\n",
    "\n",
    "    time_sample, flux_sample, flux_sample_error = tmptime[total_mask], tmpflux[total_mask], tmpflux[total_mask]\n",
    "    normalized_flux, normalized_flux_error = (flux_sample / np.mean(flux_sample)), (flux_sample_error / np.mean(flux_sample))\n",
    "\n",
    "\n",
    "    from scipy.signal import savgol_filter\n",
    "    interp_savgol = savgol_filter(normalized_flux, window_length=271, polyorder=3)\n",
    "\n",
    "    total_flux.append(normalized_flux/ interp_savgol)\n",
    "    total_flux_error.append(normalized_flux_error / interp_savgol)\n",
    "    total_time.append(time_sample)\n",
    "\n",
    "    #Mask all fluxes above upper value of 1 sigma of mean \n",
    "    tmp.close()"
   ]
  },
  {
   "cell_type": "code",
   "execution_count": 14,
   "metadata": {},
   "outputs": [],
   "source": [
    "#Quick correction to get one array for flux, flux_err and time sorted in order. \n",
    "flux_arr = np.concatenate(total_flux)\n",
    "flux_error_arr = np.concatenate(total_flux_error)\n",
    "time_arr = np.concatenate(total_time)\n",
    "\n",
    "sorted_flux = np.array([x for _, x in sorted(zip(time_arr, flux_arr), key=lambda pair: pair[0])])\n",
    "sorted_time = np.array([_ for _, x in sorted(zip(time_arr, flux_arr), key=lambda pair: pair[0])])\n",
    "sorted_flux_err = np.array([x for _, x in sorted(zip(time_arr, flux_error_arr), key=lambda pair: pair[0])])"
   ]
  },
  {
   "cell_type": "code",
   "execution_count": 15,
   "metadata": {},
   "outputs": [
    {
     "data": {
      "text/plain": [
       "[<matplotlib.lines.Line2D at 0x7f99cd237dc0>]"
      ]
     },
     "execution_count": 15,
     "metadata": {},
     "output_type": "execute_result"
    },
    {
     "data": {
      "image/png": "[encoded data removed]",
      "text/plain": [
       "<Figure size 432x288 with 1 Axes>"
      ]
     },
     "metadata": {
      "needs_background": "light"
     },
     "output_type": "display_data"
    }
   ],
   "source": [
    "#Remove all above x sigma above mean to clean signal \n",
    "num_sigma = 2 \n",
    "num_sigma_above_mean = np.mean(sorted_flux) + num_sigma * (np.std(sorted_flux))\n",
    "\n",
    "flux_value_mask = np.logical_and([x < num_sigma_above_mean for x in sorted_flux],  [x > -1000 for x in sorted_flux])\n",
    "flux, flux_err, time = sorted_flux[flux_value_mask], sorted_flux_err[flux_value_mask], sorted_time[flux_value_mask]\n",
    "\n",
    "#Remove single erroneous data point \n",
    "plt.plot(time, flux)"
   ]
  },
  {
   "cell_type": "code",
   "execution_count": 16,
   "metadata": {},
   "outputs": [
    {
     "name": "stderr",
     "output_type": "stream",
     "text": [
      "WARNING (theano.tensor.blas): Using NumPy C-API based implementation for BLAS functions.\n"
     ]
    },
    {
     "data": {
      "image/png": "[encoded data removed]",
      "text/plain": [
       "<Figure size 432x288 with 1 Axes>"
      ]
     },
     "metadata": {
      "needs_background": "light"
     },
     "output_type": "display_data"
    }
   ],
   "source": [
    "import exoplanet as xo\n",
    "\n",
    "pg = xo.estimators.bls_estimator(time, flux, flux_err, min_period=15, max_period=40)\n",
    "\n",
    "peak = pg[\"peak_info\"]\n",
    "period_guess = peak[\"period\"]\n",
    "t0_guess = peak[\"transit_time\"]\n",
    "depth_guess = peak[\"depth\"]\n",
    "\n",
    "plt.plot(pg[\"bls\"].period, pg[\"bls\"].power, \"k\", linewidth=0.5)\n",
    "plt.axvline(period_guess, alpha=0.3, linewidth=5)\n",
    "plt.xlabel(\"period [days]\")\n",
    "plt.ylabel(\"bls power\")\n",
    "plt.yticks([])\n",
    "_ = plt.xlim(pg[\"bls\"].period.min(), pg[\"bls\"].period.max())"
   ]
  },
  {
   "cell_type": "code",
   "execution_count": 17,
   "metadata": {},
   "outputs": [
    {
     "name": "stdout",
     "output_type": "stream",
     "text": [
      "\n",
      "    period : 19.222997314785374,\n",
      "    transit guess : 145.81301296925517,\n",
      "    depth_guess : 0.002117254522572354\n",
      "\n"
     ]
    }
   ],
   "source": [
    "print(f\"\"\"\n",
    "    period : {period_guess},\n",
    "    transit guess : {t0_guess},\n",
    "    depth_guess : {depth_guess}\n",
    "\"\"\")"
   ]
  },
  {
   "cell_type": "code",
   "execution_count": 18,
   "metadata": {},
   "outputs": [],
   "source": [
    "transit_mask = (\n",
    "    np.abs(\n",
    "        (time - t0_guess + 0.5 * period_guess) % period_guess - 0.5 * period_guess\n",
    "    )\n",
    "    < 0.25\n",
    ")\n",
    "x = np.ascontiguousarray(time[transit_mask])\n",
    "y = np.ascontiguousarray(flux[transit_mask])\n",
    "yerr = np.ascontiguousarray(flux_err[transit_mask])\n",
    "\n",
    "x_fold = (\n",
    "    x - t0_guess + 0.5 * period_guess\n",
    ") % period_guess - 0.5 * period_guess\n",
    "\n",
    "\n",
    "x_fold_cord_mask = (x_fold > -0.09) & (x_fold < 0.09)\n",
    "final_mask = ~np.logical_and(x_fold_cord_mask, (y > 0.999))\n",
    "\n",
    "#final_mask = np.logical_and(final_mask, (x > 1100))"
   ]
  },
  {
   "cell_type": "code",
   "execution_count": 19,
   "metadata": {},
   "outputs": [],
   "source": [
    "x = x[final_mask]\n",
    "x_fold = x_fold[final_mask]\n",
    "y = y[final_mask]\n",
    "yerr = yerr[final_mask]"
   ]
  },
  {
   "cell_type": "code",
   "execution_count": 20,
   "metadata": {},
   "outputs": [],
   "source": [
    "mask = x < 900"
   ]
  },
  {
   "cell_type": "code",
   "execution_count": 21,
   "metadata": {},
   "outputs": [
    {
     "data": {
      "image/png": "[encoded data removed]",
      "text/plain": [
       "<Figure size 576x288 with 2 Axes>"
      ]
     },
     "metadata": {
      "needs_background": "light"
     },
     "output_type": "display_data"
    }
   ],
   "source": [
    "plt.figure(figsize=(8, 4))\n",
    "plt.scatter(x_fold, y, c=x, s=3)\n",
    "plt.xlabel(\"time since transit [days]\")\n",
    "plt.ylabel(\"relative flux [ppt]\")\n",
    "plt.colorbar(label=\"time [days]\")\n",
    "_ = plt.xlim(-0.25, 0.25)"
   ]
  },
  {
   "cell_type": "code",
   "execution_count": 66,
   "metadata": {},
   "outputs": [
    {
     "name": "stderr",
     "output_type": "stream",
     "text": [
      "WARNING (theano.tensor.opt): Cannot construct a scalar test value from a test value with no size: InplaceDimShuffle{x,0}.0\n",
      "WARNING:theano.tensor.opt:Cannot construct a scalar test value from a test value with no size: InplaceDimShuffle{x,0}.0\n",
      "WARNING (theano.tensor.opt): Cannot construct a scalar test value from a test value with no size: Elemwise{cos,no_inplace}.0\n",
      "WARNING:theano.tensor.opt:Cannot construct a scalar test value from a test value with no size: Elemwise{cos,no_inplace}.0\n",
      "WARNING (theano.tensor.opt): Cannot construct a scalar test value from a test value with no size: InplaceDimShuffle{x,0}.0\n",
      "WARNING:theano.tensor.opt:Cannot construct a scalar test value from a test value with no size: InplaceDimShuffle{x,0}.0\n",
      "WARNING (theano.tensor.opt): Cannot construct a scalar test value from a test value with no size: Elemwise{sin,no_inplace}.0\n",
      "WARNING:theano.tensor.opt:Cannot construct a scalar test value from a test value with no size: Elemwise{sin,no_inplace}.0\n",
      "WARNING (theano.tensor.opt): Cannot construct a scalar test value from a test value with no size: InplaceDimShuffle{x,0}.0\n",
      "WARNING:theano.tensor.opt:Cannot construct a scalar test value from a test value with no size: InplaceDimShuffle{x,0}.0\n",
      "WARNING (theano.tensor.opt): Cannot construct a scalar test value from a test value with no size: Elemwise{sin,no_inplace}.0\n",
      "WARNING:theano.tensor.opt:Cannot construct a scalar test value from a test value with no size: Elemwise{sin,no_inplace}.0\n",
      "WARNING (theano.tensor.opt): Cannot construct a scalar test value from a test value with no size: InplaceDimShuffle{x,0}.0\n",
      "WARNING:theano.tensor.opt:Cannot construct a scalar test value from a test value with no size: InplaceDimShuffle{x,0}.0\n",
      "WARNING (theano.tensor.opt): Cannot construct a scalar test value from a test value with no size: Elemwise{cos,no_inplace}.0\n",
      "WARNING:theano.tensor.opt:Cannot construct a scalar test value from a test value with no size: Elemwise{cos,no_inplace}.0\n"
     ]
    },
    {
     "name": "stdout",
     "output_type": "stream",
     "text": [
      "mean                         -3.22\n",
      "u_quadlimbdark__             -2.77\n",
      "sigma_log__                  -0.53\n",
      "log_sigma_gp                 -3.22\n",
      "log_rho_gp                   -3.22\n",
      "log_ror                      -3.22\n",
      "log_period                   -0.92\n",
      "t0                           -0.92\n",
      "log_dur                      -3.22\n",
      "b_impact__                   -1.39\n",
      "ecs_unitdisk+interval__      -1.39\n",
      "ecc_prior                     0.24\n",
      "obs                       -1579.66\n",
      "Name: Log-probability of test_point, dtype: float64\n"
     ]
    },
    {
     "name": "stderr",
     "output_type": "stream",
     "text": [
      "WARNING (theano.tensor.opt): Cannot construct a scalar test value from a test value with no size: InplaceDimShuffle{x,0}.0\n",
      "WARNING:theano.tensor.opt:Cannot construct a scalar test value from a test value with no size: InplaceDimShuffle{x,0}.0\n",
      "WARNING (theano.tensor.opt): Cannot construct a scalar test value from a test value with no size: Elemwise{cos,no_inplace}.0\n",
      "WARNING:theano.tensor.opt:Cannot construct a scalar test value from a test value with no size: Elemwise{cos,no_inplace}.0\n",
      "WARNING (theano.tensor.opt): Cannot construct a scalar test value from a test value with no size: InplaceDimShuffle{x,0}.0\n",
      "WARNING:theano.tensor.opt:Cannot construct a scalar test value from a test value with no size: InplaceDimShuffle{x,0}.0\n",
      "WARNING (theano.tensor.opt): Cannot construct a scalar test value from a test value with no size: Elemwise{sin,no_inplace}.0\n",
      "WARNING:theano.tensor.opt:Cannot construct a scalar test value from a test value with no size: Elemwise{sin,no_inplace}.0\n",
      "WARNING (theano.tensor.opt): Cannot construct a scalar test value from a test value with no size: InplaceDimShuffle{x,0}.0\n",
      "WARNING:theano.tensor.opt:Cannot construct a scalar test value from a test value with no size: InplaceDimShuffle{x,0}.0\n",
      "WARNING (theano.tensor.opt): Cannot construct a scalar test value from a test value with no size: Elemwise{sin,no_inplace}.0\n",
      "WARNING:theano.tensor.opt:Cannot construct a scalar test value from a test value with no size: Elemwise{sin,no_inplace}.0\n",
      "WARNING (theano.tensor.opt): Cannot construct a scalar test value from a test value with no size: InplaceDimShuffle{x,0}.0\n",
      "WARNING:theano.tensor.opt:Cannot construct a scalar test value from a test value with no size: InplaceDimShuffle{x,0}.0\n",
      "WARNING (theano.tensor.opt): Cannot construct a scalar test value from a test value with no size: Elemwise{cos,no_inplace}.0\n",
      "WARNING:theano.tensor.opt:Cannot construct a scalar test value from a test value with no size: Elemwise{cos,no_inplace}.0\n",
      "optimizing logp for variables: [sigma]\n"
     ]
    },
    {
     "data": {
      "text/html": [
       "\n",
       "<style>\n",
       "    /* Turns off some styling */\n",
       "    progress {\n",
       "        /* gets rid of default border in Firefox and Opera. */\n",
       "        border: none;\n",
       "        /* Needs to be in here for Safari polyfill so background images work as expected. */\n",
       "        background-size: auto;\n",
       "    }\n",
       "    progress:not([value]), progress:not([value])::-webkit-progress-bar {\n",
       "        background: repeating-linear-gradient(45deg, #7e7e7e, #7e7e7e 10px, #5c5c5c 10px, #5c5c5c 20px);\n",
       "    }\n",
       "    .progress-bar-interrupted, .progress-bar-interrupted::-webkit-progress-bar {\n",
       "        background: #F44336;\n",
       "    }\n",
       "</style>\n"
      ],
      "text/plain": [
       "<IPython.core.display.HTML object>"
      ]
     },
     "metadata": {},
     "output_type": "display_data"
    },
    {
     "data": {
      "text/html": [
       "\n",
       "    <div>\n",
       "      <progress value='9' class='' max='9' style='width:300px; height:20px; vertical-align: middle;'></progress>\n",
       "      100.00% [9/9 00:00&lt;00:00 logp = -1.482e+03]\n",
       "    </div>\n",
       "    "
      ],
      "text/plain": [
       "<IPython.core.display.HTML object>"
      ]
     },
     "metadata": {},
     "output_type": "display_data"
    },
    {
     "name": "stderr",
     "output_type": "stream",
     "text": [
      "message: Optimization terminated successfully.\n",
      "logp: -1603.4523401783115 -> -1481.9523654030002\n"
     ]
    },
    {
     "name": "stdout",
     "output_type": "stream",
     "text": [
      "\n"
     ]
    },
    {
     "name": "stderr",
     "output_type": "stream",
     "text": [
      "WARNING (theano.tensor.opt): Cannot construct a scalar test value from a test value with no size: InplaceDimShuffle{x,0}.0\n",
      "WARNING:theano.tensor.opt:Cannot construct a scalar test value from a test value with no size: InplaceDimShuffle{x,0}.0\n",
      "WARNING (theano.tensor.opt): Cannot construct a scalar test value from a test value with no size: Elemwise{cos,no_inplace}.0\n",
      "WARNING:theano.tensor.opt:Cannot construct a scalar test value from a test value with no size: Elemwise{cos,no_inplace}.0\n",
      "WARNING (theano.tensor.opt): Cannot construct a scalar test value from a test value with no size: InplaceDimShuffle{x,0}.0\n",
      "WARNING:theano.tensor.opt:Cannot construct a scalar test value from a test value with no size: InplaceDimShuffle{x,0}.0\n",
      "WARNING (theano.tensor.opt): Cannot construct a scalar test value from a test value with no size: Elemwise{sin,no_inplace}.0\n",
      "WARNING:theano.tensor.opt:Cannot construct a scalar test value from a test value with no size: Elemwise{sin,no_inplace}.0\n",
      "WARNING (theano.tensor.opt): Cannot construct a scalar test value from a test value with no size: InplaceDimShuffle{x,0}.0\n",
      "WARNING:theano.tensor.opt:Cannot construct a scalar test value from a test value with no size: InplaceDimShuffle{x,0}.0\n",
      "WARNING (theano.tensor.opt): Cannot construct a scalar test value from a test value with no size: Elemwise{sin,no_inplace}.0\n",
      "WARNING:theano.tensor.opt:Cannot construct a scalar test value from a test value with no size: Elemwise{sin,no_inplace}.0\n",
      "WARNING (theano.tensor.opt): Cannot construct a scalar test value from a test value with no size: InplaceDimShuffle{x,0}.0\n",
      "WARNING:theano.tensor.opt:Cannot construct a scalar test value from a test value with no size: InplaceDimShuffle{x,0}.0\n",
      "WARNING (theano.tensor.opt): Cannot construct a scalar test value from a test value with no size: Elemwise{cos,no_inplace}.0\n",
      "WARNING:theano.tensor.opt:Cannot construct a scalar test value from a test value with no size: Elemwise{cos,no_inplace}.0\n",
      "optimizing logp for variables: [log_dur, b, log_ror]\n"
     ]
    },
    {
     "data": {
      "text/html": [
       "\n",
       "<style>\n",
       "    /* Turns off some styling */\n",
       "    progress {\n",
       "        /* gets rid of default border in Firefox and Opera. */\n",
       "        border: none;\n",
       "        /* Needs to be in here for Safari polyfill so background images work as expected. */\n",
       "        background-size: auto;\n",
       "    }\n",
       "    progress:not([value]), progress:not([value])::-webkit-progress-bar {\n",
       "        background: repeating-linear-gradient(45deg, #7e7e7e, #7e7e7e 10px, #5c5c5c 10px, #5c5c5c 20px);\n",
       "    }\n",
       "    .progress-bar-interrupted, .progress-bar-interrupted::-webkit-progress-bar {\n",
       "        background: #F44336;\n",
       "    }\n",
       "</style>\n"
      ],
      "text/plain": [
       "<IPython.core.display.HTML object>"
      ]
     },
     "metadata": {},
     "output_type": "display_data"
    },
    {
     "data": {
      "text/html": [
       "\n",
       "    <div>\n",
       "      <progress value='20' class='' max='20' style='width:300px; height:20px; vertical-align: middle;'></progress>\n",
       "      100.00% [20/20 00:00&lt;00:00 logp = -1.482e+03]\n",
       "    </div>\n",
       "    "
      ],
      "text/plain": [
       "<IPython.core.display.HTML object>"
      ]
     },
     "metadata": {},
     "output_type": "display_data"
    },
    {
     "name": "stderr",
     "output_type": "stream",
     "text": [
      "message: Optimization terminated successfully.\n",
      "logp: -1481.9523654030002 -> -1481.9519648045884\n"
     ]
    },
    {
     "name": "stdout",
     "output_type": "stream",
     "text": [
      "\n"
     ]
    },
    {
     "name": "stderr",
     "output_type": "stream",
     "text": [
      "WARNING (theano.tensor.opt): Cannot construct a scalar test value from a test value with no size: InplaceDimShuffle{x,0}.0\n",
      "WARNING:theano.tensor.opt:Cannot construct a scalar test value from a test value with no size: InplaceDimShuffle{x,0}.0\n",
      "WARNING (theano.tensor.opt): Cannot construct a scalar test value from a test value with no size: Elemwise{cos,no_inplace}.0\n",
      "WARNING:theano.tensor.opt:Cannot construct a scalar test value from a test value with no size: Elemwise{cos,no_inplace}.0\n",
      "WARNING (theano.tensor.opt): Cannot construct a scalar test value from a test value with no size: InplaceDimShuffle{x,0}.0\n",
      "WARNING:theano.tensor.opt:Cannot construct a scalar test value from a test value with no size: InplaceDimShuffle{x,0}.0\n",
      "WARNING (theano.tensor.opt): Cannot construct a scalar test value from a test value with no size: Elemwise{sin,no_inplace}.0\n",
      "WARNING:theano.tensor.opt:Cannot construct a scalar test value from a test value with no size: Elemwise{sin,no_inplace}.0\n",
      "WARNING (theano.tensor.opt): Cannot construct a scalar test value from a test value with no size: InplaceDimShuffle{x,0}.0\n",
      "WARNING:theano.tensor.opt:Cannot construct a scalar test value from a test value with no size: InplaceDimShuffle{x,0}.0\n",
      "WARNING (theano.tensor.opt): Cannot construct a scalar test value from a test value with no size: Elemwise{sin,no_inplace}.0\n",
      "WARNING:theano.tensor.opt:Cannot construct a scalar test value from a test value with no size: Elemwise{sin,no_inplace}.0\n",
      "WARNING (theano.tensor.opt): Cannot construct a scalar test value from a test value with no size: InplaceDimShuffle{x,0}.0\n",
      "WARNING:theano.tensor.opt:Cannot construct a scalar test value from a test value with no size: InplaceDimShuffle{x,0}.0\n",
      "WARNING (theano.tensor.opt): Cannot construct a scalar test value from a test value with no size: Elemwise{cos,no_inplace}.0\n",
      "WARNING:theano.tensor.opt:Cannot construct a scalar test value from a test value with no size: Elemwise{cos,no_inplace}.0\n",
      "optimizing logp for variables: [ecs]\n"
     ]
    },
    {
     "data": {
      "text/html": [
       "\n",
       "<style>\n",
       "    /* Turns off some styling */\n",
       "    progress {\n",
       "        /* gets rid of default border in Firefox and Opera. */\n",
       "        border: none;\n",
       "        /* Needs to be in here for Safari polyfill so background images work as expected. */\n",
       "        background-size: auto;\n",
       "    }\n",
       "    progress:not([value]), progress:not([value])::-webkit-progress-bar {\n",
       "        background: repeating-linear-gradient(45deg, #7e7e7e, #7e7e7e 10px, #5c5c5c 10px, #5c5c5c 20px);\n",
       "    }\n",
       "    .progress-bar-interrupted, .progress-bar-interrupted::-webkit-progress-bar {\n",
       "        background: #F44336;\n",
       "    }\n",
       "</style>\n"
      ],
      "text/plain": [
       "<IPython.core.display.HTML object>"
      ]
     },
     "metadata": {},
     "output_type": "display_data"
    },
    {
     "data": {
      "text/html": [
       "\n",
       "    <div>\n",
       "      <progress value='43' class='' max='43' style='width:300px; height:20px; vertical-align: middle;'></progress>\n",
       "      100.00% [43/43 00:00&lt;00:00 logp = -1.481e+03]\n",
       "    </div>\n",
       "    "
      ],
      "text/plain": [
       "<IPython.core.display.HTML object>"
      ]
     },
     "metadata": {},
     "output_type": "display_data"
    },
    {
     "name": "stderr",
     "output_type": "stream",
     "text": [
      "message: Optimization terminated successfully.\n",
      "logp: -1481.9519648045884 -> -1481.3584720371\n"
     ]
    },
    {
     "name": "stdout",
     "output_type": "stream",
     "text": [
      "\n"
     ]
    },
    {
     "name": "stderr",
     "output_type": "stream",
     "text": [
      "WARNING (theano.tensor.opt): Cannot construct a scalar test value from a test value with no size: Elemwise{mul}.0\n",
      "WARNING:theano.tensor.opt:Cannot construct a scalar test value from a test value with no size: Elemwise{mul}.0\n",
      "WARNING (theano.tensor.opt): Cannot construct a scalar test value from a test value with no size: Elemwise{sin,no_inplace}.0\n",
      "WARNING:theano.tensor.opt:Cannot construct a scalar test value from a test value with no size: Elemwise{sin,no_inplace}.0\n",
      "WARNING (theano.tensor.opt): Cannot construct a scalar test value from a test value with no size: Elemwise{cos,no_inplace}.0\n",
      "WARNING:theano.tensor.opt:Cannot construct a scalar test value from a test value with no size: Elemwise{cos,no_inplace}.0\n",
      "WARNING (theano.tensor.opt): Cannot construct a scalar test value from a test value with no size: Elemwise{mul}.0\n",
      "WARNING:theano.tensor.opt:Cannot construct a scalar test value from a test value with no size: Elemwise{mul}.0\n",
      "WARNING (theano.tensor.opt): Cannot construct a scalar test value from a test value with no size: {self.__class__.__name__ }{{{self.len_splits}}}.1\n",
      "WARNING:theano.tensor.opt:Cannot construct a scalar test value from a test value with no size: {self.__class__.__name__ }{{{self.len_splits}}}.1\n",
      "WARNING (theano.tensor.opt): Cannot construct a scalar test value from a test value with no size: Elemwise{mul}.0\n",
      "WARNING:theano.tensor.opt:Cannot construct a scalar test value from a test value with no size: Elemwise{mul}.0\n",
      "WARNING (theano.tensor.opt): Cannot construct a scalar test value from a test value with no size: Elemwise{mul}.0\n",
      "WARNING:theano.tensor.opt:Cannot construct a scalar test value from a test value with no size: Elemwise{mul}.0\n",
      "WARNING (theano.tensor.opt): Cannot construct a scalar test value from a test value with no size: {self.__class__.__name__ }{{{self.len_splits}}}.2\n",
      "WARNING:theano.tensor.opt:Cannot construct a scalar test value from a test value with no size: {self.__class__.__name__ }{{{self.len_splits}}}.2\n",
      "WARNING (theano.tensor.opt): Cannot construct a scalar test value from a test value with no size: {self.__class__.__name__ }{{{self.len_splits}}}.1\n",
      "WARNING:theano.tensor.opt:Cannot construct a scalar test value from a test value with no size: {self.__class__.__name__ }{{{self.len_splits}}}.1\n",
      "WARNING (theano.tensor.opt): Cannot construct a scalar test value from a test value with no size: InplaceDimShuffle{x,0}.0\n",
      "WARNING:theano.tensor.opt:Cannot construct a scalar test value from a test value with no size: InplaceDimShuffle{x,0}.0\n",
      "WARNING (theano.tensor.opt): Cannot construct a scalar test value from a test value with no size: {self.__class__.__name__ }{{{self.len_splits}}}.2\n",
      "WARNING:theano.tensor.opt:Cannot construct a scalar test value from a test value with no size: {self.__class__.__name__ }{{{self.len_splits}}}.2\n",
      "WARNING (theano.tensor.opt): Cannot construct a scalar test value from a test value with no size: InplaceDimShuffle{x,0}.0\n",
      "WARNING:theano.tensor.opt:Cannot construct a scalar test value from a test value with no size: InplaceDimShuffle{x,0}.0\n",
      "WARNING (theano.tensor.opt): Cannot construct a scalar test value from a test value with no size: InplaceDimShuffle{x,0}.0\n",
      "WARNING:theano.tensor.opt:Cannot construct a scalar test value from a test value with no size: InplaceDimShuffle{x,0}.0\n",
      "WARNING (theano.tensor.opt): Cannot construct a scalar test value from a test value with no size: Elemwise{cos,no_inplace}.0\n",
      "WARNING:theano.tensor.opt:Cannot construct a scalar test value from a test value with no size: Elemwise{cos,no_inplace}.0\n",
      "WARNING (theano.tensor.opt): Cannot construct a scalar test value from a test value with no size: InplaceDimShuffle{x,0}.0\n",
      "WARNING:theano.tensor.opt:Cannot construct a scalar test value from a test value with no size: InplaceDimShuffle{x,0}.0\n",
      "WARNING (theano.tensor.opt): Cannot construct a scalar test value from a test value with no size: Elemwise{sin,no_inplace}.0\n",
      "WARNING:theano.tensor.opt:Cannot construct a scalar test value from a test value with no size: Elemwise{sin,no_inplace}.0\n",
      "WARNING (theano.tensor.opt): Cannot construct a scalar test value from a test value with no size: InplaceDimShuffle{x,0}.0\n",
      "WARNING:theano.tensor.opt:Cannot construct a scalar test value from a test value with no size: InplaceDimShuffle{x,0}.0\n",
      "WARNING (theano.tensor.opt): Cannot construct a scalar test value from a test value with no size: Elemwise{sin,no_inplace}.0\n",
      "WARNING:theano.tensor.opt:Cannot construct a scalar test value from a test value with no size: Elemwise{sin,no_inplace}.0\n",
      "WARNING (theano.tensor.opt): Cannot construct a scalar test value from a test value with no size: InplaceDimShuffle{x,0}.0\n",
      "WARNING:theano.tensor.opt:Cannot construct a scalar test value from a test value with no size: InplaceDimShuffle{x,0}.0\n",
      "WARNING (theano.tensor.opt): Cannot construct a scalar test value from a test value with no size: Elemwise{cos,no_inplace}.0\n",
      "WARNING:theano.tensor.opt:Cannot construct a scalar test value from a test value with no size: Elemwise{cos,no_inplace}.0\n",
      "optimizing logp for variables: [log_rho_gp, log_sigma_gp, sigma]\n"
     ]
    },
    {
     "data": {
      "text/html": [
       "\n",
       "<style>\n",
       "    /* Turns off some styling */\n",
       "    progress {\n",
       "        /* gets rid of default border in Firefox and Opera. */\n",
       "        border: none;\n",
       "        /* Needs to be in here for Safari polyfill so background images work as expected. */\n",
       "        background-size: auto;\n",
       "    }\n",
       "    progress:not([value]), progress:not([value])::-webkit-progress-bar {\n",
       "        background: repeating-linear-gradient(45deg, #7e7e7e, #7e7e7e 10px, #5c5c5c 10px, #5c5c5c 20px);\n",
       "    }\n",
       "    .progress-bar-interrupted, .progress-bar-interrupted::-webkit-progress-bar {\n",
       "        background: #F44336;\n",
       "    }\n",
       "</style>\n"
      ],
      "text/plain": [
       "<IPython.core.display.HTML object>"
      ]
     },
     "metadata": {},
     "output_type": "display_data"
    },
    {
     "data": {
      "text/html": [
       "\n",
       "    <div>\n",
       "      <progress value='35' class='' max='35' style='width:300px; height:20px; vertical-align: middle;'></progress>\n",
       "      100.00% [35/35 00:00&lt;00:00 logp = -1.279e+03]\n",
       "    </div>\n",
       "    "
      ],
      "text/plain": [
       "<IPython.core.display.HTML object>"
      ]
     },
     "metadata": {},
     "output_type": "display_data"
    },
    {
     "name": "stderr",
     "output_type": "stream",
     "text": [
      "message: Optimization terminated successfully.\n",
      "logp: -1481.3584720371 -> -1278.527331990494\n"
     ]
    },
    {
     "name": "stdout",
     "output_type": "stream",
     "text": [
      "\n"
     ]
    },
    {
     "name": "stderr",
     "output_type": "stream",
     "text": [
      "WARNING (theano.tensor.opt): Cannot construct a scalar test value from a test value with no size: InplaceDimShuffle{x,0}.0\n",
      "WARNING:theano.tensor.opt:Cannot construct a scalar test value from a test value with no size: InplaceDimShuffle{x,0}.0\n",
      "WARNING (theano.tensor.opt): Cannot construct a scalar test value from a test value with no size: Elemwise{cos,no_inplace}.0\n",
      "WARNING:theano.tensor.opt:Cannot construct a scalar test value from a test value with no size: Elemwise{cos,no_inplace}.0\n",
      "WARNING (theano.tensor.opt): Cannot construct a scalar test value from a test value with no size: InplaceDimShuffle{x,0}.0\n",
      "WARNING:theano.tensor.opt:Cannot construct a scalar test value from a test value with no size: InplaceDimShuffle{x,0}.0\n",
      "WARNING (theano.tensor.opt): Cannot construct a scalar test value from a test value with no size: Elemwise{sin,no_inplace}.0\n",
      "WARNING:theano.tensor.opt:Cannot construct a scalar test value from a test value with no size: Elemwise{sin,no_inplace}.0\n",
      "WARNING (theano.tensor.opt): Cannot construct a scalar test value from a test value with no size: InplaceDimShuffle{x,0}.0\n",
      "WARNING:theano.tensor.opt:Cannot construct a scalar test value from a test value with no size: InplaceDimShuffle{x,0}.0\n",
      "WARNING (theano.tensor.opt): Cannot construct a scalar test value from a test value with no size: Elemwise{sin,no_inplace}.0\n",
      "WARNING:theano.tensor.opt:Cannot construct a scalar test value from a test value with no size: Elemwise{sin,no_inplace}.0\n",
      "WARNING (theano.tensor.opt): Cannot construct a scalar test value from a test value with no size: InplaceDimShuffle{x,0}.0\n",
      "WARNING:theano.tensor.opt:Cannot construct a scalar test value from a test value with no size: InplaceDimShuffle{x,0}.0\n",
      "WARNING (theano.tensor.opt): Cannot construct a scalar test value from a test value with no size: Elemwise{cos,no_inplace}.0\n",
      "WARNING:theano.tensor.opt:Cannot construct a scalar test value from a test value with no size: Elemwise{cos,no_inplace}.0\n",
      "optimizing logp for variables: [u, mean]\n"
     ]
    },
    {
     "data": {
      "text/html": [
       "\n",
       "<style>\n",
       "    /* Turns off some styling */\n",
       "    progress {\n",
       "        /* gets rid of default border in Firefox and Opera. */\n",
       "        border: none;\n",
       "        /* Needs to be in here for Safari polyfill so background images work as expected. */\n",
       "        background-size: auto;\n",
       "    }\n",
       "    progress:not([value]), progress:not([value])::-webkit-progress-bar {\n",
       "        background: repeating-linear-gradient(45deg, #7e7e7e, #7e7e7e 10px, #5c5c5c 10px, #5c5c5c 20px);\n",
       "    }\n",
       "    .progress-bar-interrupted, .progress-bar-interrupted::-webkit-progress-bar {\n",
       "        background: #F44336;\n",
       "    }\n",
       "</style>\n"
      ],
      "text/plain": [
       "<IPython.core.display.HTML object>"
      ]
     },
     "metadata": {},
     "output_type": "display_data"
    },
    {
     "data": {
      "text/html": [
       "\n",
       "    <div>\n",
       "      <progress value='6' class='' max='6' style='width:300px; height:20px; vertical-align: middle;'></progress>\n",
       "      100.00% [6/6 00:00&lt;00:00 logp = -1.279e+03]\n",
       "    </div>\n",
       "    "
      ],
      "text/plain": [
       "<IPython.core.display.HTML object>"
      ]
     },
     "metadata": {},
     "output_type": "display_data"
    },
    {
     "name": "stderr",
     "output_type": "stream",
     "text": [
      "message: Optimization terminated successfully.\n",
      "logp: -1278.527331990494 -> -1278.5251405701074\n"
     ]
    },
    {
     "name": "stdout",
     "output_type": "stream",
     "text": [
      "\n"
     ]
    },
    {
     "name": "stderr",
     "output_type": "stream",
     "text": [
      "WARNING (theano.tensor.opt): Cannot construct a scalar test value from a test value with no size: Elemwise{mul}.0\n",
      "WARNING:theano.tensor.opt:Cannot construct a scalar test value from a test value with no size: Elemwise{mul}.0\n",
      "WARNING (theano.tensor.opt): Cannot construct a scalar test value from a test value with no size: Elemwise{sin,no_inplace}.0\n",
      "WARNING:theano.tensor.opt:Cannot construct a scalar test value from a test value with no size: Elemwise{sin,no_inplace}.0\n",
      "WARNING (theano.tensor.opt): Cannot construct a scalar test value from a test value with no size: Elemwise{cos,no_inplace}.0\n",
      "WARNING:theano.tensor.opt:Cannot construct a scalar test value from a test value with no size: Elemwise{cos,no_inplace}.0\n",
      "WARNING (theano.tensor.opt): Cannot construct a scalar test value from a test value with no size: Elemwise{mul}.0\n",
      "WARNING:theano.tensor.opt:Cannot construct a scalar test value from a test value with no size: Elemwise{mul}.0\n",
      "WARNING (theano.tensor.opt): Cannot construct a scalar test value from a test value with no size: {self.__class__.__name__ }{{{self.len_splits}}}.1\n",
      "WARNING:theano.tensor.opt:Cannot construct a scalar test value from a test value with no size: {self.__class__.__name__ }{{{self.len_splits}}}.1\n",
      "WARNING (theano.tensor.opt): Cannot construct a scalar test value from a test value with no size: Elemwise{mul}.0\n",
      "WARNING:theano.tensor.opt:Cannot construct a scalar test value from a test value with no size: Elemwise{mul}.0\n",
      "WARNING (theano.tensor.opt): Cannot construct a scalar test value from a test value with no size: Elemwise{mul}.0\n",
      "WARNING:theano.tensor.opt:Cannot construct a scalar test value from a test value with no size: Elemwise{mul}.0\n",
      "WARNING (theano.tensor.opt): Cannot construct a scalar test value from a test value with no size: {self.__class__.__name__ }{{{self.len_splits}}}.2\n",
      "WARNING:theano.tensor.opt:Cannot construct a scalar test value from a test value with no size: {self.__class__.__name__ }{{{self.len_splits}}}.2\n",
      "WARNING (theano.tensor.opt): Cannot construct a scalar test value from a test value with no size: {self.__class__.__name__ }{{{self.len_splits}}}.1\n",
      "WARNING:theano.tensor.opt:Cannot construct a scalar test value from a test value with no size: {self.__class__.__name__ }{{{self.len_splits}}}.1\n",
      "WARNING (theano.tensor.opt): Cannot construct a scalar test value from a test value with no size: InplaceDimShuffle{x,0}.0\n",
      "WARNING:theano.tensor.opt:Cannot construct a scalar test value from a test value with no size: InplaceDimShuffle{x,0}.0\n",
      "WARNING (theano.tensor.opt): Cannot construct a scalar test value from a test value with no size: {self.__class__.__name__ }{{{self.len_splits}}}.2\n",
      "WARNING:theano.tensor.opt:Cannot construct a scalar test value from a test value with no size: {self.__class__.__name__ }{{{self.len_splits}}}.2\n",
      "WARNING (theano.tensor.opt): Cannot construct a scalar test value from a test value with no size: InplaceDimShuffle{x,0}.0\n",
      "WARNING:theano.tensor.opt:Cannot construct a scalar test value from a test value with no size: InplaceDimShuffle{x,0}.0\n",
      "WARNING (theano.tensor.opt): Cannot construct a scalar test value from a test value with no size: InplaceDimShuffle{x,0}.0\n",
      "WARNING:theano.tensor.opt:Cannot construct a scalar test value from a test value with no size: InplaceDimShuffle{x,0}.0\n",
      "WARNING (theano.tensor.opt): Cannot construct a scalar test value from a test value with no size: Elemwise{cos,no_inplace}.0\n",
      "WARNING:theano.tensor.opt:Cannot construct a scalar test value from a test value with no size: Elemwise{cos,no_inplace}.0\n",
      "WARNING (theano.tensor.opt): Cannot construct a scalar test value from a test value with no size: InplaceDimShuffle{x,0}.0\n",
      "WARNING:theano.tensor.opt:Cannot construct a scalar test value from a test value with no size: InplaceDimShuffle{x,0}.0\n",
      "WARNING (theano.tensor.opt): Cannot construct a scalar test value from a test value with no size: Elemwise{sin,no_inplace}.0\n",
      "WARNING:theano.tensor.opt:Cannot construct a scalar test value from a test value with no size: Elemwise{sin,no_inplace}.0\n",
      "WARNING (theano.tensor.opt): Cannot construct a scalar test value from a test value with no size: InplaceDimShuffle{x,0}.0\n",
      "WARNING:theano.tensor.opt:Cannot construct a scalar test value from a test value with no size: InplaceDimShuffle{x,0}.0\n",
      "WARNING (theano.tensor.opt): Cannot construct a scalar test value from a test value with no size: Elemwise{sin,no_inplace}.0\n",
      "WARNING:theano.tensor.opt:Cannot construct a scalar test value from a test value with no size: Elemwise{sin,no_inplace}.0\n",
      "WARNING (theano.tensor.opt): Cannot construct a scalar test value from a test value with no size: InplaceDimShuffle{x,0}.0\n",
      "WARNING:theano.tensor.opt:Cannot construct a scalar test value from a test value with no size: InplaceDimShuffle{x,0}.0\n",
      "WARNING (theano.tensor.opt): Cannot construct a scalar test value from a test value with no size: Elemwise{cos,no_inplace}.0\n",
      "WARNING:theano.tensor.opt:Cannot construct a scalar test value from a test value with no size: Elemwise{cos,no_inplace}.0\n",
      "optimizing logp for variables: [ecs, b, log_dur, t0, log_period, log_ror, log_rho_gp, log_sigma_gp, sigma, u, mean]\n"
     ]
    },
    {
     "data": {
      "text/html": [
       "\n",
       "<style>\n",
       "    /* Turns off some styling */\n",
       "    progress {\n",
       "        /* gets rid of default border in Firefox and Opera. */\n",
       "        border: none;\n",
       "        /* Needs to be in here for Safari polyfill so background images work as expected. */\n",
       "        background-size: auto;\n",
       "    }\n",
       "    progress:not([value]), progress:not([value])::-webkit-progress-bar {\n",
       "        background: repeating-linear-gradient(45deg, #7e7e7e, #7e7e7e 10px, #5c5c5c 10px, #5c5c5c 20px);\n",
       "    }\n",
       "    .progress-bar-interrupted, .progress-bar-interrupted::-webkit-progress-bar {\n",
       "        background: #F44336;\n",
       "    }\n",
       "</style>\n"
      ],
      "text/plain": [
       "<IPython.core.display.HTML object>"
      ]
     },
     "metadata": {},
     "output_type": "display_data"
    },
    {
     "data": {
      "text/html": [
       "\n",
       "    <div>\n",
       "      <progress value='50' class='' max='50' style='width:300px; height:20px; vertical-align: middle;'></progress>\n",
       "      100.00% [50/50 00:00&lt;00:00 logp = -1.279e+03]\n",
       "    </div>\n",
       "    "
      ],
      "text/plain": [
       "<IPython.core.display.HTML object>"
      ]
     },
     "metadata": {},
     "output_type": "display_data"
    },
    {
     "name": "stderr",
     "output_type": "stream",
     "text": [
      "message: Desired error not necessarily achieved due to precision loss.\n",
      "logp: -1278.5251405701074 -> -1278.5251071988707\n"
     ]
    },
    {
     "name": "stdout",
     "output_type": "stream",
     "text": [
      "\n"
     ]
    },
    {
     "name": "stderr",
     "output_type": "stream",
     "text": [
      "WARNING (theano.tensor.opt): Cannot construct a scalar test value from a test value with no size: InplaceDimShuffle{x,0}.0\n",
      "WARNING:theano.tensor.opt:Cannot construct a scalar test value from a test value with no size: InplaceDimShuffle{x,0}.0\n",
      "WARNING (theano.tensor.opt): Cannot construct a scalar test value from a test value with no size: Elemwise{cos,no_inplace}.0\n",
      "WARNING:theano.tensor.opt:Cannot construct a scalar test value from a test value with no size: Elemwise{cos,no_inplace}.0\n",
      "WARNING (theano.tensor.opt): Cannot construct a scalar test value from a test value with no size: InplaceDimShuffle{x,0}.0\n",
      "WARNING:theano.tensor.opt:Cannot construct a scalar test value from a test value with no size: InplaceDimShuffle{x,0}.0\n",
      "WARNING (theano.tensor.opt): Cannot construct a scalar test value from a test value with no size: Elemwise{sin,no_inplace}.0\n",
      "WARNING:theano.tensor.opt:Cannot construct a scalar test value from a test value with no size: Elemwise{sin,no_inplace}.0\n",
      "WARNING (theano.tensor.opt): Cannot construct a scalar test value from a test value with no size: InplaceDimShuffle{x,0}.0\n",
      "WARNING:theano.tensor.opt:Cannot construct a scalar test value from a test value with no size: InplaceDimShuffle{x,0}.0\n",
      "WARNING (theano.tensor.opt): Cannot construct a scalar test value from a test value with no size: Elemwise{sin,no_inplace}.0\n",
      "WARNING:theano.tensor.opt:Cannot construct a scalar test value from a test value with no size: Elemwise{sin,no_inplace}.0\n",
      "WARNING (theano.tensor.opt): Cannot construct a scalar test value from a test value with no size: InplaceDimShuffle{x,0}.0\n",
      "WARNING:theano.tensor.opt:Cannot construct a scalar test value from a test value with no size: InplaceDimShuffle{x,0}.0\n",
      "WARNING (theano.tensor.opt): Cannot construct a scalar test value from a test value with no size: Elemwise{cos,no_inplace}.0\n",
      "WARNING:theano.tensor.opt:Cannot construct a scalar test value from a test value with no size: Elemwise{cos,no_inplace}.0\n"
     ]
    },
    {
     "data": {
      "image/png": "[encoded data removed]",
      "text/plain": [
       "<Figure size 576x288 with 2 Axes>"
      ]
     },
     "metadata": {
      "needs_background": "light"
     },
     "output_type": "display_data"
    }
   ],
   "source": [
    "import pymc3 as pm\n",
    "import aesara_theano_fallback.tensor as tt\n",
    "\n",
    "import pymc3_ext as pmx\n",
    "from celerite2.theano import terms, GaussianProcess\n",
    "\n",
    "\n",
    "with pm.Model() as model:\n",
    "\n",
    "    # Stellar parameters\n",
    "    mean = pm.Normal(\"mean\", mu=1.002, sigma=10.0)\n",
    "    u = xo.QuadLimbDark(\"u\")\n",
    "    star_params = [mean, u]\n",
    "\n",
    "    # Gaussian process noise model\n",
    "    sigma = pm.InverseGamma(\"sigma\", alpha=3.0, beta=2 * np.median(yerr))\n",
    "    log_sigma_gp = pm.Normal(\"log_sigma_gp\", mu=1.0, sigma=10.0)\n",
    "    log_rho_gp = pm.Normal(\"log_rho_gp\", mu=np.log(10.0), sigma=10.0)\n",
    "    kernel = terms.SHOTerm(\n",
    "        sigma=tt.exp(log_sigma_gp), rho=tt.exp(log_rho_gp), Q=1.0 / 3\n",
    "    )\n",
    "    noise_params = [sigma, log_sigma_gp, log_rho_gp]\n",
    "\n",
    "    # Planet parameters\n",
    "    log_ror = pm.Normal(\n",
    "        \"log_ror\", mu=0.5 * np.log(depth_guess * 2.9e-3), sigma=10.0\n",
    "    )\n",
    "    ror = pm.Deterministic(\"ror\", tt.exp(log_ror))\n",
    "\n",
    "    # Orbital parameters\n",
    "    log_period = pm.Normal(\"log_period\", mu=np.log(period_guess), sigma=1.0)\n",
    "    period = pm.Deterministic(\"period\", tt.exp(log_period))\n",
    "    t0 = pm.Normal(\"t0\", mu=t0_guess, sigma=1.0)\n",
    "    log_dur = pm.Normal(\"log_dur\", mu=np.log(0.1)*0.7, sigma=10.0)\n",
    "    dur = pm.Deterministic(\"dur\", tt.exp(log_dur))\n",
    "    b = xo.distributions.ImpactParameter(\"b\", ror=ror)\n",
    "\n",
    "    #Eccentricity\n",
    "    ecs = pmx.UnitDisk(\"ecs\", testval=np.array([0.01, 0.0]))\n",
    "    ecc = pm.Deterministic(\"ecc\", tt.sum(ecs**2))\n",
    "    omega = pm.Deterministic(\"omega\", tt.arctan2(ecs[1], ecs[0]))\n",
    "    xo.eccentricity.kipping13(\"ecc_prior\", fixed=True, observed=ecc)\n",
    "\n",
    "    # Set up the orbit\n",
    "    orbit = xo.orbits.KeplerianOrbit(\n",
    "        period=period, \n",
    "        duration=dur, \n",
    "        t0=t0, \n",
    "        #b=b,\n",
    "        ecc=ecc,\n",
    "        omega=omega,\n",
    "        )\n",
    "\n",
    "    # We're going to track the implied density for reasons that will become clear later\n",
    "    pm.Deterministic(\"rho_circ\", orbit.rho_star)\n",
    "\n",
    "    # Set up the mean transit model\n",
    "    star = xo.LimbDarkLightCurve(u)\n",
    "    lc_model = mean + 1e3 * tt.sum(\n",
    "        star.get_light_curve(orbit=orbit, r=ror, t=x), axis=-1\n",
    "    )\n",
    "\n",
    "    # Finally the GP observation model\n",
    "    gp = GaussianProcess(kernel, t=x, diag=yerr**2 + sigma**2)\n",
    "    gp.marginal(\"obs\", observed=y - lc_model)\n",
    "\n",
    "    # Double check that everything looks good - we shouldn't see any NaNs!\n",
    "    print(model.check_test_point())\n",
    "\n",
    "    # Optimize the model\n",
    "    map_soln = model.test_point\n",
    "    map_soln = pmx.optimize(map_soln, [sigma])\n",
    "    map_soln = pmx.optimize(map_soln, [ror, b, dur])\n",
    "    map_soln = pmx.optimize(start=map_soln, vars=[ecs, ecc, omega])\n",
    "    map_soln = pmx.optimize(map_soln, noise_params)\n",
    "    map_soln = pmx.optimize(map_soln, star_params)\n",
    "    map_soln = pmx.optimize(map_soln)\n",
    "    "
   ]
  },
  {
   "cell_type": "code",
   "execution_count": 67,
   "metadata": {},
   "outputs": [
    {
     "data": {
      "text/plain": [
       "{'mean': array(1.00017307),\n",
       " 'u_quadlimbdark__': array([2.30927899e-05, 2.47124072e-06]),\n",
       " 'sigma_log__': array(-2.22664563),\n",
       " 'log_sigma_gp': array(-5.00432042),\n",
       " 'log_rho_gp': array(2.30265709),\n",
       " 'log_ror': array(-6.07916212),\n",
       " 'log_period': array(2.9561081),\n",
       " 't0': array(145.81384414),\n",
       " 'log_dur': array(-1.67884291),\n",
       " 'b_impact__': array(-2.07243269e-08),\n",
       " 'ecs_unitdisk+interval__': array([ 1.92889759e-06, -3.91636431e-01]),\n",
       " 'u': array([ 7.07111737e-01, -8.73720578e-07]),\n",
       " 'sigma': array(0.10788973),\n",
       " 'ror': array(0.00229009),\n",
       " 'period': array(19.2230119),\n",
       " 'dur': array(0.18658975),\n",
       " 'b': array(0.50114504),\n",
       " 'ecs': array([ 9.64448795e-07, -1.93353149e-01]),\n",
       " 'ecc': array(0.03738544),\n",
       " 'omega': array(-1.57079134),\n",
       " 'rho_circ': array(1.40977982)}"
      ]
     },
     "execution_count": 67,
     "metadata": {},
     "output_type": "execute_result"
    }
   ],
   "source": [
    "map_soln"
   ]
  },
  {
   "cell_type": "code",
   "execution_count": 68,
   "metadata": {},
   "outputs": [
    {
     "name": "stderr",
     "output_type": "stream",
     "text": [
      "/tmp/ipykernel_5632/2466044570.py:4: DeprecationWarning: Call to deprecated Parameter start. (renamed to `initvals` in PyMC v4.0.0) -- Deprecated since v3.11.5.\n",
      "  tracer = pm.sample(\n",
      "WARNING (theano.tensor.opt): Cannot construct a scalar test value from a test value with no size: InplaceDimShuffle{x,0}.0\n",
      "WARNING:theano.tensor.opt:Cannot construct a scalar test value from a test value with no size: InplaceDimShuffle{x,0}.0\n",
      "WARNING (theano.tensor.opt): Cannot construct a scalar test value from a test value with no size: Elemwise{cos,no_inplace}.0\n",
      "WARNING:theano.tensor.opt:Cannot construct a scalar test value from a test value with no size: Elemwise{cos,no_inplace}.0\n",
      "WARNING (theano.tensor.opt): Cannot construct a scalar test value from a test value with no size: InplaceDimShuffle{x,0}.0\n",
      "WARNING:theano.tensor.opt:Cannot construct a scalar test value from a test value with no size: InplaceDimShuffle{x,0}.0\n",
      "WARNING (theano.tensor.opt): Cannot construct a scalar test value from a test value with no size: Elemwise{sin,no_inplace}.0\n",
      "WARNING:theano.tensor.opt:Cannot construct a scalar test value from a test value with no size: Elemwise{sin,no_inplace}.0\n",
      "WARNING (theano.tensor.opt): Cannot construct a scalar test value from a test value with no size: InplaceDimShuffle{x,0}.0\n",
      "WARNING:theano.tensor.opt:Cannot construct a scalar test value from a test value with no size: InplaceDimShuffle{x,0}.0\n",
      "WARNING (theano.tensor.opt): Cannot construct a scalar test value from a test value with no size: Elemwise{sin,no_inplace}.0\n",
      "WARNING:theano.tensor.opt:Cannot construct a scalar test value from a test value with no size: Elemwise{sin,no_inplace}.0\n",
      "WARNING (theano.tensor.opt): Cannot construct a scalar test value from a test value with no size: InplaceDimShuffle{x,0}.0\n",
      "WARNING:theano.tensor.opt:Cannot construct a scalar test value from a test value with no size: InplaceDimShuffle{x,0}.0\n",
      "WARNING (theano.tensor.opt): Cannot construct a scalar test value from a test value with no size: Elemwise{cos,no_inplace}.0\n",
      "WARNING:theano.tensor.opt:Cannot construct a scalar test value from a test value with no size: Elemwise{cos,no_inplace}.0\n",
      "Auto-assigning NUTS sampler...\n",
      "INFO:pymc3:Auto-assigning NUTS sampler...\n",
      "Initializing NUTS using adapt_full...\n",
      "INFO:pymc3:Initializing NUTS using adapt_full...\n",
      "/home/cm2435/anaconda3/envs/uni_cw/lib/python3.9/site-packages/pymc3/step_methods/hmc/quadpotential.py:510: UserWarning: QuadPotentialFullAdapt is an experimental feature\n",
      "  warnings.warn(\"QuadPotentialFullAdapt is an experimental feature\")\n",
      "WARNING (theano.tensor.opt): Cannot construct a scalar test value from a test value with no size: Elemwise{mul}.0\n",
      "WARNING:theano.tensor.opt:Cannot construct a scalar test value from a test value with no size: Elemwise{mul}.0\n",
      "WARNING (theano.tensor.opt): Cannot construct a scalar test value from a test value with no size: Elemwise{sin,no_inplace}.0\n",
      "WARNING:theano.tensor.opt:Cannot construct a scalar test value from a test value with no size: Elemwise{sin,no_inplace}.0\n",
      "WARNING (theano.tensor.opt): Cannot construct a scalar test value from a test value with no size: Elemwise{cos,no_inplace}.0\n",
      "WARNING:theano.tensor.opt:Cannot construct a scalar test value from a test value with no size: Elemwise{cos,no_inplace}.0\n",
      "WARNING (theano.tensor.opt): Cannot construct a scalar test value from a test value with no size: Elemwise{mul}.0\n",
      "WARNING:theano.tensor.opt:Cannot construct a scalar test value from a test value with no size: Elemwise{mul}.0\n",
      "WARNING (theano.tensor.opt): Cannot construct a scalar test value from a test value with no size: {self.__class__.__name__ }{{{self.len_splits}}}.1\n",
      "WARNING:theano.tensor.opt:Cannot construct a scalar test value from a test value with no size: {self.__class__.__name__ }{{{self.len_splits}}}.1\n",
      "WARNING (theano.tensor.opt): Cannot construct a scalar test value from a test value with no size: Elemwise{mul}.0\n",
      "WARNING:theano.tensor.opt:Cannot construct a scalar test value from a test value with no size: Elemwise{mul}.0\n",
      "WARNING (theano.tensor.opt): Cannot construct a scalar test value from a test value with no size: Elemwise{mul}.0\n",
      "WARNING:theano.tensor.opt:Cannot construct a scalar test value from a test value with no size: Elemwise{mul}.0\n",
      "WARNING (theano.tensor.opt): Cannot construct a scalar test value from a test value with no size: {self.__class__.__name__ }{{{self.len_splits}}}.2\n",
      "WARNING:theano.tensor.opt:Cannot construct a scalar test value from a test value with no size: {self.__class__.__name__ }{{{self.len_splits}}}.2\n",
      "WARNING (theano.tensor.opt): Cannot construct a scalar test value from a test value with no size: {self.__class__.__name__ }{{{self.len_splits}}}.1\n",
      "WARNING:theano.tensor.opt:Cannot construct a scalar test value from a test value with no size: {self.__class__.__name__ }{{{self.len_splits}}}.1\n",
      "WARNING (theano.tensor.opt): Cannot construct a scalar test value from a test value with no size: InplaceDimShuffle{x,0}.0\n",
      "WARNING:theano.tensor.opt:Cannot construct a scalar test value from a test value with no size: InplaceDimShuffle{x,0}.0\n",
      "WARNING (theano.tensor.opt): Cannot construct a scalar test value from a test value with no size: {self.__class__.__name__ }{{{self.len_splits}}}.2\n",
      "WARNING:theano.tensor.opt:Cannot construct a scalar test value from a test value with no size: {self.__class__.__name__ }{{{self.len_splits}}}.2\n",
      "WARNING (theano.tensor.opt): Cannot construct a scalar test value from a test value with no size: InplaceDimShuffle{x,0}.0\n",
      "WARNING:theano.tensor.opt:Cannot construct a scalar test value from a test value with no size: InplaceDimShuffle{x,0}.0\n",
      "WARNING (theano.tensor.opt): Cannot construct a scalar test value from a test value with no size: InplaceDimShuffle{x,0}.0\n",
      "WARNING:theano.tensor.opt:Cannot construct a scalar test value from a test value with no size: InplaceDimShuffle{x,0}.0\n",
      "WARNING (theano.tensor.opt): Cannot construct a scalar test value from a test value with no size: Elemwise{cos,no_inplace}.0\n",
      "WARNING:theano.tensor.opt:Cannot construct a scalar test value from a test value with no size: Elemwise{cos,no_inplace}.0\n",
      "WARNING (theano.tensor.opt): Cannot construct a scalar test value from a test value with no size: InplaceDimShuffle{x,0}.0\n",
      "WARNING:theano.tensor.opt:Cannot construct a scalar test value from a test value with no size: InplaceDimShuffle{x,0}.0\n",
      "WARNING (theano.tensor.opt): Cannot construct a scalar test value from a test value with no size: Elemwise{sin,no_inplace}.0\n",
      "WARNING:theano.tensor.opt:Cannot construct a scalar test value from a test value with no size: Elemwise{sin,no_inplace}.0\n",
      "WARNING (theano.tensor.opt): Cannot construct a scalar test value from a test value with no size: InplaceDimShuffle{x,0}.0\n",
      "WARNING:theano.tensor.opt:Cannot construct a scalar test value from a test value with no size: InplaceDimShuffle{x,0}.0\n",
      "WARNING (theano.tensor.opt): Cannot construct a scalar test value from a test value with no size: Elemwise{sin,no_inplace}.0\n",
      "WARNING:theano.tensor.opt:Cannot construct a scalar test value from a test value with no size: Elemwise{sin,no_inplace}.0\n",
      "WARNING (theano.tensor.opt): Cannot construct a scalar test value from a test value with no size: InplaceDimShuffle{x,0}.0\n",
      "WARNING:theano.tensor.opt:Cannot construct a scalar test value from a test value with no size: InplaceDimShuffle{x,0}.0\n",
      "WARNING (theano.tensor.opt): Cannot construct a scalar test value from a test value with no size: Elemwise{cos,no_inplace}.0\n",
      "WARNING:theano.tensor.opt:Cannot construct a scalar test value from a test value with no size: Elemwise{cos,no_inplace}.0\n",
      "Multiprocess sampling (2 chains in 16 jobs)\n",
      "INFO:pymc3:Multiprocess sampling (2 chains in 16 jobs)\n",
      "NUTS: [ecs, b, log_dur, t0, log_period, log_ror, log_rho_gp, log_sigma_gp, sigma, u, mean]\n",
      "INFO:pymc3:NUTS: [ecs, b, log_dur, t0, log_period, log_ror, log_rho_gp, log_sigma_gp, sigma, u, mean]\n"
     ]
    },
    {
     "data": {
      "text/html": [
       "\n",
       "<style>\n",
       "    /* Turns off some styling */\n",
       "    progress {\n",
       "        /* gets rid of default border in Firefox and Opera. */\n",
       "        border: none;\n",
       "        /* Needs to be in here for Safari polyfill so background images work as expected. */\n",
       "        background-size: auto;\n",
       "    }\n",
       "    progress:not([value]), progress:not([value])::-webkit-progress-bar {\n",
       "        background: repeating-linear-gradient(45deg, #7e7e7e, #7e7e7e 10px, #5c5c5c 10px, #5c5c5c 20px);\n",
       "    }\n",
       "    .progress-bar-interrupted, .progress-bar-interrupted::-webkit-progress-bar {\n",
       "        background: #F44336;\n",
       "    }\n",
       "</style>\n"
      ],
      "text/plain": [
       "<IPython.core.display.HTML object>"
      ]
     },
     "metadata": {},
     "output_type": "display_data"
    },
    {
     "data": {
      "text/html": [
       "\n",
       "    <div>\n",
       "      <progress value='10000' class='' max='10000' style='width:300px; height:20px; vertical-align: middle;'></progress>\n",
       "      100.00% [10000/10000 1:12:01&lt;00:00 Sampling 2 chains, 89 divergences]\n",
       "    </div>\n",
       "    "
      ],
      "text/plain": [
       "<IPython.core.display.HTML object>"
      ]
     },
     "metadata": {},
     "output_type": "display_data"
    },
    {
     "name": "stderr",
     "output_type": "stream",
     "text": [
      "Sampling 2 chains for 3_000 tune and 2_000 draw iterations (6_000 + 4_000 draws total) took 4321 seconds.\n",
      "INFO:pymc3:Sampling 2 chains for 3_000 tune and 2_000 draw iterations (6_000 + 4_000 draws total) took 4321 seconds.\n",
      "WARNING (theano.tensor.opt): Cannot construct a scalar test value from a test value with no size: InplaceDimShuffle{x,0}.0\n",
      "WARNING:theano.tensor.opt:Cannot construct a scalar test value from a test value with no size: InplaceDimShuffle{x,0}.0\n",
      "WARNING (theano.tensor.opt): Cannot construct a scalar test value from a test value with no size: Elemwise{cos,no_inplace}.0\n",
      "WARNING:theano.tensor.opt:Cannot construct a scalar test value from a test value with no size: Elemwise{cos,no_inplace}.0\n",
      "WARNING (theano.tensor.opt): Cannot construct a scalar test value from a test value with no size: InplaceDimShuffle{x,0}.0\n",
      "WARNING:theano.tensor.opt:Cannot construct a scalar test value from a test value with no size: InplaceDimShuffle{x,0}.0\n",
      "WARNING (theano.tensor.opt): Cannot construct a scalar test value from a test value with no size: Elemwise{sin,no_inplace}.0\n",
      "WARNING:theano.tensor.opt:Cannot construct a scalar test value from a test value with no size: Elemwise{sin,no_inplace}.0\n",
      "WARNING (theano.tensor.opt): Cannot construct a scalar test value from a test value with no size: InplaceDimShuffle{x,0}.0\n",
      "WARNING:theano.tensor.opt:Cannot construct a scalar test value from a test value with no size: InplaceDimShuffle{x,0}.0\n",
      "WARNING (theano.tensor.opt): Cannot construct a scalar test value from a test value with no size: Elemwise{sin,no_inplace}.0\n",
      "WARNING:theano.tensor.opt:Cannot construct a scalar test value from a test value with no size: Elemwise{sin,no_inplace}.0\n",
      "WARNING (theano.tensor.opt): Cannot construct a scalar test value from a test value with no size: InplaceDimShuffle{x,0}.0\n",
      "WARNING:theano.tensor.opt:Cannot construct a scalar test value from a test value with no size: InplaceDimShuffle{x,0}.0\n",
      "WARNING (theano.tensor.opt): Cannot construct a scalar test value from a test value with no size: Elemwise{cos,no_inplace}.0\n",
      "WARNING:theano.tensor.opt:Cannot construct a scalar test value from a test value with no size: Elemwise{cos,no_inplace}.0\n",
      "There were 89 divergences after tuning. Increase `target_accept` or reparameterize.\n",
      "ERROR:pymc3:There were 89 divergences after tuning. Increase `target_accept` or reparameterize.\n",
      "The chain reached the maximum tree depth. Increase max_treedepth, increase target_accept or reparameterize.\n",
      "WARNING:pymc3:The chain reached the maximum tree depth. Increase max_treedepth, increase target_accept or reparameterize.\n",
      "The chain reached the maximum tree depth. Increase max_treedepth, increase target_accept or reparameterize.\n",
      "WARNING:pymc3:The chain reached the maximum tree depth. Increase max_treedepth, increase target_accept or reparameterize.\n",
      "The rhat statistic is larger than 1.4 for some parameters. The sampler did not converge.\n",
      "ERROR:pymc3:The rhat statistic is larger than 1.4 for some parameters. The sampler did not converge.\n",
      "The estimated number of effective samples is smaller than 200 for some parameters.\n",
      "ERROR:pymc3:The estimated number of effective samples is smaller than 200 for some parameters.\n"
     ]
    }
   ],
   "source": [
    "with model:\n",
    "    tracer = pm.sample(\n",
    "        tune=3000,\n",
    "        draws=2000,\n",
    "        start=map_soln,\n",
    "        # Parallel sampling runs poorly or crashes on macos\n",
    "        #var_names = [\"u_quadlimbdark__\", \"ecc\", \"u\", \"log_sigma_gp\", \"log_rho_gp\"],\n",
    "        cores=16,\n",
    "        chains=2,\n",
    "        target_accept=0.95,\n",
    "        return_inferencedata=True,\n",
    "        random_seed=[261136679, 261136680],\n",
    "        init=\"adapt_full\",\n",
    "    )"
   ]
  },
  {
   "cell_type": "code",
   "execution_count": 78,
   "metadata": {},
   "outputs": [
    {
     "name": "stderr",
     "output_type": "stream",
     "text": [
      "WARNING (theano.tensor.opt): Cannot construct a scalar test value from a test value with no size: InplaceDimShuffle{x,0}.0\n",
      "WARNING:theano.tensor.opt:Cannot construct a scalar test value from a test value with no size: InplaceDimShuffle{x,0}.0\n",
      "WARNING (theano.tensor.opt): Cannot construct a scalar test value from a test value with no size: Elemwise{cos,no_inplace}.0\n",
      "WARNING:theano.tensor.opt:Cannot construct a scalar test value from a test value with no size: Elemwise{cos,no_inplace}.0\n",
      "WARNING (theano.tensor.opt): Cannot construct a scalar test value from a test value with no size: InplaceDimShuffle{x,0}.0\n",
      "WARNING:theano.tensor.opt:Cannot construct a scalar test value from a test value with no size: InplaceDimShuffle{x,0}.0\n",
      "WARNING (theano.tensor.opt): Cannot construct a scalar test value from a test value with no size: Elemwise{sin,no_inplace}.0\n",
      "WARNING:theano.tensor.opt:Cannot construct a scalar test value from a test value with no size: Elemwise{sin,no_inplace}.0\n",
      "WARNING (theano.tensor.opt): Cannot construct a scalar test value from a test value with no size: InplaceDimShuffle{x,0}.0\n",
      "WARNING:theano.tensor.opt:Cannot construct a scalar test value from a test value with no size: InplaceDimShuffle{x,0}.0\n",
      "WARNING (theano.tensor.opt): Cannot construct a scalar test value from a test value with no size: Elemwise{sin,no_inplace}.0\n",
      "WARNING:theano.tensor.opt:Cannot construct a scalar test value from a test value with no size: Elemwise{sin,no_inplace}.0\n",
      "WARNING (theano.tensor.opt): Cannot construct a scalar test value from a test value with no size: InplaceDimShuffle{x,0}.0\n",
      "WARNING:theano.tensor.opt:Cannot construct a scalar test value from a test value with no size: InplaceDimShuffle{x,0}.0\n",
      "WARNING (theano.tensor.opt): Cannot construct a scalar test value from a test value with no size: Elemwise{cos,no_inplace}.0\n",
      "WARNING:theano.tensor.opt:Cannot construct a scalar test value from a test value with no size: Elemwise{cos,no_inplace}.0\n"
     ]
    },
    {
     "data": {
      "image/png": "[encoded data removed]",
      "text/plain": [
       "<Figure size 576x288 with 2 Axes>"
      ]
     },
     "metadata": {
      "needs_background": "light"
     },
     "output_type": "display_data"
    }
   ],
   "source": [
    "import arviz as az\n",
    "\n",
    "sample_summary = az.summary(\n",
    "    trace\n",
    "    )\n",
    "\n",
    "with model:\n",
    "    lc_pred = pmx.eval_in_model(lc_model, map_soln)\n",
    "    gp_pred = pmx.eval_in_model(gp.predict(y - lc_pred), map_soln)\n",
    "\n",
    "plt.figure(figsize=(8, 4))\n",
    "x_fold = (x - map_soln[\"t0\"] + 0.5 * map_soln[\"period\"]) % map_soln[\n",
    "    \"period\"\n",
    "] - 0.5 * map_soln[\"period\"]\n",
    "\n",
    "\n",
    "inds = np.argsort(x_fold)\n",
    "plt.scatter(x_fold, y - gp_pred - map_soln[\"mean\"], c=x, s=3)\n",
    "plt.plot(x_fold[inds], lc_pred[inds] - map_soln[\"mean\"], \"k\")\n",
    "plt.fill_between(x_fold[inds], \n",
    "            y1 = lc_pred[inds] - map_soln[\"mean\"] - sample_summary['sd']['mean'], \n",
    "            y2 = lc_pred[inds] - map_soln[\"mean\"] + sample_summary['sd']['mean'],\n",
    "            alpha = 0.3\n",
    "    )\n",
    "plt.xlabel(\"time since transit [days]\")\n",
    "plt.ylabel(\"relative flux [ppt]\")\n",
    "plt.colorbar(label=\"time [days]\")\n",
    "_ = plt.xlim(-0.25, 0.25)"
   ]
  },
  {
   "cell_type": "code",
   "execution_count": 79,
   "metadata": {},
   "outputs": [
    {
     "ename": "FileNotFoundError",
     "evalue": "[Errno 2] No such file or directory: 'trace_obj.bin'",
     "output_type": "error",
     "traceback": [
      "\u001b[0;31m---------------------------------------------------------------------------\u001b[0m",
      "\u001b[0;31mFileNotFoundError\u001b[0m                         Traceback (most recent call last)",
      "\u001b[1;32m/home/cm2435/Desktop/university_computing_y3/ph30016_b/Chapter3_ExoLightCurves.ipynb Cell 45\u001b[0m in \u001b[0;36m<cell line: 2>\u001b[0;34m()\u001b[0m\n\u001b[1;32m      <a href='vscode-notebook-cell:/home/cm2435/Desktop/university_computing_y3/ph30016_b/Chapter3_ExoLightCurves.ipynb#Y133sZmlsZQ%3D%3D?line=0'>1</a>\u001b[0m \u001b[39mimport\u001b[39;00m \u001b[39mpickle\u001b[39;00m \n\u001b[0;32m----> <a href='vscode-notebook-cell:/home/cm2435/Desktop/university_computing_y3/ph30016_b/Chapter3_ExoLightCurves.ipynb#Y133sZmlsZQ%3D%3D?line=1'>2</a>\u001b[0m \u001b[39mwith\u001b[39;00m \u001b[39mopen\u001b[39;49m(\u001b[39m\"\u001b[39;49m\u001b[39mtrace_obj.bin\u001b[39;49m\u001b[39m\"\u001b[39;49m, \u001b[39m\"\u001b[39;49m\u001b[39mrb\u001b[39;49m\u001b[39m\"\u001b[39;49m) \u001b[39mas\u001b[39;00m f: \n\u001b[1;32m      <a href='vscode-notebook-cell:/home/cm2435/Desktop/university_computing_y3/ph30016_b/Chapter3_ExoLightCurves.ipynb#Y133sZmlsZQ%3D%3D?line=2'>3</a>\u001b[0m     pickle\u001b[39m.\u001b[39mdumps(trace, f)\n",
      "\u001b[0;31mFileNotFoundError\u001b[0m: [Errno 2] No such file or directory: 'trace_obj.bin'"
     ]
    }
   ],
   "source": [
    "import pickle \n",
    "with open(\".trace_obj.bin\", \"rb\") as f: \n",
    "    pickle.dumps(trace, f)"
   ]
  },
  {
   "cell_type": "code",
   "execution_count": 55,
   "metadata": {},
   "outputs": [
    {
     "name": "stderr",
     "output_type": "stream",
     "text": [
      "WARNING:root:Too few points to create valid contours\n",
      "WARNING:root:Too few points to create valid contours\n",
      "WARNING:root:Too few points to create valid contours\n",
      "WARNING:root:Too few points to create valid contours\n",
      "WARNING:root:Too few points to create valid contours\n",
      "WARNING:root:Too few points to create valid contours\n"
     ]
    },
    {
     "data": {
      "image/png": "[encoded data removed]",
      "text/plain": [
       "<Figure size 698.4x698.4 with 16 Axes>"
      ]
     },
     "metadata": {
      "needs_background": "light"
     },
     "output_type": "display_data"
    }
   ],
   "source": [
    "import corner\n",
    "\n",
    "_ = corner.corner(\n",
    "    trace, var_names=[\"log_sigma_gp\", \"ror\", \"b\", \"ecc\"]\n",
    ")"
   ]
  },
  {
   "cell_type": "code",
   "execution_count": 69,
   "metadata": {},
   "outputs": [
    {
     "data": {
      "text/plain": [
       "[<matplotlib.lines.Line2D at 0x7f9a24ed4790>]"
      ]
     },
     "execution_count": 69,
     "metadata": {},
     "output_type": "execute_result"
    },
    {
     "data": {
      "image/png": "[encoded data removed]",
      "text/plain": [
       "<Figure size 432x288 with 1 Axes>"
      ]
     },
     "metadata": {
      "needs_background": "light"
     },
     "output_type": "display_data"
    }
   ],
   "source": [
    "#time_arr\n",
    "T = time_arr[0]\n",
    "dt = time_arr[-1] - time_arr[0]\n",
    "\n",
    "import scipy.signal\n",
    "from scipy.signal import lombscargle\n",
    "freqs = np.linspace((1/T),(1/dt), 2000)\n",
    "lomb = scipy.signal.lombscargle(time_arr, flux_arr, freqs, precenter=True)\n",
    "\n",
    "plt.plot(freqs, lomb)"
   ]
  },
  {
   "cell_type": "code",
   "execution_count": null,
   "metadata": {},
   "outputs": [],
   "source": [
    "period = np.argmax(lomb)\n",
    "print(f\"the maximal period is {period}\")"
   ]
  },
  {
   "cell_type": "code",
   "execution_count": null,
   "metadata": {},
   "outputs": [],
   "source": [
    "period = np.linspace(1, freqs[-1], 2000)\n",
    "lomb2 = lombscargle(freqs, lomb, period, precenter = True)\n",
    "\n",
    "plt.plot(period, lomb2)\n",
    "\n",
    "period_final = np.argmax(lomb2)\n",
    "print(f\"the final found period is {period_final}\")"
   ]
  },
  {
   "cell_type": "code",
   "execution_count": null,
   "metadata": {},
   "outputs": [],
   "source": [
    "def model_curve(x, d, transit_b, transit_e) -> float: \n",
    "    \"\"\"\n",
    "    \"\"\"\n",
    "    m = (16 * (1-d) / (transit_e - transit_b)**4) * (x - (transit_e+transit_b) / 2)**4 + d\n",
    "    return m"
   ]
  },
  {
   "cell_type": "code",
   "execution_count": null,
   "metadata": {},
   "outputs": [],
   "source": [
    "periods_found_from_lomb = [19.221, 38.433512752318606]"
   ]
  },
  {
   "cell_type": "code",
   "execution_count": null,
   "metadata": {},
   "outputs": [],
   "source": [
    "import pandas as pd \n",
    "from typing import Optional\n"
   ]
  },
  {
   "cell_type": "code",
   "execution_count": null,
   "metadata": {},
   "outputs": [],
   "source": [
    "from utils import fold_lightcurve, model_curve\n",
    "\n",
    "time_final, p_final, pflux_final, pflux_error_final = fold_lightcurve(\n",
    "                                            time.tolist(), \n",
    "                                            flux.tolist(), \n",
    "                                            flux_err.tolist(), \n",
    "                                            periods_found_from_lomb[0]\n",
    "    )\n",
    "\n",
    "area_mask = (p_final < 1.598) & (p_final > 1.589) & (pflux_final < 0.9985)\n",
    "plot_mask = (p_final < 1.7) & (p_final > 1.5) \n",
    "tester = model_curve(p_final[area_mask], 0.994, 1.589, 1.598)\n",
    "\n",
    "plt.figure(figsize = (12, 6))\n",
    "\n",
    "plt.plot(p_final[plot_mask], pflux_final[plot_mask], ls=\"None\", marker=\"o\", ms=3)#ls = 'none')\n",
    "plt.plot(p_final[plot_mask], pflux_error_final[plot_mask], ls=\"None\", ms=3)#ls = 'none')\n",
    "\n",
    "plt.plot(p_final[area_mask], tester, ls=\"None\", marker=\"x\", ms=3)#ls = 'none')\n",
    "\n",
    "plt.xlim(1.57, 1.64)\n",
    "plt.ylim(0.9925, 1.002)\n",
    "plt.show()"
   ]
  },
  {
   "cell_type": "code",
   "execution_count": null,
   "metadata": {},
   "outputs": [],
   "source": [
    "transit_middle_mask = np.logical_and(p_final > 1.588, p_final < 1.5975)\n",
    "transit_middle_mask = np.logical_and(pflux_final > 0.9995, transit_middle_mask)\n",
    "\n",
    "left_clean = np.logical_and(pflux_final < 0.999, p_final < 1.588)\n"
   ]
  },
  {
   "cell_type": "code",
   "execution_count": null,
   "metadata": {},
   "outputs": [],
   "source": [
    "area_mask = (p_final < 1.605) & (p_final > 1.58)\n",
    "area_mask = np.logical_and(area_mask, ~left_clean)\n",
    "area_mask = np.logical_and(area_mask, ~transit_middle_mask)\n",
    "\n"
   ]
  },
  {
   "cell_type": "code",
   "execution_count": null,
   "metadata": {},
   "outputs": [],
   "source": [
    "x, y, yerr = p_final[area_mask], pflux_final[area_mask], pflux_error_final[area_mask]"
   ]
  },
  {
   "cell_type": "code",
   "execution_count": null,
   "metadata": {},
   "outputs": [],
   "source": [
    "time = np.ascontiguousarray(x)\n",
    "flux = np.ascontiguousarray(y)\n",
    "yerr = np.ascontiguousarray(yerr)"
   ]
  },
  {
   "cell_type": "code",
   "execution_count": null,
   "metadata": {},
   "outputs": [],
   "source": [
    "time_final, p_final, pflux_final, pflux_error_final = fold_lightcurve(\n",
    "                                            time.tolist(), \n",
    "                                            flux.tolist(), \n",
    "                                            flux_err.tolist(), \n",
    "                                            periods_found_from_lomb[1]\n",
    "    )\n",
    "\n",
    "area_mask = (p_final < 1.598) & (p_final > 1.589) & (pflux_final < 0.9985)\n",
    "plot_mask = (p_final < 1.7) & (p_final > 1.5) \n",
    "tester = model_curve(p_final[area_mask], 0.994, 1.589, 1.598)\n",
    "\n",
    "plt.figure(figsize = (12, 6))\n",
    "\n",
    "plt.plot(p_final[plot_mask], pflux_final[plot_mask], ls=\"None\", marker=\"o\", ms=3)#ls = 'none')\n",
    "plt.plot(p_final[area_mask], tester, ls=\"None\", marker=\"o\", ms=3)#ls = 'none')\n",
    "\n",
    "plt.xlim(1.57, 1.64)\n",
    "plt.ylim(0.9925, 1.002)\n",
    "plt.show()"
   ]
  },
  {
   "cell_type": "code",
   "execution_count": null,
   "metadata": {},
   "outputs": [],
   "source": [
    "print(periods_found_from_lomb[0])\n",
    "time_final1, p_final1, pflux_final1, pflux_error_final1 = fold_lightcurve(\n",
    "                                            time.tolist(), \n",
    "                                            flux.tolist(), \n",
    "                                            flux_err.tolist(), \n",
    "                                            periods_found_from_lomb[0], \n",
    "                                            verbose= True\n",
    "    )\n",
    "\n",
    "area_mask = (p_final < 1.598) & (p_final > 1.589) & (pflux_final < 0.9985)\n",
    "plot_mask = (p_final < 1.7) & (p_final > 1.5) \n",
    "tester = model_curve(p_final[area_mask], 0.994, 1.589, 1.598)\n",
    "\n",
    "\n",
    "#area_mask = (p_final < 1.33) & (p_final > 1.22) & (pflux_final < 0.998)\n",
    "#plot_mask = (p_final < 1.7) & (p_final > 1.5) \n",
    "#tester = model_curve(p_final[area_mask], 0.994, 1.589, 1.598)\n",
    "    "
   ]
  },
  {
   "cell_type": "code",
   "execution_count": null,
   "metadata": {},
   "outputs": [],
   "source": [
    "plt.figure(figsize = (12, 6))\n",
    "plt.plot(p_final1, pflux_final1, ls=\"None\", marker=\"o\", ms=3)#ls = 'none')\n",
    "#plt.plot(p_final[area_mask], tester, ls=\"None\", marker=\"o\", ms=1)#ls = 'none')\n",
    "#\n",
    "#\n",
    "plt.xlim(0.53, 0.58)\n",
    "#plt.ylim(0.9925, 1.002)\n",
    "#plt.show()"
   ]
  }
 ],
 "metadata": {
  "kernelspec": {
   "display_name": "Python 3.9.15 ('uni_cw')",
   "language": "python",
   "name": "python3"
  },
  "language_info": {
   "codemirror_mode": {
    "name": "ipython",
    "version": 3
   },
   "file_extension": ".py",
   "mimetype": "text/x-python",
   "name": "python",
   "nbconvert_exporter": "python",
   "pygments_lexer": "ipython3",
   "version": "3.9.15"
  },
  "vscode": {
   "interpreter": {
    "hash": "aef1e7821a4e8eecd89ce0954f50fbca96cae3cb2632883aa3b76ce24444486c"
   }
  }
 },
 "nbformat": 4,
 "nbformat_minor": 2
}
